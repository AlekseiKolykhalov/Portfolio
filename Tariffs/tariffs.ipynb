{
 "cells": [
  {
   "cell_type": "markdown",
   "metadata": {},
   "source": [
    "# Рекомендация тарифов"
   ]
  },
  {
   "cell_type": "markdown",
   "metadata": {},
   "source": [
    "В вашем распоряжении данные о поведении клиентов, которые уже перешли на эти тарифы. Нужно построить модель для задачи классификации, которая выберет подходящий тариф.\n",
    "\n",
    "Заказчик требует, чтобы метрика качества *accuracy* была не менее 0.75."
   ]
  },
  {
   "cell_type": "markdown",
   "metadata": {},
   "source": [
    "Описание данных"
   ]
  },
  {
   "cell_type": "markdown",
   "metadata": {},
   "source": [
    "Каждый объект в наборе данных — это информация о поведении одного пользователя за месяц. Известно:\n",
    "- сalls — количество звонков,\n",
    "- minutes — суммарная длительность звонков в минутах,\n",
    "- messages — количество sms-сообщений,\n",
    "- mb_used — израсходованный интернет-трафик в Мб,\n",
    "- is_ultra — каким тарифом пользовался в течение месяца («Ультра» — 1, «Смарт» — 0)."
   ]
  },
  {
   "cell_type": "markdown",
   "metadata": {},
   "source": [
    "План работы"
   ]
  },
  {
   "cell_type": "markdown",
   "metadata": {},
   "source": [
    "1. Изучим данные.\n",
    "2. Разделим данные на три выборки.\n",
    "3. Исследуем модели классификации: дерево решений, случайный лес, логистическая регрессия.\n",
    "4. Подберем лучшие гиперпараметры.\n",
    "5. Проверим модель на тестовой выборке."
   ]
  },
  {
   "cell_type": "code",
   "execution_count": 1,
   "metadata": {},
   "outputs": [],
   "source": [
    "import pandas as pd\n",
    "import numpy as np\n",
    "import matplotlib.pyplot as plt\n",
    "import seaborn as sns\n",
    "\n",
    "from sklearn.tree import DecisionTreeClassifier\n",
    "from sklearn.ensemble import RandomForestClassifier\n",
    "from sklearn.metrics import accuracy_score\n",
    "from sklearn.model_selection import train_test_split\n",
    "from sklearn.linear_model import LogisticRegression"
   ]
  },
  {
   "cell_type": "markdown",
   "metadata": {},
   "source": [
    "## Изучим файл"
   ]
  },
  {
   "cell_type": "code",
   "execution_count": 2,
   "metadata": {},
   "outputs": [],
   "source": [
    "df = pd.read_csv('users_behavior.csv')"
   ]
  },
  {
   "cell_type": "code",
   "execution_count": 3,
   "metadata": {},
   "outputs": [
    {
     "data": {
      "text/html": [
       "<div>\n",
       "<style scoped>\n",
       "    .dataframe tbody tr th:only-of-type {\n",
       "        vertical-align: middle;\n",
       "    }\n",
       "\n",
       "    .dataframe tbody tr th {\n",
       "        vertical-align: top;\n",
       "    }\n",
       "\n",
       "    .dataframe thead th {\n",
       "        text-align: right;\n",
       "    }\n",
       "</style>\n",
       "<table border=\"1\" class=\"dataframe\">\n",
       "  <thead>\n",
       "    <tr style=\"text-align: right;\">\n",
       "      <th></th>\n",
       "      <th>calls</th>\n",
       "      <th>minutes</th>\n",
       "      <th>messages</th>\n",
       "      <th>mb_used</th>\n",
       "      <th>is_ultra</th>\n",
       "    </tr>\n",
       "  </thead>\n",
       "  <tbody>\n",
       "    <tr>\n",
       "      <th>0</th>\n",
       "      <td>40.0</td>\n",
       "      <td>311.90</td>\n",
       "      <td>83.0</td>\n",
       "      <td>19915.42</td>\n",
       "      <td>0</td>\n",
       "    </tr>\n",
       "    <tr>\n",
       "      <th>1</th>\n",
       "      <td>85.0</td>\n",
       "      <td>516.75</td>\n",
       "      <td>56.0</td>\n",
       "      <td>22696.96</td>\n",
       "      <td>0</td>\n",
       "    </tr>\n",
       "    <tr>\n",
       "      <th>2</th>\n",
       "      <td>77.0</td>\n",
       "      <td>467.66</td>\n",
       "      <td>86.0</td>\n",
       "      <td>21060.45</td>\n",
       "      <td>0</td>\n",
       "    </tr>\n",
       "    <tr>\n",
       "      <th>3</th>\n",
       "      <td>106.0</td>\n",
       "      <td>745.53</td>\n",
       "      <td>81.0</td>\n",
       "      <td>8437.39</td>\n",
       "      <td>1</td>\n",
       "    </tr>\n",
       "    <tr>\n",
       "      <th>4</th>\n",
       "      <td>66.0</td>\n",
       "      <td>418.74</td>\n",
       "      <td>1.0</td>\n",
       "      <td>14502.75</td>\n",
       "      <td>0</td>\n",
       "    </tr>\n",
       "  </tbody>\n",
       "</table>\n",
       "</div>"
      ],
      "text/plain": [
       "   calls  minutes  messages   mb_used  is_ultra\n",
       "0   40.0   311.90      83.0  19915.42         0\n",
       "1   85.0   516.75      56.0  22696.96         0\n",
       "2   77.0   467.66      86.0  21060.45         0\n",
       "3  106.0   745.53      81.0   8437.39         1\n",
       "4   66.0   418.74       1.0  14502.75         0"
      ]
     },
     "execution_count": 3,
     "metadata": {},
     "output_type": "execute_result"
    }
   ],
   "source": [
    "df.head()"
   ]
  },
  {
   "cell_type": "code",
   "execution_count": 4,
   "metadata": {},
   "outputs": [
    {
     "name": "stdout",
     "output_type": "stream",
     "text": [
      "<class 'pandas.core.frame.DataFrame'>\n",
      "RangeIndex: 3214 entries, 0 to 3213\n",
      "Data columns (total 5 columns):\n",
      " #   Column    Non-Null Count  Dtype  \n",
      "---  ------    --------------  -----  \n",
      " 0   calls     3214 non-null   float64\n",
      " 1   minutes   3214 non-null   float64\n",
      " 2   messages  3214 non-null   float64\n",
      " 3   mb_used   3214 non-null   float64\n",
      " 4   is_ultra  3214 non-null   int64  \n",
      "dtypes: float64(4), int64(1)\n",
      "memory usage: 125.7 KB\n"
     ]
    }
   ],
   "source": [
    "df.info()"
   ]
  },
  {
   "cell_type": "markdown",
   "metadata": {},
   "source": [
    "В наших данных присутствует информация о 3214 клиентах. Датафрейм не требует предобработки."
   ]
  },
  {
   "cell_type": "markdown",
   "metadata": {},
   "source": [
    "Столбец is_ultra это целевой параметр."
   ]
  },
  {
   "cell_type": "markdown",
   "metadata": {},
   "source": [
    "## Разобьем данные на выборки"
   ]
  },
  {
   "cell_type": "markdown",
   "metadata": {},
   "source": [
    "Разобьем данные на обучающую, валидационную и тестовую в соотношении 3:1:1"
   ]
  },
  {
   "cell_type": "markdown",
   "metadata": {},
   "source": [
    "Для начала разделим датасет на тренировочный и тестовый."
   ]
  },
  {
   "cell_type": "code",
   "execution_count": 5,
   "metadata": {},
   "outputs": [],
   "source": [
    "df_learn, df_test = train_test_split(df, test_size=0.2, random_state=42)"
   ]
  },
  {
   "cell_type": "code",
   "execution_count": 6,
   "metadata": {},
   "outputs": [
    {
     "data": {
      "text/plain": [
       "(2571, 5)"
      ]
     },
     "metadata": {},
     "output_type": "display_data"
    },
    {
     "data": {
      "text/plain": [
       "(643, 5)"
      ]
     },
     "execution_count": 6,
     "metadata": {},
     "output_type": "execute_result"
    }
   ],
   "source": [
    "display(df_learn.shape)\n",
    "df_test.shape"
   ]
  },
  {
   "cell_type": "markdown",
   "metadata": {},
   "source": [
    "Разделим тренировочные данные на обучающие и валидационные."
   ]
  },
  {
   "cell_type": "code",
   "execution_count": 7,
   "metadata": {},
   "outputs": [],
   "source": [
    "df_train, df_valid = train_test_split(df_learn, test_size=0.25, random_state=42)"
   ]
  },
  {
   "cell_type": "code",
   "execution_count": 8,
   "metadata": {},
   "outputs": [
    {
     "data": {
      "text/plain": [
       "(1928, 5)"
      ]
     },
     "metadata": {},
     "output_type": "display_data"
    },
    {
     "data": {
      "text/plain": [
       "(643, 5)"
      ]
     },
     "execution_count": 8,
     "metadata": {},
     "output_type": "execute_result"
    }
   ],
   "source": [
    "display(df_train.shape)\n",
    "df_valid.shape"
   ]
  },
  {
   "cell_type": "markdown",
   "metadata": {},
   "source": [
    "На данном шаге мы разбили данные на три выборки и проверили их размер."
   ]
  },
  {
   "cell_type": "markdown",
   "metadata": {},
   "source": [
    "## Исследуем модели"
   ]
  },
  {
   "cell_type": "markdown",
   "metadata": {},
   "source": [
    "Решим задачу классификации."
   ]
  },
  {
   "cell_type": "markdown",
   "metadata": {},
   "source": [
    "Исследуем 3 модели: дерево решений, случайный лес и логистическую регрессию."
   ]
  },
  {
   "cell_type": "markdown",
   "metadata": {},
   "source": [
    "Объявим переменные с целевыми признаками и остальными признаками для каждой выборки."
   ]
  },
  {
   "cell_type": "code",
   "execution_count": 9,
   "metadata": {},
   "outputs": [],
   "source": [
    "features_train = df_train.drop(['is_ultra'], axis=1)\n",
    "target_train = df_train['is_ultra']\n",
    "features_valid = df_valid.drop(['is_ultra'], axis=1)\n",
    "target_valid = df_valid['is_ultra']"
   ]
  },
  {
   "cell_type": "markdown",
   "metadata": {},
   "source": [
    "### Дерево решений."
   ]
  },
  {
   "cell_type": "code",
   "execution_count": 10,
   "metadata": {},
   "outputs": [],
   "source": [
    "depth_values = range(1, 50)"
   ]
  },
  {
   "cell_type": "code",
   "execution_count": 11,
   "metadata": {},
   "outputs": [],
   "source": [
    "best_model_tree = None\n",
    "best_criterion = None\n",
    "best_result_tree = 0\n",
    "best_depth = 0"
   ]
  },
  {
   "cell_type": "code",
   "execution_count": 12,
   "metadata": {},
   "outputs": [],
   "source": [
    "for depth in depth_values:\n",
    "    for criterion in ['gini', 'entropy']:\n",
    "        model = DecisionTreeClassifier(criterion=criterion, random_state=42, max_depth=depth)\n",
    "        model.fit(features_train, target_train)  # обучим модель на тренировочных данных\n",
    "        predictions_valid = model.predict(features_valid)  # найдем предсказания на валидационной выборке\n",
    "        valid_score = accuracy_score(target_valid, predictions_valid)\n",
    "\n",
    "        if valid_score > best_result_tree:\n",
    "            best_model_tree = model\n",
    "            best_result_tree = valid_score\n",
    "            best_depth = depth\n",
    "            best_criterion = criterion"
   ]
  },
  {
   "cell_type": "code",
   "execution_count": 13,
   "metadata": {},
   "outputs": [
    {
     "name": "stdout",
     "output_type": "stream",
     "text": [
      "Accuracy лучшей модели: 0.79\n",
      "Depth лучшей модели: 5\n",
      "Criterion лучшей модели: entropy\n"
     ]
    }
   ],
   "source": [
    "print('Accuracy лучшей модели:', best_result_tree.round(2))\n",
    "print('Depth лучшей модели:', best_depth)\n",
    "print('Criterion лучшей модели:', best_criterion)"
   ]
  },
  {
   "cell_type": "markdown",
   "metadata": {},
   "source": [
    "### Случайный лес"
   ]
  },
  {
   "cell_type": "code",
   "execution_count": 14,
   "metadata": {},
   "outputs": [],
   "source": [
    "scores_data_forest = pd.DataFrame()"
   ]
  },
  {
   "cell_type": "code",
   "execution_count": 15,
   "metadata": {},
   "outputs": [],
   "source": [
    "best_model_forest = None\n",
    "best_result_forest = 0\n",
    "best_est = 0"
   ]
  },
  {
   "cell_type": "code",
   "execution_count": 16,
   "metadata": {},
   "outputs": [],
   "source": [
    "for est in range(1, 50):\n",
    "    model = RandomForestClassifier(random_state=42, n_estimators=est)  # обучим модель с заданным количеством деревьев\n",
    "    model.fit(features_train, target_train)  # обучим модель\n",
    "    result = model.score(features_valid, target_valid)\n",
    "\n",
    "    # Занесем в таблицу значения accuracy и est\n",
    "    temp_score_data = pd.DataFrame({'est': [est],\n",
    "                                          'accuracy': [result]\n",
    "                                         })\n",
    "    scores_data_forest = pd.concat([scores_data_forest, temp_score_data])    \n",
    "    \n",
    "    if result > best_result_forest:\n",
    "        best_model_forest = model  # сохраним наилучшую модель\n",
    "        best_result_forest = result  # сохраним наилучшее значение accuracy\n",
    "        best_est = est"
   ]
  },
  {
   "cell_type": "code",
   "execution_count": 17,
   "metadata": {
    "scrolled": true
   },
   "outputs": [
    {
     "data": {
      "text/html": [
       "<div>\n",
       "<style scoped>\n",
       "    .dataframe tbody tr th:only-of-type {\n",
       "        vertical-align: middle;\n",
       "    }\n",
       "\n",
       "    .dataframe tbody tr th {\n",
       "        vertical-align: top;\n",
       "    }\n",
       "\n",
       "    .dataframe thead th {\n",
       "        text-align: right;\n",
       "    }\n",
       "</style>\n",
       "<table border=\"1\" class=\"dataframe\">\n",
       "  <thead>\n",
       "    <tr style=\"text-align: right;\">\n",
       "      <th></th>\n",
       "      <th>est</th>\n",
       "      <th>accuracy</th>\n",
       "    </tr>\n",
       "  </thead>\n",
       "  <tbody>\n",
       "    <tr>\n",
       "      <th>0</th>\n",
       "      <td>1</td>\n",
       "      <td>0.712286</td>\n",
       "    </tr>\n",
       "    <tr>\n",
       "      <th>0</th>\n",
       "      <td>2</td>\n",
       "      <td>0.757387</td>\n",
       "    </tr>\n",
       "    <tr>\n",
       "      <th>0</th>\n",
       "      <td>3</td>\n",
       "      <td>0.738725</td>\n",
       "    </tr>\n",
       "    <tr>\n",
       "      <th>0</th>\n",
       "      <td>4</td>\n",
       "      <td>0.768274</td>\n",
       "    </tr>\n",
       "    <tr>\n",
       "      <th>0</th>\n",
       "      <td>5</td>\n",
       "      <td>0.762053</td>\n",
       "    </tr>\n",
       "  </tbody>\n",
       "</table>\n",
       "</div>"
      ],
      "text/plain": [
       "   est  accuracy\n",
       "0    1  0.712286\n",
       "0    2  0.757387\n",
       "0    3  0.738725\n",
       "0    4  0.768274\n",
       "0    5  0.762053"
      ]
     },
     "execution_count": 17,
     "metadata": {},
     "output_type": "execute_result"
    }
   ],
   "source": [
    "scores_data_forest.head()"
   ]
  },
  {
   "cell_type": "code",
   "execution_count": 18,
   "metadata": {
    "scrolled": false
   },
   "outputs": [
    {
     "data": {
      "image/png": "[encoded data removed]",
      "text/plain": [
       "<Figure size 640x480 with 1 Axes>"
      ]
     },
     "metadata": {},
     "output_type": "display_data"
    }
   ],
   "source": [
    "sns.lineplot(x='est', y='accuracy', data=scores_data_forest);\n",
    "plt.title('Зависимость accuracy от количества деревьев');"
   ]
  },
  {
   "cell_type": "code",
   "execution_count": 19,
   "metadata": {},
   "outputs": [
    {
     "name": "stdout",
     "output_type": "stream",
     "text": [
      "Accuracy лучшей модели: 0.79\n",
      "Количество деревьев лучшей модели: 31\n"
     ]
    }
   ],
   "source": [
    "print('Accuracy лучшей модели:', best_result_forest.round(2))\n",
    "print('Количество деревьев лучшей модели:', best_est)"
   ]
  },
  {
   "cell_type": "markdown",
   "metadata": {},
   "source": [
    "### Логистическая регрессия"
   ]
  },
  {
   "cell_type": "code",
   "execution_count": 20,
   "metadata": {},
   "outputs": [],
   "source": [
    "best_model_reg = None\n",
    "best_result_reg = 0\n",
    "best_max_iter = 0"
   ]
  },
  {
   "cell_type": "code",
   "execution_count": 21,
   "metadata": {
    "scrolled": true
   },
   "outputs": [],
   "source": [
    "for max_iter in range(50, 1000):\n",
    "    model = LogisticRegression(random_state=42, solver='lbfgs', max_iter=max_iter)  # создадим модель\n",
    "    model.fit(features_train, target_train)\n",
    "    predictons_valid = model.predict(features_valid)\n",
    "    regression_score = accuracy_score(target_valid, predictions_valid)\n",
    "        \n",
    "    if regression_score > best_result_reg:\n",
    "        best_model_reg = model\n",
    "        best_result_reg = regression_score\n",
    "        best_max_iter = max_iter"
   ]
  },
  {
   "cell_type": "code",
   "execution_count": 22,
   "metadata": {
    "scrolled": true
   },
   "outputs": [
    {
     "name": "stdout",
     "output_type": "stream",
     "text": [
      "Accuracy модeли логистической регрессии: 0.72\n",
      "max_iter: 50\n"
     ]
    }
   ],
   "source": [
    "print('Accuracy модeли логистической регрессии:', best_result_reg.round(2))\n",
    "print('max_iter:', best_max_iter)"
   ]
  },
  {
   "cell_type": "markdown",
   "metadata": {},
   "source": [
    "**Вывод: Наиболее высокий показатель accuracy у дерева решений и случайного леса - 0.79. Самое низкое качество предсказаний у логистической регрессии - 0.72.**"
   ]
  },
  {
   "cell_type": "markdown",
   "metadata": {},
   "source": [
    "## Проверим модель на тестовой выборке"
   ]
  },
  {
   "cell_type": "code",
   "execution_count": 25,
   "metadata": {},
   "outputs": [],
   "source": [
    "features_test = df_test.drop(['is_ultra'], axis=1)\n",
    "target_test = df_test['is_ultra']"
   ]
  },
  {
   "cell_type": "markdown",
   "metadata": {},
   "source": [
    "Проверим модель дерева решений на тестовой выборке."
   ]
  },
  {
   "cell_type": "code",
   "execution_count": 26,
   "metadata": {
    "scrolled": true
   },
   "outputs": [
    {
     "name": "stdout",
     "output_type": "stream",
     "text": [
      "Accuracy модели дерева решений для тестовой выборки: 0.8\n"
     ]
    }
   ],
   "source": [
    "predictions_test = best_model_tree.predict(features_test)\n",
    "result_test = accuracy_score(target_test, predictions_test)\n",
    "print('Accuracy модели дерева решений для тестовой выборки:', result_test.round(2))"
   ]
  },
  {
   "cell_type": "markdown",
   "metadata": {},
   "source": [
    "Проверим модель случайного леса на тестовой выборке."
   ]
  },
  {
   "cell_type": "code",
   "execution_count": 27,
   "metadata": {
    "scrolled": true
   },
   "outputs": [
    {
     "name": "stdout",
     "output_type": "stream",
     "text": [
      "Accuracy модели случайного леса для тестовой выборки: 0.8\n"
     ]
    }
   ],
   "source": [
    "predictions_test = best_model_forest.predict(features_test)\n",
    "result_test = accuracy_score(target_test, predictions_test)\n",
    "print('Accuracy модели случайного леса для тестовой выборки:', result_test.round(2))"
   ]
  },
  {
   "cell_type": "markdown",
   "metadata": {},
   "source": [
    "Проверим модель логистической регрессии на тестовой выборке."
   ]
  },
  {
   "cell_type": "code",
   "execution_count": 28,
   "metadata": {
    "scrolled": true
   },
   "outputs": [
    {
     "name": "stdout",
     "output_type": "stream",
     "text": [
      "Accuracy модели логистической регрессии для тестовой выборки: 0.7\n"
     ]
    }
   ],
   "source": [
    "predictions_test = best_model_reg.predict(features_test)\n",
    "result_test = accuracy_score(target_test, predictions_test)\n",
    "print('Accuracy модели логистической регрессии для тестовой выборки:', result_test.round(2))"
   ]
  },
  {
   "cell_type": "markdown",
   "metadata": {},
   "source": [
    "Для решения нашей задачи используем модель случайного леса, которое дает значение accuracy = 0.8"
   ]
  },
  {
   "cell_type": "markdown",
   "metadata": {},
   "source": [
    "## Проверим модели на адекватность"
   ]
  },
  {
   "cell_type": "code",
   "execution_count": 29,
   "metadata": {},
   "outputs": [],
   "source": [
    "from sklearn.dummy import DummyClassifier"
   ]
  },
  {
   "cell_type": "code",
   "execution_count": 30,
   "metadata": {},
   "outputs": [
    {
     "name": "stdout",
     "output_type": "stream",
     "text": [
      "Accuracy: 0.71\n"
     ]
    }
   ],
   "source": [
    "dummy_model = DummyClassifier(strategy='most_frequent')\n",
    "dummy_model.fit(features_train, target_train)\n",
    "dummy_model.predict(features_test)\n",
    "print('Accuracy:', dummy_model.score(features_test, target_test).round(2))"
   ]
  },
  {
   "cell_type": "markdown",
   "metadata": {},
   "source": [
    "## Вывод"
   ]
  },
  {
   "cell_type": "markdown",
   "metadata": {},
   "source": [
    "В данном проекте мы выполнили следующие этапы:\n",
    "\n",
    "1. Изучили датасет с данными.\n",
    "2. Разбили данные на три выборки: обучающую, валидационную и тестовую в соотношении 3:1:1.\n",
    "3. Исследовали три модели: дерево решений, случайный лес, логистическая регрессия.\n",
    "4. Определили лучшие гиперпараметры.\n",
    "5. Проверили качество модели на тестовых данных и определили лучшую модель - случайный лес. Значение accuracy = 0.8."
   ]
  }
 ],
 "metadata": {
  "ExecuteTimeLog": [
   {
    "duration": 1728,
    "start_time": "2023-07-16T09:00:48.903Z"
   },
   {
    "duration": 161,
    "start_time": "2023-07-16T09:01:36.058Z"
   },
   {
    "duration": 16,
    "start_time": "2023-07-16T09:01:36.940Z"
   },
   {
    "duration": 10,
    "start_time": "2023-07-16T09:01:57.942Z"
   },
   {
    "duration": 14,
    "start_time": "2023-07-16T09:02:07.721Z"
   },
   {
    "duration": 95,
    "start_time": "2023-07-16T09:03:09.585Z"
   },
   {
    "duration": 3,
    "start_time": "2023-07-16T09:09:58.654Z"
   },
   {
    "duration": 5,
    "start_time": "2023-07-16T09:12:15.959Z"
   },
   {
    "duration": 6,
    "start_time": "2023-07-16T09:18:41.765Z"
   },
   {
    "duration": 4,
    "start_time": "2023-07-16T09:18:43.411Z"
   },
   {
    "duration": 4,
    "start_time": "2023-07-16T09:18:59.899Z"
   },
   {
    "duration": 5,
    "start_time": "2023-07-16T09:19:09.296Z"
   },
   {
    "duration": 6,
    "start_time": "2023-07-16T09:19:28.896Z"
   },
   {
    "duration": 6,
    "start_time": "2023-07-16T09:19:34.405Z"
   },
   {
    "duration": 5,
    "start_time": "2023-07-16T09:23:58.684Z"
   },
   {
    "duration": 6,
    "start_time": "2023-07-16T09:23:59.585Z"
   },
   {
    "duration": 6,
    "start_time": "2023-07-16T09:25:00.886Z"
   },
   {
    "duration": 6,
    "start_time": "2023-07-16T09:25:18.475Z"
   },
   {
    "duration": 3,
    "start_time": "2023-07-16T09:31:40.153Z"
   },
   {
    "duration": 3,
    "start_time": "2023-07-16T09:31:55.618Z"
   },
   {
    "duration": 3,
    "start_time": "2023-07-16T09:33:07.544Z"
   },
   {
    "duration": 7,
    "start_time": "2023-07-16T09:47:13.320Z"
   },
   {
    "duration": 121,
    "start_time": "2023-07-16T10:07:56.658Z"
   },
   {
    "duration": 6,
    "start_time": "2023-07-16T10:09:07.851Z"
   },
   {
    "duration": 25,
    "start_time": "2023-07-16T10:09:09.198Z"
   },
   {
    "duration": 18,
    "start_time": "2023-07-16T10:09:17.719Z"
   },
   {
    "duration": 569,
    "start_time": "2023-07-16T10:09:30.716Z"
   },
   {
    "duration": 8,
    "start_time": "2023-07-16T10:09:41.275Z"
   },
   {
    "duration": 170,
    "start_time": "2023-07-16T10:11:16.971Z"
   },
   {
    "duration": 135,
    "start_time": "2023-07-16T10:11:28.914Z"
   },
   {
    "duration": 8,
    "start_time": "2023-07-16T10:13:17.468Z"
   },
   {
    "duration": 155,
    "start_time": "2023-07-16T10:16:58.103Z"
   },
   {
    "duration": 150,
    "start_time": "2023-07-16T10:17:36.983Z"
   },
   {
    "duration": 247,
    "start_time": "2023-07-16T10:17:49.170Z"
   },
   {
    "duration": 161,
    "start_time": "2023-07-16T10:19:13.901Z"
   },
   {
    "duration": 3,
    "start_time": "2023-07-16T10:21:57.117Z"
   },
   {
    "duration": 6,
    "start_time": "2023-07-16T10:23:39.244Z"
   },
   {
    "duration": 568,
    "start_time": "2023-07-16T10:23:43.670Z"
   },
   {
    "duration": 5,
    "start_time": "2023-07-16T10:23:45.522Z"
   },
   {
    "duration": 6,
    "start_time": "2023-07-16T10:23:54.595Z"
   },
   {
    "duration": 11,
    "start_time": "2023-07-16T10:24:32.395Z"
   },
   {
    "duration": 3,
    "start_time": "2023-07-16T10:25:18.356Z"
   },
   {
    "duration": 619,
    "start_time": "2023-07-16T10:25:27.885Z"
   },
   {
    "duration": 18,
    "start_time": "2023-07-16T10:25:57.957Z"
   },
   {
    "duration": 1107,
    "start_time": "2023-07-16T10:27:02.468Z"
   },
   {
    "duration": 551,
    "start_time": "2023-07-16T10:30:35.056Z"
   },
   {
    "duration": 8,
    "start_time": "2023-07-16T10:30:36.398Z"
   },
   {
    "duration": 974,
    "start_time": "2023-07-16T10:30:39.555Z"
   },
   {
    "duration": 7,
    "start_time": "2023-07-16T10:30:43.297Z"
   },
   {
    "duration": 528,
    "start_time": "2023-07-16T10:30:53.360Z"
   },
   {
    "duration": 3,
    "start_time": "2023-07-16T10:31:32.615Z"
   },
   {
    "duration": 561,
    "start_time": "2023-07-16T10:31:34.760Z"
   },
   {
    "duration": 647,
    "start_time": "2023-07-16T10:37:50.186Z"
   },
   {
    "duration": 10,
    "start_time": "2023-07-16T10:37:53.317Z"
   },
   {
    "duration": 1735,
    "start_time": "2023-07-16T10:38:00.848Z"
   },
   {
    "duration": 30,
    "start_time": "2023-07-16T10:38:02.585Z"
   },
   {
    "duration": 15,
    "start_time": "2023-07-16T10:38:02.617Z"
   },
   {
    "duration": 11,
    "start_time": "2023-07-16T10:38:02.634Z"
   },
   {
    "duration": 16,
    "start_time": "2023-07-16T10:38:02.648Z"
   },
   {
    "duration": 13,
    "start_time": "2023-07-16T10:38:02.667Z"
   },
   {
    "duration": 6,
    "start_time": "2023-07-16T10:38:02.682Z"
   },
   {
    "duration": 11,
    "start_time": "2023-07-16T10:38:02.690Z"
   },
   {
    "duration": 7,
    "start_time": "2023-07-16T10:38:02.703Z"
   },
   {
    "duration": 28,
    "start_time": "2023-07-16T10:38:02.712Z"
   },
   {
    "duration": 25,
    "start_time": "2023-07-16T10:38:02.742Z"
   },
   {
    "duration": 7,
    "start_time": "2023-07-16T10:38:02.769Z"
   },
   {
    "duration": 779,
    "start_time": "2023-07-16T10:38:02.778Z"
   },
   {
    "duration": 11,
    "start_time": "2023-07-16T10:38:03.561Z"
   },
   {
    "duration": 326,
    "start_time": "2023-07-16T10:38:03.575Z"
   },
   {
    "duration": 0,
    "start_time": "2023-07-16T10:38:03.952Z"
   },
   {
    "duration": 183,
    "start_time": "2023-07-16T10:38:17.321Z"
   },
   {
    "duration": 10,
    "start_time": "2023-07-16T10:39:05.564Z"
   },
   {
    "duration": 17,
    "start_time": "2023-07-16T10:39:55.452Z"
   },
   {
    "duration": 3,
    "start_time": "2023-07-16T10:40:32.644Z"
   },
   {
    "duration": 3,
    "start_time": "2023-07-16T10:40:33.348Z"
   },
   {
    "duration": 3,
    "start_time": "2023-07-16T10:42:17.696Z"
   },
   {
    "duration": 3,
    "start_time": "2023-07-16T10:42:29.865Z"
   },
   {
    "duration": 4,
    "start_time": "2023-07-16T10:42:37.551Z"
   },
   {
    "duration": 588,
    "start_time": "2023-07-16T10:42:54.414Z"
   },
   {
    "duration": 588,
    "start_time": "2023-07-16T10:43:07.143Z"
   },
   {
    "duration": 8,
    "start_time": "2023-07-16T10:43:10.465Z"
   },
   {
    "duration": 3,
    "start_time": "2023-07-16T10:51:03.816Z"
   },
   {
    "duration": 571,
    "start_time": "2023-07-16T10:51:05.503Z"
   },
   {
    "duration": 10,
    "start_time": "2023-07-16T10:51:06.747Z"
   },
   {
    "duration": 165,
    "start_time": "2023-07-16T10:51:14.048Z"
   },
   {
    "duration": 3,
    "start_time": "2023-07-16T10:51:36.494Z"
   },
   {
    "duration": 34,
    "start_time": "2023-07-16T10:52:38.271Z"
   },
   {
    "duration": 349,
    "start_time": "2023-07-16T10:52:49.407Z"
   },
   {
    "duration": 11,
    "start_time": "2023-07-16T10:53:01.868Z"
   },
   {
    "duration": 181,
    "start_time": "2023-07-16T10:53:49.204Z"
   },
   {
    "duration": 955,
    "start_time": "2023-07-16T10:54:03.944Z"
   },
   {
    "duration": 9,
    "start_time": "2023-07-16T10:54:05.795Z"
   },
   {
    "duration": 341,
    "start_time": "2023-07-16T10:54:06.800Z"
   },
   {
    "duration": 5620,
    "start_time": "2023-07-16T10:54:22.252Z"
   },
   {
    "duration": 10,
    "start_time": "2023-07-16T10:54:27.875Z"
   },
   {
    "duration": 550,
    "start_time": "2023-07-16T10:54:30.061Z"
   },
   {
    "duration": 10,
    "start_time": "2023-07-16T10:55:40.287Z"
   },
   {
    "duration": 8,
    "start_time": "2023-07-16T10:56:06.946Z"
   },
   {
    "duration": 3,
    "start_time": "2023-07-16T10:57:41.847Z"
   },
   {
    "duration": 5411,
    "start_time": "2023-07-16T10:57:50.910Z"
   },
   {
    "duration": 8,
    "start_time": "2023-07-16T10:57:56.323Z"
   },
   {
    "duration": 9,
    "start_time": "2023-07-16T10:58:13.928Z"
   },
   {
    "duration": 5861,
    "start_time": "2023-07-16T10:58:43.703Z"
   },
   {
    "duration": 13,
    "start_time": "2023-07-16T10:58:49.566Z"
   },
   {
    "duration": 8,
    "start_time": "2023-07-16T11:03:53.206Z"
   },
   {
    "duration": 18,
    "start_time": "2023-07-16T11:09:15.959Z"
   },
   {
    "duration": 3,
    "start_time": "2023-07-16T11:09:52.602Z"
   },
   {
    "duration": 28,
    "start_time": "2023-07-16T11:09:57.071Z"
   },
   {
    "duration": 27,
    "start_time": "2023-07-16T11:10:06.764Z"
   },
   {
    "duration": 31,
    "start_time": "2023-07-16T11:10:46.843Z"
   },
   {
    "duration": 32,
    "start_time": "2023-07-16T11:10:52.444Z"
   },
   {
    "duration": 31,
    "start_time": "2023-07-16T11:11:00.201Z"
   },
   {
    "duration": 38,
    "start_time": "2023-07-16T11:11:27.547Z"
   },
   {
    "duration": 40,
    "start_time": "2023-07-16T11:11:30.445Z"
   },
   {
    "duration": 27,
    "start_time": "2023-07-16T11:11:42.053Z"
   },
   {
    "duration": 43,
    "start_time": "2023-07-16T11:14:16.248Z"
   },
   {
    "duration": 25,
    "start_time": "2023-07-16T11:14:47.853Z"
   },
   {
    "duration": 5,
    "start_time": "2023-07-16T11:20:28.143Z"
   },
   {
    "duration": 22,
    "start_time": "2023-07-16T11:21:16.166Z"
   },
   {
    "duration": 17,
    "start_time": "2023-07-16T11:21:31.866Z"
   },
   {
    "duration": 20,
    "start_time": "2023-07-16T11:21:41.933Z"
   },
   {
    "duration": 87,
    "start_time": "2023-07-16T11:30:40.502Z"
   },
   {
    "duration": 17,
    "start_time": "2023-07-16T11:30:44.748Z"
   },
   {
    "duration": 26,
    "start_time": "2023-07-16T11:30:56.532Z"
   },
   {
    "duration": 6,
    "start_time": "2023-07-16T11:31:08.536Z"
   },
   {
    "duration": 5,
    "start_time": "2023-07-16T11:31:27.210Z"
   },
   {
    "duration": 8,
    "start_time": "2023-07-16T11:43:00.456Z"
   },
   {
    "duration": 10,
    "start_time": "2023-07-16T11:43:26.218Z"
   },
   {
    "duration": 4,
    "start_time": "2023-07-16T11:50:05.163Z"
   },
   {
    "duration": 3,
    "start_time": "2023-07-16T11:50:07.701Z"
   },
   {
    "duration": 116,
    "start_time": "2023-07-16T11:51:34.111Z"
   },
   {
    "duration": 20436,
    "start_time": "2023-07-16T11:51:39.070Z"
   },
   {
    "duration": 19857,
    "start_time": "2023-07-16T11:54:13.785Z"
   },
   {
    "duration": 17812,
    "start_time": "2023-07-16T11:54:34.918Z"
   },
   {
    "duration": 3,
    "start_time": "2023-07-16T11:54:56.072Z"
   },
   {
    "duration": 8,
    "start_time": "2023-07-16T11:55:46.271Z"
   },
   {
    "duration": 10231,
    "start_time": "2023-07-16T11:58:52.637Z"
   },
   {
    "duration": 8770,
    "start_time": "2023-07-16T11:59:18.531Z"
   },
   {
    "duration": 8,
    "start_time": "2023-07-16T11:59:27.304Z"
   },
   {
    "duration": 3,
    "start_time": "2023-07-16T11:59:37.774Z"
   },
   {
    "duration": 6,
    "start_time": "2023-07-16T12:00:12.063Z"
   },
   {
    "duration": 16140,
    "start_time": "2023-07-16T12:01:37.256Z"
   },
   {
    "duration": 9379,
    "start_time": "2023-07-16T12:02:59.515Z"
   },
   {
    "duration": 15823,
    "start_time": "2023-07-16T12:03:19.203Z"
   },
   {
    "duration": 11,
    "start_time": "2023-07-16T12:04:22.969Z"
   },
   {
    "duration": 8442,
    "start_time": "2023-07-16T12:05:00.224Z"
   },
   {
    "duration": 7,
    "start_time": "2023-07-16T12:05:10.107Z"
   },
   {
    "duration": 16480,
    "start_time": "2023-07-16T12:05:12.509Z"
   },
   {
    "duration": 3,
    "start_time": "2023-07-16T12:07:33.106Z"
   },
   {
    "duration": 8064,
    "start_time": "2023-07-16T12:07:45.468Z"
   },
   {
    "duration": 6,
    "start_time": "2023-07-16T12:08:19.279Z"
   },
   {
    "duration": 44,
    "start_time": "2023-07-16T12:12:16.562Z"
   },
   {
    "duration": 228,
    "start_time": "2023-07-16T12:12:40.036Z"
   },
   {
    "duration": 34,
    "start_time": "2023-07-16T12:12:53.103Z"
   },
   {
    "duration": 15,
    "start_time": "2023-07-16T12:13:32.807Z"
   },
   {
    "duration": 13,
    "start_time": "2023-07-16T12:13:47.666Z"
   },
   {
    "duration": 21,
    "start_time": "2023-07-16T12:18:26.963Z"
   },
   {
    "duration": 44,
    "start_time": "2023-07-16T12:19:25.851Z"
   },
   {
    "duration": 35,
    "start_time": "2023-07-16T12:20:43.429Z"
   },
   {
    "duration": 18,
    "start_time": "2023-07-16T12:23:15.211Z"
   },
   {
    "duration": 9,
    "start_time": "2023-07-16T12:24:18.671Z"
   },
   {
    "duration": 7,
    "start_time": "2023-07-16T12:25:30.803Z"
   },
   {
    "duration": 3,
    "start_time": "2023-07-16T12:47:50.268Z"
   },
   {
    "duration": 1257,
    "start_time": "2023-07-16T13:03:37.062Z"
   },
   {
    "duration": 317,
    "start_time": "2023-07-16T13:03:38.322Z"
   },
   {
    "duration": 31,
    "start_time": "2023-07-16T13:03:38.641Z"
   },
   {
    "duration": 19,
    "start_time": "2023-07-16T13:03:38.675Z"
   },
   {
    "duration": 32,
    "start_time": "2023-07-16T13:03:38.695Z"
   },
   {
    "duration": 13,
    "start_time": "2023-07-16T13:03:38.728Z"
   },
   {
    "duration": 13,
    "start_time": "2023-07-16T13:03:38.743Z"
   },
   {
    "duration": 22,
    "start_time": "2023-07-16T13:03:38.758Z"
   },
   {
    "duration": 13,
    "start_time": "2023-07-16T13:03:38.782Z"
   },
   {
    "duration": 6,
    "start_time": "2023-07-16T13:03:38.799Z"
   },
   {
    "duration": 8,
    "start_time": "2023-07-16T13:03:38.807Z"
   },
   {
    "duration": 16,
    "start_time": "2023-07-16T13:03:38.817Z"
   },
   {
    "duration": 8,
    "start_time": "2023-07-16T13:03:38.835Z"
   },
   {
    "duration": 576,
    "start_time": "2023-07-16T13:03:38.844Z"
   },
   {
    "duration": 8,
    "start_time": "2023-07-16T13:03:39.422Z"
   },
   {
    "duration": 192,
    "start_time": "2023-07-16T13:03:39.432Z"
   },
   {
    "duration": 4,
    "start_time": "2023-07-16T13:03:39.626Z"
   },
   {
    "duration": 9,
    "start_time": "2023-07-16T13:03:39.632Z"
   },
   {
    "duration": 18,
    "start_time": "2023-07-16T13:03:39.643Z"
   },
   {
    "duration": 6213,
    "start_time": "2023-07-16T13:03:39.663Z"
   },
   {
    "duration": 8,
    "start_time": "2023-07-16T13:03:45.877Z"
   },
   {
    "duration": 183,
    "start_time": "2023-07-16T13:03:45.886Z"
   },
   {
    "duration": 4,
    "start_time": "2023-07-16T13:03:46.071Z"
   },
   {
    "duration": 12,
    "start_time": "2023-07-16T13:03:46.076Z"
   },
   {
    "duration": 9,
    "start_time": "2023-07-16T13:03:46.090Z"
   },
   {
    "duration": 7890,
    "start_time": "2023-07-16T13:03:46.101Z"
   },
   {
    "duration": 8,
    "start_time": "2023-07-16T13:03:53.993Z"
   },
   {
    "duration": 195,
    "start_time": "2023-07-16T13:03:54.005Z"
   },
   {
    "duration": 4,
    "start_time": "2023-07-16T13:03:54.202Z"
   },
   {
    "duration": 15,
    "start_time": "2023-07-16T13:03:54.208Z"
   },
   {
    "duration": 47,
    "start_time": "2023-07-16T13:03:54.225Z"
   },
   {
    "duration": 4,
    "start_time": "2023-07-16T13:03:54.274Z"
   },
   {
    "duration": 18,
    "start_time": "2023-07-16T13:03:54.280Z"
   },
   {
    "duration": 20,
    "start_time": "2023-07-16T13:03:54.300Z"
   },
   {
    "duration": 7,
    "start_time": "2023-07-16T13:03:54.321Z"
   },
   {
    "duration": 4,
    "start_time": "2023-07-16T13:05:46.282Z"
   },
   {
    "duration": 9246,
    "start_time": "2023-07-16T13:06:36.531Z"
   },
   {
    "duration": 1219,
    "start_time": "2023-07-16T13:06:48.352Z"
   },
   {
    "duration": 288,
    "start_time": "2023-07-16T13:06:49.573Z"
   },
   {
    "duration": 30,
    "start_time": "2023-07-16T13:06:49.863Z"
   },
   {
    "duration": 13,
    "start_time": "2023-07-16T13:06:49.895Z"
   },
   {
    "duration": 22,
    "start_time": "2023-07-16T13:06:49.911Z"
   },
   {
    "duration": 9,
    "start_time": "2023-07-16T13:06:49.935Z"
   },
   {
    "duration": 9,
    "start_time": "2023-07-16T13:06:49.946Z"
   },
   {
    "duration": 10,
    "start_time": "2023-07-16T13:06:49.956Z"
   },
   {
    "duration": 8,
    "start_time": "2023-07-16T13:06:49.968Z"
   },
   {
    "duration": 9,
    "start_time": "2023-07-16T13:06:49.978Z"
   },
   {
    "duration": 8,
    "start_time": "2023-07-16T13:06:49.989Z"
   },
   {
    "duration": 18,
    "start_time": "2023-07-16T13:06:49.998Z"
   },
   {
    "duration": 24,
    "start_time": "2023-07-16T13:06:50.018Z"
   },
   {
    "duration": 604,
    "start_time": "2023-07-16T13:06:50.047Z"
   },
   {
    "duration": 8,
    "start_time": "2023-07-16T13:06:50.653Z"
   },
   {
    "duration": 174,
    "start_time": "2023-07-16T13:06:50.662Z"
   },
   {
    "duration": 3,
    "start_time": "2023-07-16T13:06:50.838Z"
   },
   {
    "duration": 4,
    "start_time": "2023-07-16T13:06:50.851Z"
   },
   {
    "duration": 9,
    "start_time": "2023-07-16T13:06:50.857Z"
   },
   {
    "duration": 5183,
    "start_time": "2023-07-16T13:06:50.868Z"
   },
   {
    "duration": 7,
    "start_time": "2023-07-16T13:06:56.053Z"
   },
   {
    "duration": 171,
    "start_time": "2023-07-16T13:06:56.061Z"
   },
   {
    "duration": 4,
    "start_time": "2023-07-16T13:06:56.234Z"
   },
   {
    "duration": 5,
    "start_time": "2023-07-16T13:06:56.251Z"
   },
   {
    "duration": 7,
    "start_time": "2023-07-16T13:06:56.257Z"
   },
   {
    "duration": 10709,
    "start_time": "2023-07-16T13:06:56.266Z"
   },
   {
    "duration": 7,
    "start_time": "2023-07-16T13:07:06.977Z"
   },
   {
    "duration": 182,
    "start_time": "2023-07-16T13:07:06.986Z"
   },
   {
    "duration": 5,
    "start_time": "2023-07-16T13:07:07.170Z"
   },
   {
    "duration": 29,
    "start_time": "2023-07-16T13:07:07.178Z"
   },
   {
    "duration": 28,
    "start_time": "2023-07-16T13:07:07.209Z"
   },
   {
    "duration": 13,
    "start_time": "2023-07-16T13:07:07.239Z"
   },
   {
    "duration": 11,
    "start_time": "2023-07-16T13:07:07.254Z"
   },
   {
    "duration": 28,
    "start_time": "2023-07-16T13:07:07.266Z"
   },
   {
    "duration": 7,
    "start_time": "2023-07-16T13:07:07.296Z"
   },
   {
    "duration": 1234,
    "start_time": "2023-07-16T13:07:19.298Z"
   },
   {
    "duration": 314,
    "start_time": "2023-07-16T13:07:20.534Z"
   },
   {
    "duration": 30,
    "start_time": "2023-07-16T13:07:20.850Z"
   },
   {
    "duration": 16,
    "start_time": "2023-07-16T13:07:20.882Z"
   },
   {
    "duration": 27,
    "start_time": "2023-07-16T13:07:20.900Z"
   },
   {
    "duration": 9,
    "start_time": "2023-07-16T13:07:20.929Z"
   },
   {
    "duration": 20,
    "start_time": "2023-07-16T13:07:20.940Z"
   },
   {
    "duration": 13,
    "start_time": "2023-07-16T13:07:20.962Z"
   },
   {
    "duration": 18,
    "start_time": "2023-07-16T13:07:20.977Z"
   },
   {
    "duration": 7,
    "start_time": "2023-07-16T13:07:20.999Z"
   },
   {
    "duration": 14,
    "start_time": "2023-07-16T13:07:21.008Z"
   },
   {
    "duration": 15,
    "start_time": "2023-07-16T13:07:21.023Z"
   },
   {
    "duration": 16,
    "start_time": "2023-07-16T13:07:21.040Z"
   },
   {
    "duration": 564,
    "start_time": "2023-07-16T13:07:21.058Z"
   },
   {
    "duration": 9,
    "start_time": "2023-07-16T13:07:21.624Z"
   },
   {
    "duration": 181,
    "start_time": "2023-07-16T13:07:21.635Z"
   },
   {
    "duration": 4,
    "start_time": "2023-07-16T13:07:21.819Z"
   },
   {
    "duration": 11,
    "start_time": "2023-07-16T13:07:21.825Z"
   },
   {
    "duration": 18,
    "start_time": "2023-07-16T13:07:21.837Z"
   },
   {
    "duration": 6175,
    "start_time": "2023-07-16T13:07:21.858Z"
   },
   {
    "duration": 7,
    "start_time": "2023-07-16T13:07:28.035Z"
   },
   {
    "duration": 178,
    "start_time": "2023-07-16T13:07:28.043Z"
   },
   {
    "duration": 5,
    "start_time": "2023-07-16T13:07:28.223Z"
   },
   {
    "duration": 45,
    "start_time": "2023-07-16T13:07:28.230Z"
   },
   {
    "duration": 19,
    "start_time": "2023-07-16T13:07:28.278Z"
   },
   {
    "duration": 8974,
    "start_time": "2023-07-16T13:07:28.300Z"
   },
   {
    "duration": 8,
    "start_time": "2023-07-16T13:07:37.276Z"
   },
   {
    "duration": 174,
    "start_time": "2023-07-16T13:07:37.287Z"
   },
   {
    "duration": 4,
    "start_time": "2023-07-16T13:07:37.463Z"
   },
   {
    "duration": 14,
    "start_time": "2023-07-16T13:07:37.469Z"
   },
   {
    "duration": 23,
    "start_time": "2023-07-16T13:07:37.485Z"
   },
   {
    "duration": 4,
    "start_time": "2023-07-16T13:07:37.510Z"
   },
   {
    "duration": 37,
    "start_time": "2023-07-16T13:07:37.516Z"
   },
   {
    "duration": 22,
    "start_time": "2023-07-16T13:07:37.554Z"
   },
   {
    "duration": 6,
    "start_time": "2023-07-16T13:07:37.578Z"
   },
   {
    "duration": 19125,
    "start_time": "2023-07-16T13:08:28.428Z"
   },
   {
    "duration": 8,
    "start_time": "2023-07-16T13:08:51.287Z"
   },
   {
    "duration": 8035,
    "start_time": "2023-07-16T13:08:52.801Z"
   },
   {
    "duration": 1295,
    "start_time": "2023-07-16T13:12:14.387Z"
   },
   {
    "duration": 299,
    "start_time": "2023-07-16T13:12:15.684Z"
   },
   {
    "duration": 30,
    "start_time": "2023-07-16T13:12:15.985Z"
   },
   {
    "duration": 16,
    "start_time": "2023-07-16T13:12:16.017Z"
   },
   {
    "duration": 14,
    "start_time": "2023-07-16T13:12:16.035Z"
   },
   {
    "duration": 8,
    "start_time": "2023-07-16T13:12:16.051Z"
   },
   {
    "duration": 16,
    "start_time": "2023-07-16T13:12:16.060Z"
   },
   {
    "duration": 11,
    "start_time": "2023-07-16T13:12:16.078Z"
   },
   {
    "duration": 13,
    "start_time": "2023-07-16T13:12:16.090Z"
   },
   {
    "duration": 7,
    "start_time": "2023-07-16T13:12:16.105Z"
   },
   {
    "duration": 37,
    "start_time": "2023-07-16T13:12:16.114Z"
   },
   {
    "duration": 12,
    "start_time": "2023-07-16T13:12:16.154Z"
   },
   {
    "duration": 12,
    "start_time": "2023-07-16T13:12:16.168Z"
   },
   {
    "duration": 566,
    "start_time": "2023-07-16T13:12:16.185Z"
   },
   {
    "duration": 9,
    "start_time": "2023-07-16T13:12:16.753Z"
   },
   {
    "duration": 177,
    "start_time": "2023-07-16T13:12:16.764Z"
   },
   {
    "duration": 9,
    "start_time": "2023-07-16T13:12:16.943Z"
   },
   {
    "duration": 7,
    "start_time": "2023-07-16T13:12:16.954Z"
   },
   {
    "duration": 9,
    "start_time": "2023-07-16T13:12:16.963Z"
   },
   {
    "duration": 6499,
    "start_time": "2023-07-16T13:12:16.973Z"
   },
   {
    "duration": 8,
    "start_time": "2023-07-16T13:12:23.474Z"
   },
   {
    "duration": 188,
    "start_time": "2023-07-16T13:12:23.484Z"
   },
   {
    "duration": 4,
    "start_time": "2023-07-16T13:12:23.675Z"
   },
   {
    "duration": 16,
    "start_time": "2023-07-16T13:12:23.681Z"
   },
   {
    "duration": 39,
    "start_time": "2023-07-16T13:12:23.699Z"
   },
   {
    "duration": 18906,
    "start_time": "2023-07-16T13:12:23.740Z"
   },
   {
    "duration": 9,
    "start_time": "2023-07-16T13:12:42.648Z"
   },
   {
    "duration": 180,
    "start_time": "2023-07-16T13:12:42.658Z"
   },
   {
    "duration": 4,
    "start_time": "2023-07-16T13:12:42.840Z"
   },
   {
    "duration": 12,
    "start_time": "2023-07-16T13:12:42.852Z"
   },
   {
    "duration": 24,
    "start_time": "2023-07-16T13:12:42.865Z"
   },
   {
    "duration": 3,
    "start_time": "2023-07-16T13:12:42.891Z"
   },
   {
    "duration": 9,
    "start_time": "2023-07-16T13:12:42.896Z"
   },
   {
    "duration": 16,
    "start_time": "2023-07-16T13:12:42.907Z"
   },
   {
    "duration": 6,
    "start_time": "2023-07-16T13:12:42.953Z"
   },
   {
    "duration": 1294,
    "start_time": "2023-07-18T12:24:04.743Z"
   },
   {
    "duration": 1567,
    "start_time": "2023-07-18T12:24:22.440Z"
   },
   {
    "duration": 293,
    "start_time": "2023-07-18T12:24:24.010Z"
   },
   {
    "duration": 121,
    "start_time": "2023-07-18T12:24:24.305Z"
   },
   {
    "duration": 20,
    "start_time": "2023-07-18T12:24:24.428Z"
   },
   {
    "duration": 28,
    "start_time": "2023-07-18T12:24:24.451Z"
   },
   {
    "duration": 10,
    "start_time": "2023-07-18T12:24:24.482Z"
   },
   {
    "duration": 13,
    "start_time": "2023-07-18T12:24:24.495Z"
   },
   {
    "duration": 24,
    "start_time": "2023-07-18T12:24:24.510Z"
   },
   {
    "duration": 23,
    "start_time": "2023-07-18T12:24:24.536Z"
   },
   {
    "duration": 23,
    "start_time": "2023-07-18T12:24:24.561Z"
   },
   {
    "duration": 25,
    "start_time": "2023-07-18T12:24:24.585Z"
   },
   {
    "duration": 18,
    "start_time": "2023-07-18T12:24:24.612Z"
   },
   {
    "duration": 14,
    "start_time": "2023-07-18T12:24:24.631Z"
   },
   {
    "duration": 566,
    "start_time": "2023-07-18T12:24:24.648Z"
   },
   {
    "duration": 8,
    "start_time": "2023-07-18T12:24:25.216Z"
   },
   {
    "duration": 244,
    "start_time": "2023-07-18T12:24:25.226Z"
   },
   {
    "duration": 7,
    "start_time": "2023-07-18T12:24:25.471Z"
   },
   {
    "duration": 307,
    "start_time": "2023-07-18T12:24:25.480Z"
   },
   {
    "duration": 22,
    "start_time": "2023-07-18T12:24:25.789Z"
   },
   {
    "duration": 5750,
    "start_time": "2023-07-18T12:24:25.813Z"
   },
   {
    "duration": 13,
    "start_time": "2023-07-18T12:24:31.565Z"
   },
   {
    "duration": 2737,
    "start_time": "2023-07-18T12:24:31.580Z"
   },
   {
    "duration": 1692,
    "start_time": "2023-07-18T12:24:34.319Z"
   },
   {
    "duration": 3485,
    "start_time": "2023-07-18T12:24:36.014Z"
   },
   {
    "duration": 2837,
    "start_time": "2023-07-18T12:24:39.501Z"
   },
   {
    "duration": 18440,
    "start_time": "2023-07-18T12:24:42.340Z"
   },
   {
    "duration": 9,
    "start_time": "2023-07-18T12:25:00.782Z"
   },
   {
    "duration": 192,
    "start_time": "2023-07-18T12:25:00.792Z"
   },
   {
    "duration": 4,
    "start_time": "2023-07-18T12:25:00.986Z"
   },
   {
    "duration": 41,
    "start_time": "2023-07-18T12:25:00.992Z"
   },
   {
    "duration": 50,
    "start_time": "2023-07-18T12:25:01.035Z"
   },
   {
    "duration": 4,
    "start_time": "2023-07-18T12:25:01.087Z"
   },
   {
    "duration": 43,
    "start_time": "2023-07-18T12:25:01.093Z"
   },
   {
    "duration": 65,
    "start_time": "2023-07-18T12:25:01.137Z"
   },
   {
    "duration": 20,
    "start_time": "2023-07-18T12:25:01.204Z"
   },
   {
    "duration": 31,
    "start_time": "2023-07-18T12:25:01.227Z"
   },
   {
    "duration": 6,
    "start_time": "2023-07-18T12:33:49.847Z"
   },
   {
    "duration": 5,
    "start_time": "2023-07-18T12:34:56.168Z"
   },
   {
    "duration": 5,
    "start_time": "2023-07-18T12:35:11.391Z"
   },
   {
    "duration": 3,
    "start_time": "2023-07-18T12:54:51.346Z"
   },
   {
    "duration": 141,
    "start_time": "2023-07-18T12:55:01.297Z"
   },
   {
    "duration": 1535,
    "start_time": "2023-07-18T12:56:04.410Z"
   },
   {
    "duration": 1989,
    "start_time": "2023-07-18T12:57:23.876Z"
   },
   {
    "duration": 7,
    "start_time": "2023-07-18T12:58:10.592Z"
   },
   {
    "duration": 3,
    "start_time": "2023-07-18T13:01:18.112Z"
   },
   {
    "duration": 11,
    "start_time": "2023-07-18T13:01:25.344Z"
   },
   {
    "duration": 1152,
    "start_time": "2023-07-18T13:02:20.048Z"
   },
   {
    "duration": 6,
    "start_time": "2023-07-18T13:02:27.385Z"
   },
   {
    "duration": 3,
    "start_time": "2023-07-18T13:03:46.452Z"
   },
   {
    "duration": 3,
    "start_time": "2023-07-18T13:03:48.082Z"
   },
   {
    "duration": 153,
    "start_time": "2023-07-18T13:07:00.113Z"
   },
   {
    "duration": 144,
    "start_time": "2023-07-18T13:07:04.273Z"
   },
   {
    "duration": 156,
    "start_time": "2023-07-18T13:08:34.357Z"
   },
   {
    "duration": 1315,
    "start_time": "2023-07-18T13:11:12.737Z"
   },
   {
    "duration": 404,
    "start_time": "2023-07-18T13:11:14.054Z"
   },
   {
    "duration": 35,
    "start_time": "2023-07-18T13:11:14.460Z"
   },
   {
    "duration": 18,
    "start_time": "2023-07-18T13:11:14.497Z"
   },
   {
    "duration": 12,
    "start_time": "2023-07-18T13:11:14.518Z"
   },
   {
    "duration": 7,
    "start_time": "2023-07-18T13:11:14.532Z"
   },
   {
    "duration": 8,
    "start_time": "2023-07-18T13:11:14.540Z"
   },
   {
    "duration": 25,
    "start_time": "2023-07-18T13:11:14.550Z"
   },
   {
    "duration": 8,
    "start_time": "2023-07-18T13:11:14.578Z"
   },
   {
    "duration": 12,
    "start_time": "2023-07-18T13:11:14.587Z"
   },
   {
    "duration": 9,
    "start_time": "2023-07-18T13:11:14.601Z"
   },
   {
    "duration": 6,
    "start_time": "2023-07-18T13:11:14.612Z"
   },
   {
    "duration": 8,
    "start_time": "2023-07-18T13:11:14.620Z"
   },
   {
    "duration": 1173,
    "start_time": "2023-07-18T13:11:14.632Z"
   },
   {
    "duration": 3,
    "start_time": "2023-07-18T13:11:15.807Z"
   },
   {
    "duration": 12,
    "start_time": "2023-07-18T13:11:15.812Z"
   },
   {
    "duration": 10,
    "start_time": "2023-07-18T13:11:15.825Z"
   },
   {
    "duration": 9,
    "start_time": "2023-07-18T13:11:15.836Z"
   },
   {
    "duration": 13,
    "start_time": "2023-07-18T13:11:15.847Z"
   },
   {
    "duration": 5592,
    "start_time": "2023-07-18T13:11:15.861Z"
   },
   {
    "duration": 7,
    "start_time": "2023-07-18T13:11:21.455Z"
   },
   {
    "duration": 208,
    "start_time": "2023-07-18T13:11:21.463Z"
   },
   {
    "duration": 6,
    "start_time": "2023-07-18T13:11:21.676Z"
   },
   {
    "duration": 25,
    "start_time": "2023-07-18T13:11:21.684Z"
   },
   {
    "duration": 20,
    "start_time": "2023-07-18T13:11:21.711Z"
   },
   {
    "duration": 19294,
    "start_time": "2023-07-18T13:11:21.733Z"
   },
   {
    "duration": 7,
    "start_time": "2023-07-18T13:11:41.029Z"
   },
   {
    "duration": 183,
    "start_time": "2023-07-18T13:11:41.037Z"
   },
   {
    "duration": 4,
    "start_time": "2023-07-18T13:11:41.223Z"
   },
   {
    "duration": 23,
    "start_time": "2023-07-18T13:11:41.229Z"
   },
   {
    "duration": 35,
    "start_time": "2023-07-18T13:11:41.254Z"
   },
   {
    "duration": 4,
    "start_time": "2023-07-18T13:11:41.290Z"
   },
   {
    "duration": 11,
    "start_time": "2023-07-18T13:11:41.296Z"
   },
   {
    "duration": 40,
    "start_time": "2023-07-18T13:11:41.309Z"
   },
   {
    "duration": 7,
    "start_time": "2023-07-18T13:11:41.351Z"
   },
   {
    "duration": 7,
    "start_time": "2023-07-18T13:11:41.360Z"
   },
   {
    "duration": 8,
    "start_time": "2023-07-18T13:11:41.375Z"
   },
   {
    "duration": 1181,
    "start_time": "2023-07-18T13:23:28.230Z"
   },
   {
    "duration": 300,
    "start_time": "2023-07-18T13:23:29.413Z"
   },
   {
    "duration": 31,
    "start_time": "2023-07-18T13:23:29.715Z"
   },
   {
    "duration": 17,
    "start_time": "2023-07-18T13:23:29.748Z"
   },
   {
    "duration": 13,
    "start_time": "2023-07-18T13:23:29.767Z"
   },
   {
    "duration": 24,
    "start_time": "2023-07-18T13:23:29.782Z"
   },
   {
    "duration": 47,
    "start_time": "2023-07-18T13:23:29.808Z"
   },
   {
    "duration": 32,
    "start_time": "2023-07-18T13:23:29.857Z"
   },
   {
    "duration": 12,
    "start_time": "2023-07-18T13:23:29.891Z"
   },
   {
    "duration": 37,
    "start_time": "2023-07-18T13:23:29.906Z"
   },
   {
    "duration": 28,
    "start_time": "2023-07-18T13:23:29.945Z"
   },
   {
    "duration": 20,
    "start_time": "2023-07-18T13:23:29.975Z"
   },
   {
    "duration": 54,
    "start_time": "2023-07-18T13:23:29.997Z"
   },
   {
    "duration": 1293,
    "start_time": "2023-07-18T13:23:30.053Z"
   },
   {
    "duration": 2,
    "start_time": "2023-07-18T13:23:31.348Z"
   },
   {
    "duration": 75,
    "start_time": "2023-07-18T13:23:31.352Z"
   },
   {
    "duration": 46,
    "start_time": "2023-07-18T13:23:31.429Z"
   },
   {
    "duration": 47,
    "start_time": "2023-07-18T13:23:31.476Z"
   },
   {
    "duration": 77,
    "start_time": "2023-07-18T13:23:31.525Z"
   },
   {
    "duration": 5108,
    "start_time": "2023-07-18T13:23:31.604Z"
   },
   {
    "duration": 12,
    "start_time": "2023-07-18T13:23:36.714Z"
   },
   {
    "duration": 186,
    "start_time": "2023-07-18T13:23:36.729Z"
   },
   {
    "duration": 4,
    "start_time": "2023-07-18T13:23:36.916Z"
   },
   {
    "duration": 14,
    "start_time": "2023-07-18T13:23:36.922Z"
   },
   {
    "duration": 18,
    "start_time": "2023-07-18T13:23:36.938Z"
   },
   {
    "duration": 17228,
    "start_time": "2023-07-18T13:23:36.959Z"
   },
   {
    "duration": 7,
    "start_time": "2023-07-18T13:23:54.189Z"
   },
   {
    "duration": 162,
    "start_time": "2023-07-18T13:23:54.199Z"
   },
   {
    "duration": 4,
    "start_time": "2023-07-18T13:23:54.363Z"
   },
   {
    "duration": 14,
    "start_time": "2023-07-18T13:23:54.375Z"
   },
   {
    "duration": 29,
    "start_time": "2023-07-18T13:23:54.391Z"
   },
   {
    "duration": 4,
    "start_time": "2023-07-18T13:23:54.421Z"
   },
   {
    "duration": 12,
    "start_time": "2023-07-18T13:23:54.427Z"
   },
   {
    "duration": 22,
    "start_time": "2023-07-18T13:23:54.440Z"
   },
   {
    "duration": 6,
    "start_time": "2023-07-18T13:23:54.475Z"
   },
   {
    "duration": 12,
    "start_time": "2023-07-18T13:23:54.483Z"
   },
   {
    "duration": 13,
    "start_time": "2023-07-18T13:23:54.497Z"
   },
   {
    "duration": 6,
    "start_time": "2023-07-18T13:25:43.553Z"
   }
  ],
  "kernelspec": {
   "display_name": "Python 3 (ipykernel)",
   "language": "python",
   "name": "python3"
  },
  "language_info": {
   "codemirror_mode": {
    "name": "ipython",
    "version": 3
   },
   "file_extension": ".py",
   "mimetype": "text/x-python",
   "name": "python",
   "nbconvert_exporter": "python",
   "pygments_lexer": "ipython3",
   "version": "3.10.9"
  },
  "toc": {
   "base_numbering": 1,
   "nav_menu": {},
   "number_sections": true,
   "sideBar": true,
   "skip_h1_title": true,
   "title_cell": "Table of Contents",
   "title_sidebar": "Contents",
   "toc_cell": false,
   "toc_position": {
    "height": "calc(100% - 180px)",
    "left": "10px",
    "top": "150px",
    "width": "363px"
   },
   "toc_section_display": true,
   "toc_window_display": true
  }
 },
 "nbformat": 4,
 "nbformat_minor": 2
}
