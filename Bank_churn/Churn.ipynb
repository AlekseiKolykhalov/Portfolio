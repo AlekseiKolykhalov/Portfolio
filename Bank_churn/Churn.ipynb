{
 "cells": [
  {
   "cell_type": "markdown",
   "metadata": {},
   "source": [
    "# Отток клиентов"
   ]
  },
  {
   "cell_type": "markdown",
   "metadata": {},
   "source": [
    "Из Банка стали уходить клиенты. Каждый месяц. Банковские маркетологи посчитали: сохранять текущих клиентов дешевле, чем привлекать новых.\n",
    "\n",
    "Нужно спрогнозировать, уйдёт клиент из банка в ближайшее время или нет. Нам предоставлены исторические данные о поведении клиентов и расторжении договоров с банком. \n",
    "\n",
    "Нужно построить модель с предельно большим значением *F1*-меры."
   ]
  },
  {
   "cell_type": "markdown",
   "metadata": {},
   "source": [
    "**Описание данных**"
   ]
  },
  {
   "cell_type": "markdown",
   "metadata": {},
   "source": [
    "Признаки\n",
    "- RowNumber — индекс строки в данных\n",
    "- CustomerId — уникальный идентификатор клиента\n",
    "- Surname — фамилия\n",
    "- CreditScore — кредитный рейтинг\n",
    "- Geography — страна проживания\n",
    "- Gender — пол\n",
    "- Age — возраст\n",
    "- Tenure — сколько лет человек является клиентом банка\n",
    "- Balance — баланс на счёте\n",
    "- NumOfProducts — количество продуктов банка, используемых клиентом\n",
    "- HasCrCard — наличие кредитной карты\n",
    "- IsActiveMember — активность клиента\n",
    "- EstimatedSalary — предполагаемая зарплата\n",
    "\n",
    "Целевой признак\n",
    "- Exited — факт ухода клиента"
   ]
  },
  {
   "cell_type": "markdown",
   "metadata": {},
   "source": [
    "**План работы**"
   ]
  },
  {
   "cell_type": "markdown",
   "metadata": {},
   "source": [
    "1. Изучим и подготовим данные(обработаем пропуски, дубликаты, преобразуем категориальные признаки в численные).\n",
    "2. Разделим данные на три выборки.\n",
    "3. Исследуем модели классификации: дерево решений, случайный лес, логистическая регрессия.\n",
    "4. Подберем лучшие гиперпараметры.\n",
    "5. Проведем балансировку классов несколькими методами.\n",
    "5. Проверим лучшую модель на тестовой выборке."
   ]
  },
  {
   "cell_type": "code",
   "execution_count": 1,
   "metadata": {},
   "outputs": [],
   "source": [
    "import pandas as pd\n",
    "import numpy as np\n",
    "import matplotlib.pyplot as plt\n",
    "import seaborn as sns\n",
    "\n",
    "from sklearn.tree import DecisionTreeClassifier\n",
    "from sklearn.ensemble import RandomForestClassifier\n",
    "from sklearn.metrics import f1_score, roc_auc_score, roc_curve\n",
    "from sklearn.model_selection import train_test_split\n",
    "from sklearn.linear_model import LogisticRegression\n",
    "from sklearn.preprocessing import StandardScaler\n",
    "from sklearn.utils import shuffle\n",
    "\n",
    "from fast_ml.model_development import train_valid_test_split"
   ]
  },
  {
   "cell_type": "markdown",
   "metadata": {},
   "source": [
    "## Подготовка данных"
   ]
  },
  {
   "cell_type": "code",
   "execution_count": 2,
   "metadata": {},
   "outputs": [
    {
     "data": {
      "text/html": [
       "<div>\n",
       "<style scoped>\n",
       "    .dataframe tbody tr th:only-of-type {\n",
       "        vertical-align: middle;\n",
       "    }\n",
       "\n",
       "    .dataframe tbody tr th {\n",
       "        vertical-align: top;\n",
       "    }\n",
       "\n",
       "    .dataframe thead th {\n",
       "        text-align: right;\n",
       "    }\n",
       "</style>\n",
       "<table border=\"1\" class=\"dataframe\">\n",
       "  <thead>\n",
       "    <tr style=\"text-align: right;\">\n",
       "      <th></th>\n",
       "      <th>RowNumber</th>\n",
       "      <th>CustomerId</th>\n",
       "      <th>Surname</th>\n",
       "      <th>CreditScore</th>\n",
       "      <th>Geography</th>\n",
       "      <th>Gender</th>\n",
       "      <th>Age</th>\n",
       "      <th>Tenure</th>\n",
       "      <th>Balance</th>\n",
       "      <th>NumOfProducts</th>\n",
       "      <th>HasCrCard</th>\n",
       "      <th>IsActiveMember</th>\n",
       "      <th>EstimatedSalary</th>\n",
       "      <th>Exited</th>\n",
       "    </tr>\n",
       "  </thead>\n",
       "  <tbody>\n",
       "    <tr>\n",
       "      <th>0</th>\n",
       "      <td>1</td>\n",
       "      <td>15634602</td>\n",
       "      <td>Hargrave</td>\n",
       "      <td>619</td>\n",
       "      <td>France</td>\n",
       "      <td>Female</td>\n",
       "      <td>42</td>\n",
       "      <td>2.0</td>\n",
       "      <td>0.00</td>\n",
       "      <td>1</td>\n",
       "      <td>1</td>\n",
       "      <td>1</td>\n",
       "      <td>101348.88</td>\n",
       "      <td>1</td>\n",
       "    </tr>\n",
       "    <tr>\n",
       "      <th>1</th>\n",
       "      <td>2</td>\n",
       "      <td>15647311</td>\n",
       "      <td>Hill</td>\n",
       "      <td>608</td>\n",
       "      <td>Spain</td>\n",
       "      <td>Female</td>\n",
       "      <td>41</td>\n",
       "      <td>1.0</td>\n",
       "      <td>83807.86</td>\n",
       "      <td>1</td>\n",
       "      <td>0</td>\n",
       "      <td>1</td>\n",
       "      <td>112542.58</td>\n",
       "      <td>0</td>\n",
       "    </tr>\n",
       "    <tr>\n",
       "      <th>2</th>\n",
       "      <td>3</td>\n",
       "      <td>15619304</td>\n",
       "      <td>Onio</td>\n",
       "      <td>502</td>\n",
       "      <td>France</td>\n",
       "      <td>Female</td>\n",
       "      <td>42</td>\n",
       "      <td>8.0</td>\n",
       "      <td>159660.80</td>\n",
       "      <td>3</td>\n",
       "      <td>1</td>\n",
       "      <td>0</td>\n",
       "      <td>113931.57</td>\n",
       "      <td>1</td>\n",
       "    </tr>\n",
       "    <tr>\n",
       "      <th>3</th>\n",
       "      <td>4</td>\n",
       "      <td>15701354</td>\n",
       "      <td>Boni</td>\n",
       "      <td>699</td>\n",
       "      <td>France</td>\n",
       "      <td>Female</td>\n",
       "      <td>39</td>\n",
       "      <td>1.0</td>\n",
       "      <td>0.00</td>\n",
       "      <td>2</td>\n",
       "      <td>0</td>\n",
       "      <td>0</td>\n",
       "      <td>93826.63</td>\n",
       "      <td>0</td>\n",
       "    </tr>\n",
       "    <tr>\n",
       "      <th>4</th>\n",
       "      <td>5</td>\n",
       "      <td>15737888</td>\n",
       "      <td>Mitchell</td>\n",
       "      <td>850</td>\n",
       "      <td>Spain</td>\n",
       "      <td>Female</td>\n",
       "      <td>43</td>\n",
       "      <td>2.0</td>\n",
       "      <td>125510.82</td>\n",
       "      <td>1</td>\n",
       "      <td>1</td>\n",
       "      <td>1</td>\n",
       "      <td>79084.10</td>\n",
       "      <td>0</td>\n",
       "    </tr>\n",
       "  </tbody>\n",
       "</table>\n",
       "</div>"
      ],
      "text/plain": [
       "   RowNumber  CustomerId   Surname  CreditScore Geography  Gender  Age  \\\n",
       "0          1    15634602  Hargrave          619    France  Female   42   \n",
       "1          2    15647311      Hill          608     Spain  Female   41   \n",
       "2          3    15619304      Onio          502    France  Female   42   \n",
       "3          4    15701354      Boni          699    France  Female   39   \n",
       "4          5    15737888  Mitchell          850     Spain  Female   43   \n",
       "\n",
       "   Tenure    Balance  NumOfProducts  HasCrCard  IsActiveMember  \\\n",
       "0     2.0       0.00              1          1               1   \n",
       "1     1.0   83807.86              1          0               1   \n",
       "2     8.0  159660.80              3          1               0   \n",
       "3     1.0       0.00              2          0               0   \n",
       "4     2.0  125510.82              1          1               1   \n",
       "\n",
       "   EstimatedSalary  Exited  \n",
       "0        101348.88       1  \n",
       "1        112542.58       0  \n",
       "2        113931.57       1  \n",
       "3         93826.63       0  \n",
       "4         79084.10       0  "
      ]
     },
     "execution_count": 2,
     "metadata": {},
     "output_type": "execute_result"
    }
   ],
   "source": [
    "df = pd.read_csv('Churn.csv')\n",
    "df.head()"
   ]
  },
  {
   "cell_type": "code",
   "execution_count": 3,
   "metadata": {
    "scrolled": false
   },
   "outputs": [
    {
     "name": "stdout",
     "output_type": "stream",
     "text": [
      "<class 'pandas.core.frame.DataFrame'>\n",
      "RangeIndex: 10000 entries, 0 to 9999\n",
      "Data columns (total 14 columns):\n",
      " #   Column           Non-Null Count  Dtype  \n",
      "---  ------           --------------  -----  \n",
      " 0   RowNumber        10000 non-null  int64  \n",
      " 1   CustomerId       10000 non-null  int64  \n",
      " 2   Surname          10000 non-null  object \n",
      " 3   CreditScore      10000 non-null  int64  \n",
      " 4   Geography        10000 non-null  object \n",
      " 5   Gender           10000 non-null  object \n",
      " 6   Age              10000 non-null  int64  \n",
      " 7   Tenure           9091 non-null   float64\n",
      " 8   Balance          10000 non-null  float64\n",
      " 9   NumOfProducts    10000 non-null  int64  \n",
      " 10  HasCrCard        10000 non-null  int64  \n",
      " 11  IsActiveMember   10000 non-null  int64  \n",
      " 12  EstimatedSalary  10000 non-null  float64\n",
      " 13  Exited           10000 non-null  int64  \n",
      "dtypes: float64(3), int64(8), object(3)\n",
      "memory usage: 1.1+ MB\n"
     ]
    }
   ],
   "source": [
    "df.info()"
   ]
  },
  {
   "cell_type": "code",
   "execution_count": 4,
   "metadata": {
    "scrolled": true
   },
   "outputs": [
    {
     "data": {
      "text/plain": [
       "RowNumber            0\n",
       "CustomerId           0\n",
       "Surname              0\n",
       "CreditScore          0\n",
       "Geography            0\n",
       "Gender               0\n",
       "Age                  0\n",
       "Tenure             909\n",
       "Balance              0\n",
       "NumOfProducts        0\n",
       "HasCrCard            0\n",
       "IsActiveMember       0\n",
       "EstimatedSalary      0\n",
       "Exited               0\n",
       "dtype: int64"
      ]
     },
     "execution_count": 4,
     "metadata": {},
     "output_type": "execute_result"
    }
   ],
   "source": [
    "df.isna().sum()"
   ]
  },
  {
   "cell_type": "code",
   "execution_count": 5,
   "metadata": {},
   "outputs": [
    {
     "data": {
      "text/plain": [
       "array([ 2.,  1.,  8.,  7.,  4.,  6.,  3., 10.,  5.,  9.,  0., nan])"
      ]
     },
     "execution_count": 5,
     "metadata": {},
     "output_type": "execute_result"
    }
   ],
   "source": [
    "df.Tenure.unique()"
   ]
  },
  {
   "cell_type": "markdown",
   "metadata": {},
   "source": [
    "Пропуски в столбце Tenure скорее всего означают, что человек является клиентом меньше года. Заменим пропуски на нули."
   ]
  },
  {
   "cell_type": "code",
   "execution_count": 6,
   "metadata": {},
   "outputs": [
    {
     "data": {
      "text/plain": [
       "RowNumber          0\n",
       "CustomerId         0\n",
       "Surname            0\n",
       "CreditScore        0\n",
       "Geography          0\n",
       "Gender             0\n",
       "Age                0\n",
       "Tenure             0\n",
       "Balance            0\n",
       "NumOfProducts      0\n",
       "HasCrCard          0\n",
       "IsActiveMember     0\n",
       "EstimatedSalary    0\n",
       "Exited             0\n",
       "dtype: int64"
      ]
     },
     "execution_count": 6,
     "metadata": {},
     "output_type": "execute_result"
    }
   ],
   "source": [
    "df.Tenure = df.Tenure.fillna(0)\n",
    "df.isna().sum()"
   ]
  },
  {
   "cell_type": "code",
   "execution_count": 7,
   "metadata": {},
   "outputs": [
    {
     "data": {
      "text/plain": [
       "0"
      ]
     },
     "execution_count": 7,
     "metadata": {},
     "output_type": "execute_result"
    }
   ],
   "source": [
    "df.duplicated().sum()"
   ]
  },
  {
   "cell_type": "markdown",
   "metadata": {},
   "source": [
    "Дубликаты не обнаружены."
   ]
  },
  {
   "cell_type": "markdown",
   "metadata": {},
   "source": [
    "Столбцы `RowNumber`, `CustomerId`, `Surname` для обучения модели не нужны. Удалим их."
   ]
  },
  {
   "cell_type": "code",
   "execution_count": 8,
   "metadata": {
    "scrolled": true
   },
   "outputs": [
    {
     "data": {
      "text/html": [
       "<div>\n",
       "<style scoped>\n",
       "    .dataframe tbody tr th:only-of-type {\n",
       "        vertical-align: middle;\n",
       "    }\n",
       "\n",
       "    .dataframe tbody tr th {\n",
       "        vertical-align: top;\n",
       "    }\n",
       "\n",
       "    .dataframe thead th {\n",
       "        text-align: right;\n",
       "    }\n",
       "</style>\n",
       "<table border=\"1\" class=\"dataframe\">\n",
       "  <thead>\n",
       "    <tr style=\"text-align: right;\">\n",
       "      <th></th>\n",
       "      <th>CreditScore</th>\n",
       "      <th>Geography</th>\n",
       "      <th>Gender</th>\n",
       "      <th>Age</th>\n",
       "      <th>Tenure</th>\n",
       "      <th>Balance</th>\n",
       "      <th>NumOfProducts</th>\n",
       "      <th>HasCrCard</th>\n",
       "      <th>IsActiveMember</th>\n",
       "      <th>EstimatedSalary</th>\n",
       "      <th>Exited</th>\n",
       "    </tr>\n",
       "  </thead>\n",
       "  <tbody>\n",
       "    <tr>\n",
       "      <th>0</th>\n",
       "      <td>619</td>\n",
       "      <td>France</td>\n",
       "      <td>Female</td>\n",
       "      <td>42</td>\n",
       "      <td>2.0</td>\n",
       "      <td>0.00</td>\n",
       "      <td>1</td>\n",
       "      <td>1</td>\n",
       "      <td>1</td>\n",
       "      <td>101348.88</td>\n",
       "      <td>1</td>\n",
       "    </tr>\n",
       "    <tr>\n",
       "      <th>1</th>\n",
       "      <td>608</td>\n",
       "      <td>Spain</td>\n",
       "      <td>Female</td>\n",
       "      <td>41</td>\n",
       "      <td>1.0</td>\n",
       "      <td>83807.86</td>\n",
       "      <td>1</td>\n",
       "      <td>0</td>\n",
       "      <td>1</td>\n",
       "      <td>112542.58</td>\n",
       "      <td>0</td>\n",
       "    </tr>\n",
       "  </tbody>\n",
       "</table>\n",
       "</div>"
      ],
      "text/plain": [
       "   CreditScore Geography  Gender  Age  Tenure   Balance  NumOfProducts  \\\n",
       "0          619    France  Female   42     2.0      0.00              1   \n",
       "1          608     Spain  Female   41     1.0  83807.86              1   \n",
       "\n",
       "   HasCrCard  IsActiveMember  EstimatedSalary  Exited  \n",
       "0          1               1        101348.88       1  \n",
       "1          0               1        112542.58       0  "
      ]
     },
     "execution_count": 8,
     "metadata": {},
     "output_type": "execute_result"
    }
   ],
   "source": [
    "df = df.drop(['RowNumber', 'CustomerId', 'Surname'], axis=1)\n",
    "df.head(2)"
   ]
  },
  {
   "cell_type": "markdown",
   "metadata": {},
   "source": [
    "Преобразуем категориальные признаки в численные методом One-Hot Encoding."
   ]
  },
  {
   "cell_type": "code",
   "execution_count": 9,
   "metadata": {
    "scrolled": true
   },
   "outputs": [
    {
     "data": {
      "text/html": [
       "<div>\n",
       "<style scoped>\n",
       "    .dataframe tbody tr th:only-of-type {\n",
       "        vertical-align: middle;\n",
       "    }\n",
       "\n",
       "    .dataframe tbody tr th {\n",
       "        vertical-align: top;\n",
       "    }\n",
       "\n",
       "    .dataframe thead th {\n",
       "        text-align: right;\n",
       "    }\n",
       "</style>\n",
       "<table border=\"1\" class=\"dataframe\">\n",
       "  <thead>\n",
       "    <tr style=\"text-align: right;\">\n",
       "      <th></th>\n",
       "      <th>CreditScore</th>\n",
       "      <th>Age</th>\n",
       "      <th>Tenure</th>\n",
       "      <th>Balance</th>\n",
       "      <th>NumOfProducts</th>\n",
       "      <th>HasCrCard</th>\n",
       "      <th>IsActiveMember</th>\n",
       "      <th>EstimatedSalary</th>\n",
       "      <th>Exited</th>\n",
       "      <th>Geography_Germany</th>\n",
       "      <th>Geography_Spain</th>\n",
       "      <th>Gender_Male</th>\n",
       "    </tr>\n",
       "  </thead>\n",
       "  <tbody>\n",
       "    <tr>\n",
       "      <th>0</th>\n",
       "      <td>619</td>\n",
       "      <td>42</td>\n",
       "      <td>2.0</td>\n",
       "      <td>0.00</td>\n",
       "      <td>1</td>\n",
       "      <td>1</td>\n",
       "      <td>1</td>\n",
       "      <td>101348.88</td>\n",
       "      <td>1</td>\n",
       "      <td>0</td>\n",
       "      <td>0</td>\n",
       "      <td>0</td>\n",
       "    </tr>\n",
       "    <tr>\n",
       "      <th>1</th>\n",
       "      <td>608</td>\n",
       "      <td>41</td>\n",
       "      <td>1.0</td>\n",
       "      <td>83807.86</td>\n",
       "      <td>1</td>\n",
       "      <td>0</td>\n",
       "      <td>1</td>\n",
       "      <td>112542.58</td>\n",
       "      <td>0</td>\n",
       "      <td>0</td>\n",
       "      <td>1</td>\n",
       "      <td>0</td>\n",
       "    </tr>\n",
       "  </tbody>\n",
       "</table>\n",
       "</div>"
      ],
      "text/plain": [
       "   CreditScore  Age  Tenure   Balance  NumOfProducts  HasCrCard  \\\n",
       "0          619   42     2.0      0.00              1          1   \n",
       "1          608   41     1.0  83807.86              1          0   \n",
       "\n",
       "   IsActiveMember  EstimatedSalary  Exited  Geography_Germany  \\\n",
       "0               1        101348.88       1                  0   \n",
       "1               1        112542.58       0                  0   \n",
       "\n",
       "   Geography_Spain  Gender_Male  \n",
       "0                0            0  \n",
       "1                1            0  "
      ]
     },
     "execution_count": 9,
     "metadata": {},
     "output_type": "execute_result"
    }
   ],
   "source": [
    "df = pd.get_dummies(df, drop_first=True)\n",
    "df.head(2)"
   ]
  },
  {
   "cell_type": "markdown",
   "metadata": {},
   "source": [
    "На данном этапе мы:\n",
    "- загрузили данные;\n",
    "- исследовали данные;\n",
    "- обнаружили пропуски и заполнили их;\n",
    "- проверили на наличие дубликатов;\n",
    "- преобразовали категориальные признаки в численные."
   ]
  },
  {
   "cell_type": "markdown",
   "metadata": {},
   "source": [
    "## Исследование задачи"
   ]
  },
  {
   "cell_type": "markdown",
   "metadata": {},
   "source": [
    "Будем решать задачу классификации используя следующие модели:\n",
    "\n",
    "- Решающее дерево\n",
    "- Случайный лес\n",
    "- Логистическая регрессия\n",
    "\n",
    "Столбец `Exited` это целевой параметр. Будем предсказывать его значение через другие параметры."
   ]
  },
  {
   "cell_type": "markdown",
   "metadata": {},
   "source": [
    "Разобьем данные на обучающую, валидационную и тестовую выборки в соотношении 3:1:1"
   ]
  },
  {
   "cell_type": "code",
   "execution_count": 10,
   "metadata": {},
   "outputs": [],
   "source": [
    "X_train, y_train, X_valid, y_valid, X_test, y_test = train_valid_test_split(df, target = 'Exited',\n",
    "                                                                            train_size=0.6, valid_size=0.2, \n",
    "                                                                            test_size=0.2, random_state=123)"
   ]
  },
  {
   "cell_type": "markdown",
   "metadata": {},
   "source": [
    "Проверим размер выборок."
   ]
  },
  {
   "cell_type": "code",
   "execution_count": 11,
   "metadata": {},
   "outputs": [
    {
     "data": {
      "text/plain": [
       "(6000, 11)"
      ]
     },
     "metadata": {},
     "output_type": "display_data"
    },
    {
     "data": {
      "text/plain": [
       "(6000,)"
      ]
     },
     "execution_count": 11,
     "metadata": {},
     "output_type": "execute_result"
    }
   ],
   "source": [
    "display(X_train.shape)\n",
    "y_train.shape"
   ]
  },
  {
   "cell_type": "code",
   "execution_count": 12,
   "metadata": {},
   "outputs": [
    {
     "data": {
      "text/plain": [
       "(2000, 11)"
      ]
     },
     "metadata": {},
     "output_type": "display_data"
    },
    {
     "data": {
      "text/plain": [
       "(2000,)"
      ]
     },
     "execution_count": 12,
     "metadata": {},
     "output_type": "execute_result"
    }
   ],
   "source": [
    "display(X_valid.shape)\n",
    "y_valid.shape"
   ]
  },
  {
   "cell_type": "code",
   "execution_count": 13,
   "metadata": {},
   "outputs": [
    {
     "data": {
      "text/plain": [
       "(2000, 11)"
      ]
     },
     "metadata": {},
     "output_type": "display_data"
    },
    {
     "data": {
      "text/plain": [
       "(2000,)"
      ]
     },
     "execution_count": 13,
     "metadata": {},
     "output_type": "execute_result"
    }
   ],
   "source": [
    "display(X_test.shape)\n",
    "y_test.shape"
   ]
  },
  {
   "cell_type": "markdown",
   "metadata": {},
   "source": [
    "Рассмотрим баланс классов."
   ]
  },
  {
   "cell_type": "code",
   "execution_count": 14,
   "metadata": {},
   "outputs": [
    {
     "data": {
      "text/plain": [
       "0    7963\n",
       "1    2037\n",
       "Name: Exited, dtype: int64"
      ]
     },
     "execution_count": 14,
     "metadata": {},
     "output_type": "execute_result"
    }
   ],
   "source": [
    "df.Exited.value_counts()"
   ]
  },
  {
   "cell_type": "markdown",
   "metadata": {},
   "source": [
    "Наблюдаем дисбаланс классов. Положительный класс почти в 4 раза меньше отрицательного."
   ]
  },
  {
   "cell_type": "markdown",
   "metadata": {},
   "source": [
    "### Масштабирование признаков."
   ]
  },
  {
   "cell_type": "markdown",
   "metadata": {},
   "source": [
    "Произведем масштабирование признаков методом стандартизации данных."
   ]
  },
  {
   "cell_type": "code",
   "execution_count": 15,
   "metadata": {},
   "outputs": [
    {
     "data": {
      "text/html": [
       "<div>\n",
       "<style scoped>\n",
       "    .dataframe tbody tr th:only-of-type {\n",
       "        vertical-align: middle;\n",
       "    }\n",
       "\n",
       "    .dataframe tbody tr th {\n",
       "        vertical-align: top;\n",
       "    }\n",
       "\n",
       "    .dataframe thead th {\n",
       "        text-align: right;\n",
       "    }\n",
       "</style>\n",
       "<table border=\"1\" class=\"dataframe\">\n",
       "  <thead>\n",
       "    <tr style=\"text-align: right;\">\n",
       "      <th></th>\n",
       "      <th>CreditScore</th>\n",
       "      <th>Age</th>\n",
       "      <th>Tenure</th>\n",
       "      <th>Balance</th>\n",
       "      <th>NumOfProducts</th>\n",
       "      <th>HasCrCard</th>\n",
       "      <th>IsActiveMember</th>\n",
       "      <th>EstimatedSalary</th>\n",
       "      <th>Geography_Germany</th>\n",
       "      <th>Geography_Spain</th>\n",
       "      <th>Gender_Male</th>\n",
       "    </tr>\n",
       "  </thead>\n",
       "  <tbody>\n",
       "    <tr>\n",
       "      <th>9696</th>\n",
       "      <td>550</td>\n",
       "      <td>32</td>\n",
       "      <td>8.0</td>\n",
       "      <td>97514.07</td>\n",
       "      <td>1</td>\n",
       "      <td>1</td>\n",
       "      <td>1</td>\n",
       "      <td>199138.84</td>\n",
       "      <td>0</td>\n",
       "      <td>0</td>\n",
       "      <td>1</td>\n",
       "    </tr>\n",
       "    <tr>\n",
       "      <th>509</th>\n",
       "      <td>599</td>\n",
       "      <td>37</td>\n",
       "      <td>2.0</td>\n",
       "      <td>0.00</td>\n",
       "      <td>2</td>\n",
       "      <td>1</td>\n",
       "      <td>1</td>\n",
       "      <td>143739.29</td>\n",
       "      <td>0</td>\n",
       "      <td>1</td>\n",
       "      <td>0</td>\n",
       "    </tr>\n",
       "  </tbody>\n",
       "</table>\n",
       "</div>"
      ],
      "text/plain": [
       "      CreditScore  Age  Tenure   Balance  NumOfProducts  HasCrCard  \\\n",
       "9696          550   32     8.0  97514.07              1          1   \n",
       "509           599   37     2.0      0.00              2          1   \n",
       "\n",
       "      IsActiveMember  EstimatedSalary  Geography_Germany  Geography_Spain  \\\n",
       "9696               1        199138.84                  0                0   \n",
       "509                1        143739.29                  0                1   \n",
       "\n",
       "      Gender_Male  \n",
       "9696            1  \n",
       "509             0  "
      ]
     },
     "execution_count": 15,
     "metadata": {},
     "output_type": "execute_result"
    }
   ],
   "source": [
    "X_train.head(2)"
   ]
  },
  {
   "cell_type": "code",
   "execution_count": 16,
   "metadata": {},
   "outputs": [],
   "source": [
    "# Численные признаки занесем в переменную\n",
    "numeric = ['CreditScore', 'Age', 'Tenure', 'Balance', 'NumOfProducts', 'EstimatedSalary']\n",
    "\n",
    "# Создание объекта для стандартизации данных\n",
    "scaler = StandardScaler()\n",
    "scaler.fit(X_train[numeric])\n",
    "\n",
    "X_train[numeric] = scaler.transform(X_train[numeric])  # Масштабирование обучающего набора данных\n",
    "X_valid[numeric] = scaler.transform(X_valid[numeric])  # Масштабирование валидационного набора данных\n",
    "X_test[numeric] = scaler.transform(X_test[numeric])  # Масштабирование тестового набора данных"
   ]
  },
  {
   "cell_type": "code",
   "execution_count": 17,
   "metadata": {},
   "outputs": [
    {
     "data": {
      "text/html": [
       "<div>\n",
       "<style scoped>\n",
       "    .dataframe tbody tr th:only-of-type {\n",
       "        vertical-align: middle;\n",
       "    }\n",
       "\n",
       "    .dataframe tbody tr th {\n",
       "        vertical-align: top;\n",
       "    }\n",
       "\n",
       "    .dataframe thead th {\n",
       "        text-align: right;\n",
       "    }\n",
       "</style>\n",
       "<table border=\"1\" class=\"dataframe\">\n",
       "  <thead>\n",
       "    <tr style=\"text-align: right;\">\n",
       "      <th></th>\n",
       "      <th>CreditScore</th>\n",
       "      <th>Age</th>\n",
       "      <th>Tenure</th>\n",
       "      <th>Balance</th>\n",
       "      <th>NumOfProducts</th>\n",
       "      <th>HasCrCard</th>\n",
       "      <th>IsActiveMember</th>\n",
       "      <th>EstimatedSalary</th>\n",
       "      <th>Geography_Germany</th>\n",
       "      <th>Geography_Spain</th>\n",
       "      <th>Gender_Male</th>\n",
       "    </tr>\n",
       "  </thead>\n",
       "  <tbody>\n",
       "    <tr>\n",
       "      <th>9696</th>\n",
       "      <td>-1.036502</td>\n",
       "      <td>-0.653217</td>\n",
       "      <td>1.116306</td>\n",
       "      <td>0.329383</td>\n",
       "      <td>-0.911674</td>\n",
       "      <td>1</td>\n",
       "      <td>1</td>\n",
       "      <td>1.717588</td>\n",
       "      <td>0</td>\n",
       "      <td>0</td>\n",
       "      <td>1</td>\n",
       "    </tr>\n",
       "    <tr>\n",
       "      <th>509</th>\n",
       "      <td>-0.529560</td>\n",
       "      <td>-0.185576</td>\n",
       "      <td>-0.808267</td>\n",
       "      <td>-1.222776</td>\n",
       "      <td>0.799319</td>\n",
       "      <td>1</td>\n",
       "      <td>1</td>\n",
       "      <td>0.758922</td>\n",
       "      <td>0</td>\n",
       "      <td>1</td>\n",
       "      <td>0</td>\n",
       "    </tr>\n",
       "    <tr>\n",
       "      <th>621</th>\n",
       "      <td>0.060149</td>\n",
       "      <td>0.095009</td>\n",
       "      <td>1.757830</td>\n",
       "      <td>1.449393</td>\n",
       "      <td>-0.911674</td>\n",
       "      <td>0</td>\n",
       "      <td>1</td>\n",
       "      <td>0.899918</td>\n",
       "      <td>0</td>\n",
       "      <td>1</td>\n",
       "      <td>0</td>\n",
       "    </tr>\n",
       "    <tr>\n",
       "      <th>7681</th>\n",
       "      <td>-0.095038</td>\n",
       "      <td>-0.559689</td>\n",
       "      <td>-0.808267</td>\n",
       "      <td>1.104228</td>\n",
       "      <td>0.799319</td>\n",
       "      <td>1</td>\n",
       "      <td>1</td>\n",
       "      <td>-0.762886</td>\n",
       "      <td>0</td>\n",
       "      <td>0</td>\n",
       "      <td>1</td>\n",
       "    </tr>\n",
       "    <tr>\n",
       "      <th>4265</th>\n",
       "      <td>0.608474</td>\n",
       "      <td>-0.653217</td>\n",
       "      <td>-0.166743</td>\n",
       "      <td>1.121965</td>\n",
       "      <td>-0.911674</td>\n",
       "      <td>0</td>\n",
       "      <td>1</td>\n",
       "      <td>-1.021335</td>\n",
       "      <td>0</td>\n",
       "      <td>0</td>\n",
       "      <td>1</td>\n",
       "    </tr>\n",
       "  </tbody>\n",
       "</table>\n",
       "</div>"
      ],
      "text/plain": [
       "      CreditScore       Age    Tenure   Balance  NumOfProducts  HasCrCard  \\\n",
       "9696    -1.036502 -0.653217  1.116306  0.329383      -0.911674          1   \n",
       "509     -0.529560 -0.185576 -0.808267 -1.222776       0.799319          1   \n",
       "621      0.060149  0.095009  1.757830  1.449393      -0.911674          0   \n",
       "7681    -0.095038 -0.559689 -0.808267  1.104228       0.799319          1   \n",
       "4265     0.608474 -0.653217 -0.166743  1.121965      -0.911674          0   \n",
       "\n",
       "      IsActiveMember  EstimatedSalary  Geography_Germany  Geography_Spain  \\\n",
       "9696               1         1.717588                  0                0   \n",
       "509                1         0.758922                  0                1   \n",
       "621                1         0.899918                  0                1   \n",
       "7681               1        -0.762886                  0                0   \n",
       "4265               1        -1.021335                  0                0   \n",
       "\n",
       "      Gender_Male  \n",
       "9696            1  \n",
       "509             0  \n",
       "621             0  \n",
       "7681            1  \n",
       "4265            1  "
      ]
     },
     "execution_count": 17,
     "metadata": {},
     "output_type": "execute_result"
    }
   ],
   "source": [
    "X_train.head()"
   ]
  },
  {
   "cell_type": "markdown",
   "metadata": {},
   "source": [
    "### Дерево решений."
   ]
  },
  {
   "cell_type": "code",
   "execution_count": 18,
   "metadata": {},
   "outputs": [],
   "source": [
    "best_model_tree = None\n",
    "best_criterion = None\n",
    "best_result_tree = 0\n",
    "best_depth = 0"
   ]
  },
  {
   "cell_type": "code",
   "execution_count": 19,
   "metadata": {},
   "outputs": [],
   "source": [
    "for depth in range(1, 15):\n",
    "    for criterion in ['gini', 'entropy']:\n",
    "        model = DecisionTreeClassifier(criterion=criterion, random_state=42, max_depth=depth)\n",
    "        model.fit(X_train, y_train)  # обучим модель на тренировочных данных\n",
    "        predictions_valid = model.predict(X_valid)  # найдем предсказания на валидационной выборке\n",
    "        valid_score = f1_score(y_valid, predictions_valid)\n",
    "\n",
    "        if valid_score > best_result_tree:\n",
    "            best_model_tree = model\n",
    "            best_result_tree = valid_score\n",
    "            best_depth = depth\n",
    "            best_criterion = criterion"
   ]
  },
  {
   "cell_type": "code",
   "execution_count": 20,
   "metadata": {
    "scrolled": true
   },
   "outputs": [
    {
     "name": "stdout",
     "output_type": "stream",
     "text": [
      "F1_score лучшей модели: 0.57\n",
      "Depth лучшей модели: 6\n",
      "Criterion лучшей модели: entropy\n"
     ]
    }
   ],
   "source": [
    "print('F1_score лучшей модели:', best_result_tree.round(2))\n",
    "print('Depth лучшей модели:', best_depth)\n",
    "print('Criterion лучшей модели:', best_criterion)"
   ]
  },
  {
   "cell_type": "markdown",
   "metadata": {},
   "source": [
    "### Случайный лес."
   ]
  },
  {
   "cell_type": "code",
   "execution_count": 21,
   "metadata": {},
   "outputs": [],
   "source": [
    "best_model_forest = None\n",
    "best_result_forest = 0\n",
    "best_depth_forest = 0\n",
    "best_est = 0"
   ]
  },
  {
   "cell_type": "markdown",
   "metadata": {},
   "source": [
    "Сначала подберем глубину леса при небольшом числе деревьев."
   ]
  },
  {
   "cell_type": "code",
   "execution_count": 22,
   "metadata": {
    "scrolled": false
   },
   "outputs": [
    {
     "name": "stdout",
     "output_type": "stream",
     "text": [
      "Глубина леса: 1 f1_score: 0.0\n",
      "Глубина леса: 2 f1_score: 0.1367924528301887\n",
      "Глубина леса: 3 f1_score: 0.29957805907172996\n",
      "Глубина леса: 4 f1_score: 0.35245901639344257\n",
      "Глубина леса: 5 f1_score: 0.4835164835164835\n",
      "Глубина леса: 6 f1_score: 0.494661921708185\n",
      "Глубина леса: 7 f1_score: 0.5273972602739726\n",
      "Глубина леса: 8 f1_score: 0.5424292845257904\n",
      "Глубина леса: 9 f1_score: 0.537704918032787\n",
      "Глубина леса: 10 f1_score: 0.5602605863192182\n",
      "Глубина леса: 11 f1_score: 0.5727848101265823\n",
      "Глубина леса: 12 f1_score: 0.58125\n",
      "Глубина леса: 13 f1_score: 0.5625\n",
      "Глубина леса: 14 f1_score: 0.5656877897990726\n",
      "Глубина леса: 15 f1_score: 0.5591397849462365\n",
      "Глубина леса: 16 f1_score: 0.5696202531645569\n",
      "Глубина леса: 17 f1_score: 0.5457413249211357\n",
      "Глубина леса: 18 f1_score: 0.5754716981132075\n",
      "Глубина леса: 19 f1_score: 0.546031746031746\n",
      "\n",
      "Лучший результат при глубине леса: 12\n",
      "\n",
      "CPU times: total: 4.27 s\n",
      "Wall time: 4.53 s\n"
     ]
    }
   ],
   "source": [
    "%%time\n",
    "for depth in range(1, 20, 1):\n",
    "    model = RandomForestClassifier(n_estimators=20, max_depth=depth, random_state=42)\n",
    "    model.fit(X_train, y_train)  # обучим модель\n",
    "    predictions_valid = model.predict(X_valid)\n",
    "    valid_score = f1_score(y_valid, predictions_valid)\n",
    "    \n",
    "    print('Глубина леса:', depth, 'f1_score:', valid_score)\n",
    "    \n",
    "    if valid_score > best_result_forest:\n",
    "        best_result_forest = valid_score\n",
    "        best_depth_forest = depth\n",
    "print()        \n",
    "print('Лучший результат при глубине леса:', best_depth_forest)\n",
    "print()"
   ]
  },
  {
   "cell_type": "markdown",
   "metadata": {},
   "source": [
    "Определим количество деревьев с лучшим результатом."
   ]
  },
  {
   "cell_type": "code",
   "execution_count": 23,
   "metadata": {},
   "outputs": [],
   "source": [
    "best_result_forest = 0"
   ]
  },
  {
   "cell_type": "code",
   "execution_count": 24,
   "metadata": {},
   "outputs": [
    {
     "name": "stdout",
     "output_type": "stream",
     "text": [
      "est 20 f1_score 0.58125\n",
      "est 30 f1_score 0.5830721003134797\n",
      "est 40 f1_score 0.5727848101265823\n",
      "est 50 f1_score 0.5687203791469194\n",
      "est 60 f1_score 0.5596184419713832\n",
      "est 70 f1_score 0.5636942675159236\n",
      "est 80 f1_score 0.5650793650793652\n",
      "est 90 f1_score 0.5668789808917197\n",
      "est 100 f1_score 0.5705229793977813\n",
      "est 110 f1_score 0.5668789808917197\n",
      "est 120 f1_score 0.5723370429252782\n",
      "est 130 f1_score 0.5727848101265823\n",
      "est 140 f1_score 0.5727848101265823\n",
      "est 150 f1_score 0.5691573926868044\n",
      "est 160 f1_score 0.5700636942675159\n",
      "est 170 f1_score 0.5645933014354066\n",
      "est 180 f1_score 0.5700636942675159\n",
      "est 190 f1_score 0.5691573926868044\n",
      "\n",
      "F1_score лучшей модели: 0.58\n",
      "Количество деревьев лучшей модели: 30\n",
      "\n",
      "CPU times: total: 25.5 s\n",
      "Wall time: 26.7 s\n"
     ]
    }
   ],
   "source": [
    "%%time\n",
    "for est in range(20, 200, 10):\n",
    "    model = RandomForestClassifier(n_estimators=est, max_depth=12, random_state=42)\n",
    "    model.fit(X_train, y_train)  # обучим модель\n",
    "    predictions_valid = model.predict(X_valid)\n",
    "    valid_score = f1_score(y_valid, predictions_valid)\n",
    "\n",
    "    if valid_score > best_result_forest:\n",
    "        best_model_forest = model  # сохраним наилучшую модель\n",
    "        best_result_forest = valid_score  # сохраним наилучшее значение f1_score\n",
    "        best_est = est\n",
    "    \n",
    "    print('est', est, 'f1_score', valid_score)\n",
    "print()\n",
    "print('F1_score лучшей модели:', best_result_forest.round(2))\n",
    "print('Количество деревьев лучшей модели:', best_est)\n",
    "print()"
   ]
  },
  {
   "cell_type": "markdown",
   "metadata": {},
   "source": [
    "### Логистическая регрессия"
   ]
  },
  {
   "cell_type": "code",
   "execution_count": 25,
   "metadata": {},
   "outputs": [],
   "source": [
    "best_model_reg = None\n",
    "best_result_reg = 0\n",
    "best_max_iter = 0"
   ]
  },
  {
   "cell_type": "code",
   "execution_count": 26,
   "metadata": {},
   "outputs": [
    {
     "name": "stdout",
     "output_type": "stream",
     "text": [
      "iter 50 f1_score 0.5691573926868044\n",
      "iter 100 f1_score 0.5691573926868044\n",
      "iter 150 f1_score 0.5691573926868044\n",
      "iter 200 f1_score 0.5691573926868044\n",
      "iter 250 f1_score 0.5691573926868044\n",
      "iter 300 f1_score 0.5691573926868044\n",
      "iter 350 f1_score 0.5691573926868044\n",
      "iter 400 f1_score 0.5691573926868044\n",
      "iter 450 f1_score 0.5691573926868044\n",
      "iter 500 f1_score 0.5691573926868044\n",
      "iter 550 f1_score 0.5691573926868044\n",
      "iter 600 f1_score 0.5691573926868044\n",
      "iter 650 f1_score 0.5691573926868044\n",
      "iter 700 f1_score 0.5691573926868044\n",
      "iter 750 f1_score 0.5691573926868044\n",
      "iter 800 f1_score 0.5691573926868044\n",
      "iter 850 f1_score 0.5691573926868044\n",
      "iter 900 f1_score 0.5691573926868044\n",
      "iter 950 f1_score 0.5691573926868044\n",
      "\n",
      "F1_score лучшей модели: 0.57\n",
      "Количество итераций лучшей модели: 50\n",
      "\n",
      "CPU times: total: 359 ms\n",
      "Wall time: 375 ms\n"
     ]
    }
   ],
   "source": [
    "%%time\n",
    "for max_iter in range(50, 1000, 50):\n",
    "    model = LogisticRegression(random_state=42, solver='liblinear', max_iter=max_iter)  # создадим модель\n",
    "    model.fit(X_train, y_train)\n",
    "    predictons_valid = model.predict(X_valid)\n",
    "    regression_score = f1_score(y_valid, predictions_valid)\n",
    "        \n",
    "    if regression_score > best_result_reg:\n",
    "        best_model_reg = model\n",
    "        best_result_reg = regression_score\n",
    "        best_max_iter = max_iter\n",
    "    print('iter', max_iter, 'f1_score', regression_score)\n",
    "print()\n",
    "print('F1_score лучшей модели:', best_result_reg.round(2))\n",
    "print('Количество итераций лучшей модели:', best_max_iter)\n",
    "print()"
   ]
  },
  {
   "cell_type": "markdown",
   "metadata": {},
   "source": [
    "### ROC-кривая"
   ]
  },
  {
   "cell_type": "markdown",
   "metadata": {},
   "source": [
    "Построим ROC-кривую для трех моделей."
   ]
  },
  {
   "cell_type": "code",
   "execution_count": 27,
   "metadata": {},
   "outputs": [
    {
     "name": "stdout",
     "output_type": "stream",
     "text": [
      "auc_roc Решающее дерево : 0.84\n",
      "auc_roc Случайный лес : 0.86\n",
      "auc_roc Логистическая регрессия : 0.75\n"
     ]
    },
    {
     "data": {
      "image/png": "[encoded data removed]",
      "text/plain": [
       "<Figure size 1000x600 with 1 Axes>"
      ]
     },
     "metadata": {},
     "output_type": "display_data"
    }
   ],
   "source": [
    "plt.figure(figsize=(10, 6))\n",
    "\n",
    "def get_plot(model, X_valid, y_valid, label):\n",
    "    probabilities_valid = model.predict_proba(X_valid)\n",
    "    probabilities_one_valid = probabilities_valid[:, 1]\n",
    "    auc_roc = roc_auc_score(y_valid, probabilities_one_valid).round(2)  # auc_roc решающего дерева\n",
    "    fpr, tpr, thresholds = roc_curve(y_valid, probabilities_one_valid)\n",
    "    print('auc_roc', label, ':', auc_roc)\n",
    "    return plt.plot(fpr, tpr, label=label)\n",
    "\n",
    "get_plot(best_model_tree, X_valid, y_valid, 'Решающее дерево')\n",
    "get_plot(best_model_forest, X_valid, y_valid, 'Случайный лес')\n",
    "get_plot(best_model_reg, X_valid, y_valid, 'Логистическая регрессия')\n",
    "\n",
    "# ROC-кривая случайной модели\n",
    "plt.plot([0, 1], [0, 1], linestyle='--', label='Случайная модель')\n",
    "\n",
    "plt.xlim(0, 1)\n",
    "plt.ylim(0, 1)\n",
    "\n",
    "plt.xlabel(\"False Positive Rate\")\n",
    "plt.ylabel(\"True Positive Rate\")\n",
    "\n",
    "plt.title(\"ROC-кривая\")\n",
    "plt.legend()\n",
    "\n",
    "plt.show()"
   ]
  },
  {
   "cell_type": "markdown",
   "metadata": {},
   "source": [
    "**Вывод**\n",
    "\n",
    "На данном шаге мы рассмотрели метрики f1_score и aur_roc для несбалансированных данных и получили слудующие значения:\n",
    "\n",
    "- Решающее дерево: f1_score = 0.57, auc_roc = 0.84\n",
    "- Случайный лес: f1_score = 0.58, auc_roc = 0.86\n",
    "- Логистическая регрессия: f1_score = 0.57, auc_roc = 0.75"
   ]
  },
  {
   "cell_type": "markdown",
   "metadata": {},
   "source": [
    "## Борьба с дисбалансом"
   ]
  },
  {
   "cell_type": "markdown",
   "metadata": {},
   "source": [
    "### Взвешивание классов"
   ]
  },
  {
   "cell_type": "markdown",
   "metadata": {},
   "source": [
    "Дадим больший вес классу \"1\" при помощи гиперпараметра `class_weight` и рассмотрим как это повлияет на значение F1-меры."
   ]
  },
  {
   "cell_type": "markdown",
   "metadata": {},
   "source": [
    "Решающее дерево."
   ]
  },
  {
   "cell_type": "code",
   "execution_count": 28,
   "metadata": {},
   "outputs": [
    {
     "name": "stdout",
     "output_type": "stream",
     "text": [
      "F1 решающего дерева: 0.56\n"
     ]
    }
   ],
   "source": [
    "# Решающее дерево\n",
    "model = DecisionTreeClassifier(criterion='entropy', random_state=42, max_depth=6, class_weight='balanced')\n",
    "model.fit(X_train, y_train)  # обучим модель на тренировочных данных\n",
    "predictions_valid = model.predict(X_valid)  # найдем предсказания на валидационной выборке\n",
    "valid_score = f1_score(y_valid, predictions_valid)\n",
    "print('F1 решающего дерева:', valid_score.round(2))"
   ]
  },
  {
   "cell_type": "markdown",
   "metadata": {},
   "source": [
    "Случайный лес."
   ]
  },
  {
   "cell_type": "code",
   "execution_count": 29,
   "metadata": {},
   "outputs": [
    {
     "name": "stdout",
     "output_type": "stream",
     "text": [
      "F1 случайного леса: 0.6\n"
     ]
    }
   ],
   "source": [
    "model = RandomForestClassifier(n_estimators=30, max_depth=12, random_state=42, class_weight='balanced')\n",
    "model.fit(X_train, y_train)  # обучим модель\n",
    "predictions_valid = model.predict(X_valid)\n",
    "valid_score = f1_score(y_valid, predictions_valid)\n",
    "print('F1 случайного леса:', valid_score.round(2))"
   ]
  },
  {
   "cell_type": "markdown",
   "metadata": {},
   "source": [
    "Логистическая регрессия."
   ]
  },
  {
   "cell_type": "code",
   "execution_count": 30,
   "metadata": {},
   "outputs": [
    {
     "name": "stdout",
     "output_type": "stream",
     "text": [
      "F1 логистической регрессии: 0.6\n"
     ]
    }
   ],
   "source": [
    "model = LogisticRegression(random_state=42, solver='liblinear', max_iter=50, class_weight='balanced')\n",
    "model.fit(X_train, y_train)\n",
    "predictons_valid = model.predict(X_valid)\n",
    "regression_score = f1_score(y_valid, predictions_valid)\n",
    "print('F1 логистической регрессии:', valid_score.round(2))"
   ]
  },
  {
   "cell_type": "markdown",
   "metadata": {},
   "source": [
    "Взвешивание классов слабо повлияло на значение F1-меры. У решающего дерева значение уменьшилось на 0.1. Значение F1 у случайного леса осталось без изменений. У модели логистической регрессии значение увеличилось на 0.1."
   ]
  },
  {
   "cell_type": "markdown",
   "metadata": {},
   "source": [
    "### Увеличение выборки."
   ]
  },
  {
   "cell_type": "markdown",
   "metadata": {},
   "source": [
    "Скопируем несколько раз положительные объекты и добавим их в тренировочную выборку."
   ]
  },
  {
   "cell_type": "code",
   "execution_count": 31,
   "metadata": {},
   "outputs": [
    {
     "name": "stdout",
     "output_type": "stream",
     "text": [
      "1    4956\n",
      "0    4761\n",
      "Name: Exited, dtype: int64\n"
     ]
    }
   ],
   "source": [
    "def upsample(features, target, repeat):\n",
    "    features_zeros = features[target == 0]\n",
    "    features_ones = features[target == 1]\n",
    "    target_zeros = target[target == 0]\n",
    "    target_ones = target[target == 1]\n",
    "\n",
    "    features_upsampled = pd.concat([features_zeros] + [features_ones] * repeat)\n",
    "    target_upsampled = pd.concat([target_zeros] + [target_ones] * repeat)\n",
    "    \n",
    "    X_upsampled, y_upsampled = shuffle(\n",
    "        features_upsampled, target_upsampled, random_state=12345)  # перемешаем\n",
    "    \n",
    "    return X_upsampled, y_upsampled\n",
    "\n",
    "X_upsampled, y_upsampled = upsample(X_train, y_train, 4)  # положительный класс отличается в 4 раза\n",
    "print(y_upsampled.value_counts())  # сравним классы"
   ]
  },
  {
   "cell_type": "markdown",
   "metadata": {},
   "source": [
    "Обучим модели на сбалансированных данных."
   ]
  },
  {
   "cell_type": "markdown",
   "metadata": {},
   "source": [
    "Решающее дерево."
   ]
  },
  {
   "cell_type": "code",
   "execution_count": 32,
   "metadata": {},
   "outputs": [
    {
     "name": "stdout",
     "output_type": "stream",
     "text": [
      "F1 решающего дерева: 0.56\n"
     ]
    }
   ],
   "source": [
    "# Решающее дерево\n",
    "model = DecisionTreeClassifier(criterion='entropy', random_state=42, max_depth=6)\n",
    "model.fit(X_upsampled, y_upsampled)  # обучим модель на тренировочных данных\n",
    "predictions_valid = model.predict(X_valid)  # найдем предсказания на валидационной выборке\n",
    "valid_score = f1_score(y_valid, predictions_valid)\n",
    "print('F1 решающего дерева:', valid_score.round(2))"
   ]
  },
  {
   "cell_type": "markdown",
   "metadata": {},
   "source": [
    "Случайный лес"
   ]
  },
  {
   "cell_type": "code",
   "execution_count": 33,
   "metadata": {},
   "outputs": [
    {
     "name": "stdout",
     "output_type": "stream",
     "text": [
      "F1 случайного леса: 0.61\n"
     ]
    }
   ],
   "source": [
    "model = RandomForestClassifier(n_estimators=30, max_depth=12, random_state=42)\n",
    "model.fit(X_upsampled, y_upsampled)  # обучим модель\n",
    "predictions_valid = model.predict(X_valid)\n",
    "valid_score = f1_score(y_valid, predictions_valid)\n",
    "print('F1 случайного леса:', valid_score.round(2))"
   ]
  },
  {
   "cell_type": "markdown",
   "metadata": {},
   "source": [
    "Логистическая регрессия."
   ]
  },
  {
   "cell_type": "code",
   "execution_count": 34,
   "metadata": {},
   "outputs": [
    {
     "name": "stdout",
     "output_type": "stream",
     "text": [
      "F1 логистической регрессии: 0.61\n"
     ]
    }
   ],
   "source": [
    "model = LogisticRegression(random_state=42, solver='liblinear', max_iter=50)\n",
    "model.fit(X_upsampled, y_upsampled)\n",
    "predictons_valid = model.predict(X_valid)\n",
    "regression_score = f1_score(y_valid, predictions_valid)\n",
    "print('F1 логистической регрессии:', valid_score.round(2))"
   ]
  },
  {
   "cell_type": "markdown",
   "metadata": {},
   "source": [
    "Увеличением выборки мы добились улучшения F1-меры для модели случайного леса и логистической регрессии."
   ]
  },
  {
   "cell_type": "markdown",
   "metadata": {},
   "source": [
    "### Уменьшение выборки."
   ]
  },
  {
   "cell_type": "markdown",
   "metadata": {},
   "source": [
    "Случайным образом отбросим часть из отрицательных объектов."
   ]
  },
  {
   "cell_type": "code",
   "execution_count": 35,
   "metadata": {},
   "outputs": [],
   "source": [
    "def downsample(features, target, fraction):\n",
    "    features_zeros = features[target == 0]\n",
    "    features_ones = features[target == 1]\n",
    "    target_zeros = target[target == 0]\n",
    "    target_ones = target[target == 1]\n",
    "\n",
    "    features_downsampled = pd.concat(\n",
    "        [features_zeros.sample(frac=fraction, random_state=12345)] + [features_ones])\n",
    "    target_downsampled = pd.concat(\n",
    "        [target_zeros.sample(frac=fraction, random_state=12345)] + [target_ones])\n",
    "    \n",
    "    X_downsampled, y_downsampled = shuffle(\n",
    "        features_downsampled, target_downsampled, random_state=12345)\n",
    "    \n",
    "    return X_downsampled, y_downsampled\n",
    "\n",
    "X_downsampled, y_downsampled = downsample(X_train, y_train, 0.25)  # возьмем четвертую часть от отриц. объектов"
   ]
  },
  {
   "cell_type": "markdown",
   "metadata": {},
   "source": [
    "Обучим модели на сбалансированных данных."
   ]
  },
  {
   "cell_type": "markdown",
   "metadata": {},
   "source": [
    "Решающее дерево."
   ]
  },
  {
   "cell_type": "code",
   "execution_count": 36,
   "metadata": {},
   "outputs": [
    {
     "name": "stdout",
     "output_type": "stream",
     "text": [
      "F1 решающего дерева: 0.53\n"
     ]
    }
   ],
   "source": [
    "# Решающее дерево\n",
    "model = DecisionTreeClassifier(criterion='entropy', random_state=42, max_depth=6)\n",
    "model.fit(X_downsampled, y_downsampled)  # обучим модель на тренировочных данных\n",
    "predictions_valid = model.predict(X_valid)  # найдем предсказания на валидационной выборке\n",
    "valid_score = f1_score(y_valid, predictions_valid)\n",
    "print('F1 решающего дерева:', valid_score.round(2))"
   ]
  },
  {
   "cell_type": "markdown",
   "metadata": {},
   "source": [
    "Случайный лес"
   ]
  },
  {
   "cell_type": "code",
   "execution_count": 37,
   "metadata": {},
   "outputs": [
    {
     "name": "stdout",
     "output_type": "stream",
     "text": [
      "F1 случайного леса: 0.6\n"
     ]
    }
   ],
   "source": [
    "model = RandomForestClassifier(n_estimators=30, max_depth=12, random_state=42)\n",
    "model.fit(X_downsampled, y_downsampled)  # обучим модель\n",
    "predictions_valid = model.predict(X_valid)\n",
    "valid_score = f1_score(y_valid, predictions_valid)\n",
    "print('F1 случайного леса:', valid_score.round(2))"
   ]
  },
  {
   "cell_type": "markdown",
   "metadata": {},
   "source": [
    "Логистическая регрессия."
   ]
  },
  {
   "cell_type": "code",
   "execution_count": 38,
   "metadata": {},
   "outputs": [
    {
     "name": "stdout",
     "output_type": "stream",
     "text": [
      "F1 логистической регрессии: 0.6\n"
     ]
    }
   ],
   "source": [
    "model = LogisticRegression(random_state=42, solver='liblinear', max_iter=50)\n",
    "model.fit(X_downsampled, y_downsampled)\n",
    "predictons_valid = model.predict(X_valid)\n",
    "regression_score = f1_score(y_valid, predictions_valid)\n",
    "print('F1 логистической регрессии:', valid_score.round(2))"
   ]
  },
  {
   "cell_type": "markdown",
   "metadata": {},
   "source": [
    "Уменьшением отрицательного класса мы добились улучшения F1-меры для модели случайного леса и логистической регрессии."
   ]
  },
  {
   "cell_type": "markdown",
   "metadata": {},
   "source": [
    "**Вывод**\n",
    "\n",
    "Увеличением выборки мы достигли лучшего показателя F1-меры у случайного леса и логистической регрессии."
   ]
  },
  {
   "cell_type": "markdown",
   "metadata": {},
   "source": [
    "### ROC-кривая для сбалансированных классов."
   ]
  },
  {
   "cell_type": "markdown",
   "metadata": {},
   "source": [
    "Построим ROC-кривую и посчитаем auc_roc после балансировки классов."
   ]
  },
  {
   "cell_type": "code",
   "execution_count": 39,
   "metadata": {},
   "outputs": [
    {
     "name": "stdout",
     "output_type": "stream",
     "text": [
      "auc_roc Решающее дерево : 0.84\n",
      "auc_roc Случайный лес : 0.86\n",
      "auc_roc Логистическая регрессия : 0.75\n"
     ]
    },
    {
     "data": {
      "image/png": "[encoded data removed]",
      "text/plain": [
       "<Figure size 1000x600 with 1 Axes>"
      ]
     },
     "metadata": {},
     "output_type": "display_data"
    }
   ],
   "source": [
    "plt.figure(figsize=(10, 6))\n",
    "\n",
    "def get_plot_balanced(model, X_upsampled, y_upsampled, X_valid, y_valid, label):\n",
    "    model.fit(X_upsampled, y_upsampled)\n",
    "    probabilities_valid = model.predict_proba(X_valid)\n",
    "    probabilities_one_valid = probabilities_valid[:, 1]\n",
    "    auc_roc = roc_auc_score(y_valid, probabilities_one_valid).round(2)  # auc_roc решающего дерева\n",
    "    fpr, tpr, thresholds = roc_curve(y_valid, probabilities_one_valid)\n",
    "    print('auc_roc', label, ':', auc_roc)\n",
    "    return plt.plot(fpr, tpr, label=label)\n",
    "\n",
    "get_plot_balanced(best_model_tree, X_upsampled, y_upsampled, X_valid, y_valid, 'Решающее дерево')\n",
    "get_plot_balanced(best_model_forest, X_upsampled, y_upsampled, X_valid, y_valid, 'Случайный лес')\n",
    "get_plot_balanced(best_model_reg, X_upsampled, y_upsampled, X_valid, y_valid, 'Логистическая регрессия')\n",
    "\n",
    "# ROC-кривая случайной модели\n",
    "plt.plot([0, 1], [0, 1], linestyle='--', label='Случайная модель')\n",
    "\n",
    "plt.xlim(0, 1)\n",
    "plt.ylim(0, 1)\n",
    "\n",
    "plt.xlabel(\"False Positive Rate\")\n",
    "plt.ylabel(\"True Positive Rate\")\n",
    "\n",
    "plt.title(\"ROC-кривая\")\n",
    "plt.legend()\n",
    "\n",
    "plt.show()"
   ]
  },
  {
   "cell_type": "markdown",
   "metadata": {},
   "source": [
    "Значения метрики roc_auc не изменилось полсе балансировки классов."
   ]
  },
  {
   "cell_type": "markdown",
   "metadata": {},
   "source": [
    "**Вывод**\n",
    "\n",
    "При балансе классов модели случайного леса и логистической регрессии точнее предсказывают вероятность ухода клиента банка.\n",
    "Примем за лучшую модель - модель случайного леса."
   ]
  },
  {
   "cell_type": "markdown",
   "metadata": {},
   "source": [
    "Значения f1_score и auc_roc для сбалансированных классов методом увеличения выборки:\n",
    "\n",
    "- Решающее дерево: f1_score = 0.56, auc_roc = 0.84\n",
    "- Случайный лес: f1_score = 0.61, auc_roc = 0.86\n",
    "- Логистическая регрессия: f1_score = 0.61, auc_roc = 0.75"
   ]
  },
  {
   "cell_type": "markdown",
   "metadata": {},
   "source": [
    "## Тестирование модели"
   ]
  },
  {
   "cell_type": "markdown",
   "metadata": {},
   "source": [
    "Протестируем модель случайного леса на тестовой выборке."
   ]
  },
  {
   "cell_type": "code",
   "execution_count": 40,
   "metadata": {},
   "outputs": [
    {
     "name": "stdout",
     "output_type": "stream",
     "text": [
      "F1 модели случайного леса для тестовой выборки: 0.62\n",
      "auc_roc случайного леса для тестовой выборки: 0.86\n"
     ]
    }
   ],
   "source": [
    "model = RandomForestClassifier(n_estimators=30, max_depth=12, random_state=42)\n",
    "model.fit(X_upsampled, y_upsampled)\n",
    "predictions_test = model.predict(X_test)\n",
    "result_test = f1_score(y_test, predictions_test)\n",
    "print('F1 модели случайного леса для тестовой выборки:', result_test.round(2))\n",
    "\n",
    "probabilities_test = model.predict_proba(X_test)\n",
    "probabilities_one_test = probabilities_test[:, 1]\n",
    "print('auc_roc случайного леса для тестовой выборки:', roc_auc_score(y_test, probabilities_one_test).round(2))"
   ]
  },
  {
   "cell_type": "markdown",
   "metadata": {},
   "source": [
    "Мы проверили качество нашей модели на тестовых данных и получили значение F1-меры лучше чем на валидационных данных."
   ]
  },
  {
   "cell_type": "markdown",
   "metadata": {},
   "source": [
    "### Важность признаков"
   ]
  },
  {
   "cell_type": "code",
   "execution_count": 41,
   "metadata": {},
   "outputs": [
    {
     "data": {
      "image/png": "[encoded data removed]",
      "text/plain": [
       "<Figure size 900x600 with 1 Axes>"
      ]
     },
     "metadata": {},
     "output_type": "display_data"
    }
   ],
   "source": [
    "bank_imp = pd.Series(best_model_forest.feature_importances_,\n",
    "                         X_train.columns)\n",
    "\n",
    "fig, ax = plt.subplots(figsize=(9,6))\n",
    "bank_imp.plot.bar(ax=ax)\n",
    "ax.set_title(\"Важность признаков\")\n",
    "ax.set_ylabel('Важность')\n",
    "fig.tight_layout()"
   ]
  },
  {
   "cell_type": "markdown",
   "metadata": {},
   "source": [
    "Наша модель случайного леса отбирает как наиболее важные признаки возраст, количество продуктов и баланс счета. А вот наличие кредитной карты, география и пол оказались не так важны."
   ]
  },
  {
   "cell_type": "markdown",
   "metadata": {},
   "source": [
    "##  Вывод."
   ]
  },
  {
   "cell_type": "markdown",
   "metadata": {},
   "source": [
    "В данном проекте мы выполнили следующие этапы:\n",
    "\n",
    "1. Изучили датасет с данными и произвели подготовку(заполнили пропуски, проверили на наличие дубликатов, преобразовали категориальные признаки в численные, произвели масштабирование численных признаков).\n",
    "2. Разбили данные на три выборки: обучающую, валидационную и тестовую в соотношении 3:1:1.\n",
    "3. Исследовали три модели: дерево решений, случайный лес, логистическая регрессия.\n",
    "4. Определили лучшие гиперпараметры.\n",
    "5. Обучили модели на сбалансированных данных.\n",
    "5. Проверили качество лучшей модели (случайный лес) на тестовых данных."
   ]
  },
  {
   "cell_type": "markdown",
   "metadata": {},
   "source": [
    "Модель случайного леса показала следующие метрики на тестовых данных: f1_score = 0.62, auc_roc = 0.86"
   ]
  }
 ],
 "metadata": {
  "ExecuteTimeLog": [
   {
    "duration": 2093,
    "start_time": "2023-07-25T10:53:49.942Z"
   },
   {
    "duration": 500,
    "start_time": "2023-07-25T10:53:52.050Z"
   },
   {
    "duration": 4,
    "start_time": "2023-07-25T10:56:57.362Z"
   },
   {
    "duration": 131,
    "start_time": "2023-07-25T10:57:51.686Z"
   },
   {
    "duration": 26,
    "start_time": "2023-07-25T10:58:13.916Z"
   },
   {
    "duration": 19,
    "start_time": "2023-07-25T10:58:33.655Z"
   },
   {
    "duration": 63,
    "start_time": "2023-07-25T10:58:50.050Z"
   },
   {
    "duration": 24,
    "start_time": "2023-07-25T10:59:12.230Z"
   },
   {
    "duration": 23,
    "start_time": "2023-07-25T11:14:45.047Z"
   },
   {
    "duration": 19,
    "start_time": "2023-07-25T11:16:27.158Z"
   },
   {
    "duration": 20,
    "start_time": "2023-07-25T11:17:58.032Z"
   },
   {
    "duration": 29,
    "start_time": "2023-07-25T11:21:37.092Z"
   },
   {
    "duration": 20,
    "start_time": "2023-07-25T11:22:01.430Z"
   },
   {
    "duration": 14,
    "start_time": "2023-07-25T11:22:12.473Z"
   },
   {
    "duration": 1337,
    "start_time": "2023-07-25T11:25:32.131Z"
   },
   {
    "duration": 377,
    "start_time": "2023-07-25T11:25:33.470Z"
   },
   {
    "duration": 69,
    "start_time": "2023-07-25T11:25:33.848Z"
   },
   {
    "duration": 22,
    "start_time": "2023-07-25T11:25:33.918Z"
   },
   {
    "duration": 35,
    "start_time": "2023-07-25T11:27:43.248Z"
   },
   {
    "duration": 6,
    "start_time": "2023-07-25T11:29:34.111Z"
   },
   {
    "duration": 5,
    "start_time": "2023-07-25T11:31:07.587Z"
   },
   {
    "duration": 5,
    "start_time": "2023-07-25T11:31:13.416Z"
   },
   {
    "duration": 8,
    "start_time": "2023-07-25T11:34:20.161Z"
   },
   {
    "duration": 7,
    "start_time": "2023-07-25T11:35:09.210Z"
   },
   {
    "duration": 53,
    "start_time": "2023-07-25T11:40:48.291Z"
   },
   {
    "duration": 117,
    "start_time": "2023-07-25T11:48:14.822Z"
   },
   {
    "duration": 4,
    "start_time": "2023-07-25T11:48:33.346Z"
   },
   {
    "duration": 11,
    "start_time": "2023-07-25T13:31:12.845Z"
   },
   {
    "duration": 17,
    "start_time": "2023-07-25T13:36:00.092Z"
   },
   {
    "duration": 12,
    "start_time": "2023-07-25T13:49:39.104Z"
   },
   {
    "duration": 3605,
    "start_time": "2023-07-25T13:50:04.135Z"
   },
   {
    "duration": 16,
    "start_time": "2023-07-25T13:52:28.030Z"
   },
   {
    "duration": 12,
    "start_time": "2023-07-25T13:55:53.639Z"
   },
   {
    "duration": 4,
    "start_time": "2023-07-25T13:56:13.539Z"
   },
   {
    "duration": 4,
    "start_time": "2023-07-25T13:56:36.442Z"
   },
   {
    "duration": 4,
    "start_time": "2023-07-25T13:56:54.201Z"
   },
   {
    "duration": 6,
    "start_time": "2023-07-25T13:57:16.034Z"
   },
   {
    "duration": 4,
    "start_time": "2023-07-25T13:57:31.793Z"
   },
   {
    "duration": 2138,
    "start_time": "2023-07-25T13:58:14.917Z"
   },
   {
    "duration": 5,
    "start_time": "2023-07-25T13:58:28.438Z"
   },
   {
    "duration": 2,
    "start_time": "2023-07-25T14:21:13.318Z"
   },
   {
    "duration": 37,
    "start_time": "2023-07-25T14:23:13.417Z"
   },
   {
    "duration": 20,
    "start_time": "2023-07-25T14:29:07.134Z"
   },
   {
    "duration": 5,
    "start_time": "2023-07-25T14:30:45.823Z"
   },
   {
    "duration": 31,
    "start_time": "2023-07-25T14:35:54.998Z"
   },
   {
    "duration": 26,
    "start_time": "2023-07-25T14:36:06.857Z"
   },
   {
    "duration": 25,
    "start_time": "2023-07-25T14:36:43.033Z"
   },
   {
    "duration": 1298,
    "start_time": "2023-07-25T14:37:01.868Z"
   },
   {
    "duration": 349,
    "start_time": "2023-07-25T14:37:03.168Z"
   },
   {
    "duration": 69,
    "start_time": "2023-07-25T14:37:03.519Z"
   },
   {
    "duration": 27,
    "start_time": "2023-07-25T14:37:03.590Z"
   },
   {
    "duration": 25,
    "start_time": "2023-07-25T14:37:03.620Z"
   },
   {
    "duration": 20,
    "start_time": "2023-07-25T14:37:03.647Z"
   },
   {
    "duration": 24,
    "start_time": "2023-07-25T14:37:03.669Z"
   },
   {
    "duration": 48,
    "start_time": "2023-07-25T14:37:03.699Z"
   },
   {
    "duration": 82,
    "start_time": "2023-07-25T14:37:03.750Z"
   },
   {
    "duration": 88,
    "start_time": "2023-07-25T14:37:03.834Z"
   },
   {
    "duration": 2359,
    "start_time": "2023-07-25T14:37:03.924Z"
   },
   {
    "duration": 9,
    "start_time": "2023-07-25T14:37:06.285Z"
   },
   {
    "duration": 70,
    "start_time": "2023-07-25T14:37:06.296Z"
   },
   {
    "duration": 55,
    "start_time": "2023-07-25T14:37:06.370Z"
   },
   {
    "duration": 57,
    "start_time": "2023-07-25T14:37:06.428Z"
   },
   {
    "duration": 49,
    "start_time": "2023-07-25T14:37:06.487Z"
   },
   {
    "duration": 197,
    "start_time": "2023-07-25T14:37:06.538Z"
   },
   {
    "duration": 0,
    "start_time": "2023-07-25T14:37:06.737Z"
   },
   {
    "duration": 1239,
    "start_time": "2023-07-25T14:40:09.153Z"
   },
   {
    "duration": 349,
    "start_time": "2023-07-25T14:40:10.394Z"
   },
   {
    "duration": 51,
    "start_time": "2023-07-25T14:40:10.744Z"
   },
   {
    "duration": 35,
    "start_time": "2023-07-25T14:40:10.798Z"
   },
   {
    "duration": 24,
    "start_time": "2023-07-25T14:40:10.835Z"
   },
   {
    "duration": 7,
    "start_time": "2023-07-25T14:40:10.861Z"
   },
   {
    "duration": 12,
    "start_time": "2023-07-25T14:40:10.870Z"
   },
   {
    "duration": 24,
    "start_time": "2023-07-25T14:40:10.884Z"
   },
   {
    "duration": 25,
    "start_time": "2023-07-25T14:40:10.910Z"
   },
   {
    "duration": 26,
    "start_time": "2023-07-25T14:40:10.939Z"
   },
   {
    "duration": 2174,
    "start_time": "2023-07-25T14:40:10.967Z"
   },
   {
    "duration": 6,
    "start_time": "2023-07-25T14:40:13.143Z"
   },
   {
    "duration": 23,
    "start_time": "2023-07-25T14:40:13.151Z"
   },
   {
    "duration": 15,
    "start_time": "2023-07-25T14:40:13.176Z"
   },
   {
    "duration": 38,
    "start_time": "2023-07-25T14:40:13.192Z"
   },
   {
    "duration": 8,
    "start_time": "2023-07-25T14:40:13.233Z"
   },
   {
    "duration": 181,
    "start_time": "2023-07-25T14:40:13.243Z"
   },
   {
    "duration": 0,
    "start_time": "2023-07-25T14:40:13.425Z"
   },
   {
    "duration": 4,
    "start_time": "2023-07-25T14:42:29.821Z"
   },
   {
    "duration": 14,
    "start_time": "2023-07-25T15:04:44.218Z"
   },
   {
    "duration": 9,
    "start_time": "2023-07-25T15:05:42.318Z"
   },
   {
    "duration": 13,
    "start_time": "2023-07-25T15:08:09.738Z"
   },
   {
    "duration": 16,
    "start_time": "2023-07-25T15:12:06.720Z"
   },
   {
    "duration": 1121,
    "start_time": "2023-07-25T15:12:40.747Z"
   },
   {
    "duration": 296,
    "start_time": "2023-07-25T15:12:41.870Z"
   },
   {
    "duration": 59,
    "start_time": "2023-07-25T15:12:42.167Z"
   },
   {
    "duration": 11,
    "start_time": "2023-07-25T15:12:42.228Z"
   },
   {
    "duration": 14,
    "start_time": "2023-07-25T15:12:42.240Z"
   },
   {
    "duration": 6,
    "start_time": "2023-07-25T15:12:42.256Z"
   },
   {
    "duration": 13,
    "start_time": "2023-07-25T15:12:42.263Z"
   },
   {
    "duration": 41,
    "start_time": "2023-07-25T15:12:42.278Z"
   },
   {
    "duration": 17,
    "start_time": "2023-07-25T15:12:42.321Z"
   },
   {
    "duration": 38,
    "start_time": "2023-07-25T15:12:42.341Z"
   },
   {
    "duration": 2045,
    "start_time": "2023-07-25T15:12:42.381Z"
   },
   {
    "duration": 6,
    "start_time": "2023-07-25T15:12:44.428Z"
   },
   {
    "duration": 22,
    "start_time": "2023-07-25T15:12:44.435Z"
   },
   {
    "duration": 9,
    "start_time": "2023-07-25T15:12:44.458Z"
   },
   {
    "duration": 18,
    "start_time": "2023-07-25T15:12:44.468Z"
   },
   {
    "duration": 38,
    "start_time": "2023-07-25T15:12:44.487Z"
   },
   {
    "duration": 30,
    "start_time": "2023-07-25T15:12:44.527Z"
   },
   {
    "duration": 30,
    "start_time": "2023-07-25T15:12:44.559Z"
   },
   {
    "duration": 29,
    "start_time": "2023-07-25T15:12:44.590Z"
   },
   {
    "duration": 129,
    "start_time": "2023-07-25T15:12:44.621Z"
   },
   {
    "duration": 0,
    "start_time": "2023-07-25T15:12:44.752Z"
   },
   {
    "duration": 21,
    "start_time": "2023-07-25T15:13:52.636Z"
   },
   {
    "duration": 639,
    "start_time": "2023-07-25T15:14:23.040Z"
   },
   {
    "duration": 4,
    "start_time": "2023-07-25T15:14:27.015Z"
   },
   {
    "duration": 5,
    "start_time": "2023-07-25T15:18:28.120Z"
   },
   {
    "duration": 4,
    "start_time": "2023-07-25T15:18:31.316Z"
   },
   {
    "duration": 27,
    "start_time": "2023-07-25T15:19:58.217Z"
   },
   {
    "duration": 41,
    "start_time": "2023-07-25T15:22:15.930Z"
   },
   {
    "duration": 41,
    "start_time": "2023-07-25T15:22:40.669Z"
   },
   {
    "duration": 41,
    "start_time": "2023-07-25T15:23:17.440Z"
   },
   {
    "duration": 29737,
    "start_time": "2023-07-25T15:23:39.196Z"
   },
   {
    "duration": 4,
    "start_time": "2023-07-25T15:24:35.924Z"
   },
   {
    "duration": 9,
    "start_time": "2023-07-25T15:27:12.635Z"
   },
   {
    "duration": 1098,
    "start_time": "2023-07-25T15:33:47.738Z"
   },
   {
    "duration": 297,
    "start_time": "2023-07-25T15:33:48.838Z"
   },
   {
    "duration": 57,
    "start_time": "2023-07-25T15:33:49.136Z"
   },
   {
    "duration": 20,
    "start_time": "2023-07-25T15:33:49.195Z"
   },
   {
    "duration": 12,
    "start_time": "2023-07-25T15:33:49.216Z"
   },
   {
    "duration": 5,
    "start_time": "2023-07-25T15:33:49.230Z"
   },
   {
    "duration": 10,
    "start_time": "2023-07-25T15:33:49.236Z"
   },
   {
    "duration": 10,
    "start_time": "2023-07-25T15:33:49.247Z"
   },
   {
    "duration": 17,
    "start_time": "2023-07-25T15:33:49.258Z"
   },
   {
    "duration": 25,
    "start_time": "2023-07-25T15:33:49.276Z"
   },
   {
    "duration": 2188,
    "start_time": "2023-07-25T15:33:49.302Z"
   },
   {
    "duration": 6,
    "start_time": "2023-07-25T15:33:51.492Z"
   },
   {
    "duration": 53,
    "start_time": "2023-07-25T15:33:51.500Z"
   },
   {
    "duration": 18,
    "start_time": "2023-07-25T15:33:51.554Z"
   },
   {
    "duration": 9,
    "start_time": "2023-07-25T15:33:51.574Z"
   },
   {
    "duration": 25,
    "start_time": "2023-07-25T15:33:51.584Z"
   },
   {
    "duration": 152,
    "start_time": "2023-07-25T15:33:51.610Z"
   },
   {
    "duration": 0,
    "start_time": "2023-07-25T15:33:51.764Z"
   },
   {
    "duration": 0,
    "start_time": "2023-07-25T15:33:51.765Z"
   },
   {
    "duration": 0,
    "start_time": "2023-07-25T15:33:51.766Z"
   },
   {
    "duration": 0,
    "start_time": "2023-07-25T15:33:51.766Z"
   },
   {
    "duration": 0,
    "start_time": "2023-07-25T15:33:51.768Z"
   },
   {
    "duration": 0,
    "start_time": "2023-07-25T15:33:51.769Z"
   },
   {
    "duration": 0,
    "start_time": "2023-07-25T15:33:51.770Z"
   },
   {
    "duration": 1143,
    "start_time": "2023-07-25T15:34:14.313Z"
   },
   {
    "duration": 292,
    "start_time": "2023-07-25T15:34:15.458Z"
   },
   {
    "duration": 62,
    "start_time": "2023-07-25T15:34:15.751Z"
   },
   {
    "duration": 12,
    "start_time": "2023-07-25T15:34:15.814Z"
   },
   {
    "duration": 10,
    "start_time": "2023-07-25T15:34:15.828Z"
   },
   {
    "duration": 9,
    "start_time": "2023-07-25T15:34:15.840Z"
   },
   {
    "duration": 17,
    "start_time": "2023-07-25T15:34:15.850Z"
   },
   {
    "duration": 18,
    "start_time": "2023-07-25T15:34:15.868Z"
   },
   {
    "duration": 18,
    "start_time": "2023-07-25T15:34:15.887Z"
   },
   {
    "duration": 49,
    "start_time": "2023-07-25T15:34:15.906Z"
   },
   {
    "duration": 2055,
    "start_time": "2023-07-25T15:34:15.957Z"
   },
   {
    "duration": 8,
    "start_time": "2023-07-25T15:34:18.014Z"
   },
   {
    "duration": 22,
    "start_time": "2023-07-25T15:34:18.024Z"
   },
   {
    "duration": 59,
    "start_time": "2023-07-25T15:34:18.049Z"
   },
   {
    "duration": 10,
    "start_time": "2023-07-25T15:34:18.113Z"
   },
   {
    "duration": 30,
    "start_time": "2023-07-25T15:34:18.125Z"
   },
   {
    "duration": 51,
    "start_time": "2023-07-25T15:34:18.157Z"
   },
   {
    "duration": 229,
    "start_time": "2023-07-25T15:34:18.209Z"
   },
   {
    "duration": 0,
    "start_time": "2023-07-25T15:34:18.440Z"
   },
   {
    "duration": 0,
    "start_time": "2023-07-25T15:34:18.441Z"
   },
   {
    "duration": 0,
    "start_time": "2023-07-25T15:34:18.442Z"
   },
   {
    "duration": 0,
    "start_time": "2023-07-25T15:34:18.443Z"
   },
   {
    "duration": 0,
    "start_time": "2023-07-25T15:34:18.444Z"
   },
   {
    "duration": 0,
    "start_time": "2023-07-25T15:34:18.499Z"
   },
   {
    "duration": 19,
    "start_time": "2023-07-25T15:35:03.073Z"
   },
   {
    "duration": 12,
    "start_time": "2023-07-25T15:37:16.925Z"
   },
   {
    "duration": 1123,
    "start_time": "2023-07-25T15:37:41.598Z"
   },
   {
    "duration": 303,
    "start_time": "2023-07-25T15:37:42.722Z"
   },
   {
    "duration": 53,
    "start_time": "2023-07-25T15:37:43.027Z"
   },
   {
    "duration": 11,
    "start_time": "2023-07-25T15:37:43.081Z"
   },
   {
    "duration": 40,
    "start_time": "2023-07-25T15:37:43.094Z"
   },
   {
    "duration": 23,
    "start_time": "2023-07-25T15:37:43.135Z"
   },
   {
    "duration": 30,
    "start_time": "2023-07-25T15:37:43.159Z"
   },
   {
    "duration": 57,
    "start_time": "2023-07-25T15:37:43.191Z"
   },
   {
    "duration": 18,
    "start_time": "2023-07-25T15:37:43.250Z"
   },
   {
    "duration": 62,
    "start_time": "2023-07-25T15:37:43.269Z"
   },
   {
    "duration": 2142,
    "start_time": "2023-07-25T15:37:43.332Z"
   },
   {
    "duration": 5,
    "start_time": "2023-07-25T15:37:45.475Z"
   },
   {
    "duration": 8,
    "start_time": "2023-07-25T15:37:45.481Z"
   },
   {
    "duration": 67,
    "start_time": "2023-07-25T15:37:45.492Z"
   },
   {
    "duration": 10,
    "start_time": "2023-07-25T15:37:45.560Z"
   },
   {
    "duration": 27,
    "start_time": "2023-07-25T15:37:45.571Z"
   },
   {
    "duration": 60,
    "start_time": "2023-07-25T15:37:45.600Z"
   },
   {
    "duration": 11,
    "start_time": "2023-07-25T15:37:45.661Z"
   },
   {
    "duration": 12,
    "start_time": "2023-07-25T15:37:45.674Z"
   },
   {
    "duration": 683,
    "start_time": "2023-07-25T15:37:45.688Z"
   },
   {
    "duration": 4,
    "start_time": "2023-07-25T15:37:46.373Z"
   },
   {
    "duration": 14,
    "start_time": "2023-07-25T15:37:46.378Z"
   },
   {
    "duration": 29056,
    "start_time": "2023-07-25T15:37:46.393Z"
   },
   {
    "duration": 4,
    "start_time": "2023-07-25T15:38:15.450Z"
   },
   {
    "duration": 1046,
    "start_time": "2023-07-25T15:38:42.418Z"
   },
   {
    "duration": 274,
    "start_time": "2023-07-25T15:38:43.466Z"
   },
   {
    "duration": 52,
    "start_time": "2023-07-25T15:38:43.741Z"
   },
   {
    "duration": 24,
    "start_time": "2023-07-25T15:38:43.794Z"
   },
   {
    "duration": 22,
    "start_time": "2023-07-25T15:38:43.819Z"
   },
   {
    "duration": 12,
    "start_time": "2023-07-25T15:38:43.842Z"
   },
   {
    "duration": 11,
    "start_time": "2023-07-25T15:38:43.855Z"
   },
   {
    "duration": 18,
    "start_time": "2023-07-25T15:38:43.867Z"
   },
   {
    "duration": 12,
    "start_time": "2023-07-25T15:38:43.886Z"
   },
   {
    "duration": 47,
    "start_time": "2023-07-25T15:38:43.899Z"
   },
   {
    "duration": 1991,
    "start_time": "2023-07-25T15:38:43.948Z"
   },
   {
    "duration": 6,
    "start_time": "2023-07-25T15:38:45.941Z"
   },
   {
    "duration": 32,
    "start_time": "2023-07-25T15:38:45.948Z"
   },
   {
    "duration": 38,
    "start_time": "2023-07-25T15:38:45.984Z"
   },
   {
    "duration": 39,
    "start_time": "2023-07-25T15:38:46.024Z"
   },
   {
    "duration": 20,
    "start_time": "2023-07-25T15:38:46.064Z"
   },
   {
    "duration": 67,
    "start_time": "2023-07-25T15:38:46.086Z"
   },
   {
    "duration": 24,
    "start_time": "2023-07-25T15:38:46.156Z"
   },
   {
    "duration": 6,
    "start_time": "2023-07-25T15:38:46.182Z"
   },
   {
    "duration": 607,
    "start_time": "2023-07-25T15:38:46.190Z"
   },
   {
    "duration": 14,
    "start_time": "2023-07-25T15:38:46.799Z"
   },
   {
    "duration": 21,
    "start_time": "2023-07-25T15:38:46.814Z"
   },
   {
    "duration": 72156,
    "start_time": "2023-07-25T15:38:46.837Z"
   },
   {
    "duration": 0,
    "start_time": "2023-07-25T15:39:58.994Z"
   },
   {
    "duration": 91,
    "start_time": "2023-07-26T07:08:59.874Z"
   },
   {
    "duration": 1735,
    "start_time": "2023-07-26T07:09:13.516Z"
   },
   {
    "duration": 607,
    "start_time": "2023-07-26T07:09:15.254Z"
   },
   {
    "duration": 290,
    "start_time": "2023-07-26T07:09:15.862Z"
   },
   {
    "duration": 27,
    "start_time": "2023-07-26T07:09:16.155Z"
   },
   {
    "duration": 18,
    "start_time": "2023-07-26T07:09:16.184Z"
   },
   {
    "duration": 81,
    "start_time": "2023-07-26T07:09:16.203Z"
   },
   {
    "duration": 39,
    "start_time": "2023-07-26T07:09:16.286Z"
   },
   {
    "duration": 85,
    "start_time": "2023-07-26T07:09:16.332Z"
   },
   {
    "duration": 99,
    "start_time": "2023-07-26T07:09:16.419Z"
   },
   {
    "duration": 46,
    "start_time": "2023-07-26T07:09:16.527Z"
   },
   {
    "duration": 4263,
    "start_time": "2023-07-26T07:09:16.574Z"
   },
   {
    "duration": 25,
    "start_time": "2023-07-26T07:09:20.839Z"
   },
   {
    "duration": 7,
    "start_time": "2023-07-26T07:09:20.865Z"
   },
   {
    "duration": 19,
    "start_time": "2023-07-26T07:09:20.874Z"
   },
   {
    "duration": 71,
    "start_time": "2023-07-26T07:09:20.895Z"
   },
   {
    "duration": 27,
    "start_time": "2023-07-26T07:09:20.967Z"
   },
   {
    "duration": 84,
    "start_time": "2023-07-26T07:09:20.996Z"
   },
   {
    "duration": 16,
    "start_time": "2023-07-26T07:09:21.082Z"
   },
   {
    "duration": 73,
    "start_time": "2023-07-26T07:09:21.100Z"
   },
   {
    "duration": 801,
    "start_time": "2023-07-26T07:09:21.174Z"
   },
   {
    "duration": 5,
    "start_time": "2023-07-26T07:09:21.976Z"
   },
   {
    "duration": 6,
    "start_time": "2023-07-26T07:09:21.983Z"
   },
   {
    "duration": 166418,
    "start_time": "2023-07-26T07:09:21.999Z"
   },
   {
    "duration": 16,
    "start_time": "2023-07-26T07:12:08.429Z"
   },
   {
    "duration": 8,
    "start_time": "2023-07-26T10:07:51.038Z"
   },
   {
    "duration": 121,
    "start_time": "2023-07-26T10:09:56.459Z"
   },
   {
    "duration": 1860,
    "start_time": "2023-07-26T10:10:31.665Z"
   },
   {
    "duration": 2367,
    "start_time": "2023-07-26T10:10:43.989Z"
   },
   {
    "duration": 310,
    "start_time": "2023-07-26T10:13:20.621Z"
   },
   {
    "duration": 1492,
    "start_time": "2023-07-26T10:14:30.395Z"
   },
   {
    "duration": 567,
    "start_time": "2023-07-26T10:14:31.888Z"
   },
   {
    "duration": 71,
    "start_time": "2023-07-26T10:14:32.456Z"
   },
   {
    "duration": 27,
    "start_time": "2023-07-26T10:14:32.529Z"
   },
   {
    "duration": 12,
    "start_time": "2023-07-26T10:14:32.558Z"
   },
   {
    "duration": 78,
    "start_time": "2023-07-26T10:14:32.572Z"
   },
   {
    "duration": 30,
    "start_time": "2023-07-26T10:14:32.653Z"
   },
   {
    "duration": 12,
    "start_time": "2023-07-26T10:14:32.685Z"
   },
   {
    "duration": 65,
    "start_time": "2023-07-26T10:14:32.699Z"
   },
   {
    "duration": 19,
    "start_time": "2023-07-26T10:14:32.766Z"
   },
   {
    "duration": 2441,
    "start_time": "2023-07-26T10:14:32.787Z"
   },
   {
    "duration": 9,
    "start_time": "2023-07-26T10:14:35.237Z"
   },
   {
    "duration": 6,
    "start_time": "2023-07-26T10:14:35.247Z"
   },
   {
    "duration": 7,
    "start_time": "2023-07-26T10:14:35.254Z"
   },
   {
    "duration": 7,
    "start_time": "2023-07-26T10:14:35.262Z"
   },
   {
    "duration": 20,
    "start_time": "2023-07-26T10:14:35.270Z"
   },
   {
    "duration": 82,
    "start_time": "2023-07-26T10:14:35.292Z"
   },
   {
    "duration": 11,
    "start_time": "2023-07-26T10:14:35.376Z"
   },
   {
    "duration": 9,
    "start_time": "2023-07-26T10:14:35.388Z"
   },
   {
    "duration": 784,
    "start_time": "2023-07-26T10:14:35.398Z"
   },
   {
    "duration": 4,
    "start_time": "2023-07-26T10:14:36.184Z"
   },
   {
    "duration": 34,
    "start_time": "2023-07-26T10:14:36.207Z"
   },
   {
    "duration": 481,
    "start_time": "2023-07-26T10:14:36.244Z"
   },
   {
    "duration": 29,
    "start_time": "2023-07-26T10:14:36.735Z"
   },
   {
    "duration": 0,
    "start_time": "2023-07-26T10:14:36.766Z"
   },
   {
    "duration": 2600,
    "start_time": "2023-07-26T10:15:38.238Z"
   },
   {
    "duration": 1173,
    "start_time": "2023-07-26T10:16:06.322Z"
   },
   {
    "duration": 568,
    "start_time": "2023-07-26T10:16:07.497Z"
   },
   {
    "duration": 80,
    "start_time": "2023-07-26T10:16:08.099Z"
   },
   {
    "duration": 55,
    "start_time": "2023-07-26T10:16:08.202Z"
   },
   {
    "duration": 7,
    "start_time": "2023-07-26T10:16:08.259Z"
   },
   {
    "duration": 68,
    "start_time": "2023-07-26T10:16:08.267Z"
   },
   {
    "duration": 31,
    "start_time": "2023-07-26T10:16:08.337Z"
   },
   {
    "duration": 61,
    "start_time": "2023-07-26T10:16:08.370Z"
   },
   {
    "duration": 73,
    "start_time": "2023-07-26T10:16:08.433Z"
   },
   {
    "duration": 126,
    "start_time": "2023-07-26T10:16:08.510Z"
   },
   {
    "duration": 2797,
    "start_time": "2023-07-26T10:16:08.643Z"
   },
   {
    "duration": 8,
    "start_time": "2023-07-26T10:16:11.442Z"
   },
   {
    "duration": 6,
    "start_time": "2023-07-26T10:16:11.452Z"
   },
   {
    "duration": 6,
    "start_time": "2023-07-26T10:16:11.461Z"
   },
   {
    "duration": 8,
    "start_time": "2023-07-26T10:16:11.468Z"
   },
   {
    "duration": 12,
    "start_time": "2023-07-26T10:16:11.478Z"
   },
   {
    "duration": 89,
    "start_time": "2023-07-26T10:16:11.492Z"
   },
   {
    "duration": 53,
    "start_time": "2023-07-26T10:16:11.583Z"
   },
   {
    "duration": 15,
    "start_time": "2023-07-26T10:16:11.638Z"
   },
   {
    "duration": 675,
    "start_time": "2023-07-26T10:16:11.654Z"
   },
   {
    "duration": 5,
    "start_time": "2023-07-26T10:16:12.330Z"
   },
   {
    "duration": 17,
    "start_time": "2023-07-26T10:16:12.336Z"
   },
   {
    "duration": 2471,
    "start_time": "2023-07-26T10:16:12.354Z"
   },
   {
    "duration": 158,
    "start_time": "2023-07-26T10:16:14.826Z"
   },
   {
    "duration": 0,
    "start_time": "2023-07-26T10:16:14.986Z"
   },
   {
    "duration": 1232,
    "start_time": "2023-07-26T10:17:21.223Z"
   },
   {
    "duration": 383,
    "start_time": "2023-07-26T10:17:22.458Z"
   },
   {
    "duration": 65,
    "start_time": "2023-07-26T10:17:22.842Z"
   },
   {
    "duration": 20,
    "start_time": "2023-07-26T10:17:22.913Z"
   },
   {
    "duration": 41,
    "start_time": "2023-07-26T10:17:22.935Z"
   },
   {
    "duration": 19,
    "start_time": "2023-07-26T10:17:22.978Z"
   },
   {
    "duration": 65,
    "start_time": "2023-07-26T10:17:22.998Z"
   },
   {
    "duration": 90,
    "start_time": "2023-07-26T10:17:23.065Z"
   },
   {
    "duration": 31,
    "start_time": "2023-07-26T10:17:23.157Z"
   },
   {
    "duration": 102,
    "start_time": "2023-07-26T10:17:23.189Z"
   },
   {
    "duration": 2660,
    "start_time": "2023-07-26T10:17:23.293Z"
   },
   {
    "duration": 7,
    "start_time": "2023-07-26T10:17:25.954Z"
   },
   {
    "duration": 52,
    "start_time": "2023-07-26T10:17:25.978Z"
   },
   {
    "duration": 51,
    "start_time": "2023-07-26T10:17:26.035Z"
   },
   {
    "duration": 79,
    "start_time": "2023-07-26T10:17:26.088Z"
   },
   {
    "duration": 18,
    "start_time": "2023-07-26T10:17:26.168Z"
   },
   {
    "duration": 154,
    "start_time": "2023-07-26T10:17:26.187Z"
   },
   {
    "duration": 44,
    "start_time": "2023-07-26T10:17:26.343Z"
   },
   {
    "duration": 78,
    "start_time": "2023-07-26T10:17:26.389Z"
   },
   {
    "duration": 868,
    "start_time": "2023-07-26T10:17:26.469Z"
   },
   {
    "duration": 6,
    "start_time": "2023-07-26T10:17:27.349Z"
   },
   {
    "duration": 14,
    "start_time": "2023-07-26T10:17:27.357Z"
   },
   {
    "duration": 2720,
    "start_time": "2023-07-26T10:17:27.373Z"
   },
   {
    "duration": 168,
    "start_time": "2023-07-26T10:17:30.095Z"
   },
   {
    "duration": 0,
    "start_time": "2023-07-26T10:17:30.265Z"
   },
   {
    "duration": 1669,
    "start_time": "2023-07-26T10:18:32.376Z"
   },
   {
    "duration": 386,
    "start_time": "2023-07-26T10:18:34.051Z"
   },
   {
    "duration": 105,
    "start_time": "2023-07-26T10:18:34.446Z"
   },
   {
    "duration": 18,
    "start_time": "2023-07-26T10:18:34.563Z"
   },
   {
    "duration": 13,
    "start_time": "2023-07-26T10:18:34.583Z"
   },
   {
    "duration": 61,
    "start_time": "2023-07-26T10:18:34.598Z"
   },
   {
    "duration": 34,
    "start_time": "2023-07-26T10:18:34.661Z"
   },
   {
    "duration": 95,
    "start_time": "2023-07-26T10:18:34.697Z"
   },
   {
    "duration": 59,
    "start_time": "2023-07-26T10:18:34.795Z"
   },
   {
    "duration": 27,
    "start_time": "2023-07-26T10:18:34.861Z"
   },
   {
    "duration": 3477,
    "start_time": "2023-07-26T10:18:34.890Z"
   },
   {
    "duration": 7,
    "start_time": "2023-07-26T10:18:38.370Z"
   },
   {
    "duration": 82,
    "start_time": "2023-07-26T10:18:38.379Z"
   },
   {
    "duration": 21,
    "start_time": "2023-07-26T10:18:38.462Z"
   },
   {
    "duration": 20,
    "start_time": "2023-07-26T10:18:38.485Z"
   },
   {
    "duration": 52,
    "start_time": "2023-07-26T10:18:38.518Z"
   },
   {
    "duration": 43,
    "start_time": "2023-07-26T10:18:38.572Z"
   },
   {
    "duration": 45,
    "start_time": "2023-07-26T10:18:38.626Z"
   },
   {
    "duration": 40,
    "start_time": "2023-07-26T10:18:38.673Z"
   },
   {
    "duration": 958,
    "start_time": "2023-07-26T10:18:38.715Z"
   },
   {
    "duration": 4,
    "start_time": "2023-07-26T10:18:39.675Z"
   },
   {
    "duration": 86,
    "start_time": "2023-07-26T10:18:39.681Z"
   },
   {
    "duration": 2707,
    "start_time": "2023-07-26T10:18:39.769Z"
   },
   {
    "duration": 247,
    "start_time": "2023-07-26T10:18:42.478Z"
   },
   {
    "duration": 0,
    "start_time": "2023-07-26T10:18:42.727Z"
   },
   {
    "duration": 1561,
    "start_time": "2023-07-26T10:19:45.370Z"
   },
   {
    "duration": 519,
    "start_time": "2023-07-26T10:19:46.939Z"
   },
   {
    "duration": 78,
    "start_time": "2023-07-26T10:19:47.459Z"
   },
   {
    "duration": 18,
    "start_time": "2023-07-26T10:19:47.544Z"
   },
   {
    "duration": 31,
    "start_time": "2023-07-26T10:19:47.567Z"
   },
   {
    "duration": 46,
    "start_time": "2023-07-26T10:19:47.609Z"
   },
   {
    "duration": 11,
    "start_time": "2023-07-26T10:19:47.658Z"
   },
   {
    "duration": 81,
    "start_time": "2023-07-26T10:19:47.672Z"
   },
   {
    "duration": 24,
    "start_time": "2023-07-26T10:19:47.755Z"
   },
   {
    "duration": 71,
    "start_time": "2023-07-26T10:19:47.780Z"
   },
   {
    "duration": 2628,
    "start_time": "2023-07-26T10:19:47.858Z"
   },
   {
    "duration": 10,
    "start_time": "2023-07-26T10:19:50.488Z"
   },
   {
    "duration": 73,
    "start_time": "2023-07-26T10:19:50.501Z"
   },
   {
    "duration": 85,
    "start_time": "2023-07-26T10:19:50.579Z"
   },
   {
    "duration": 114,
    "start_time": "2023-07-26T10:19:50.666Z"
   },
   {
    "duration": 80,
    "start_time": "2023-07-26T10:19:50.782Z"
   },
   {
    "duration": 129,
    "start_time": "2023-07-26T10:19:50.864Z"
   },
   {
    "duration": 62,
    "start_time": "2023-07-26T10:19:50.995Z"
   },
   {
    "duration": 67,
    "start_time": "2023-07-26T10:19:51.058Z"
   },
   {
    "duration": 913,
    "start_time": "2023-07-26T10:19:51.128Z"
   },
   {
    "duration": 22,
    "start_time": "2023-07-26T10:19:52.054Z"
   },
   {
    "duration": 205,
    "start_time": "2023-07-26T10:19:52.078Z"
   },
   {
    "duration": 3032,
    "start_time": "2023-07-26T10:19:52.284Z"
   },
   {
    "duration": 192,
    "start_time": "2023-07-26T10:19:55.321Z"
   },
   {
    "duration": 0,
    "start_time": "2023-07-26T10:19:55.518Z"
   },
   {
    "duration": 1357,
    "start_time": "2023-07-26T10:20:10.333Z"
   },
   {
    "duration": 345,
    "start_time": "2023-07-26T10:20:11.692Z"
   },
   {
    "duration": 57,
    "start_time": "2023-07-26T10:20:12.039Z"
   },
   {
    "duration": 42,
    "start_time": "2023-07-26T10:20:12.097Z"
   },
   {
    "duration": 25,
    "start_time": "2023-07-26T10:20:12.142Z"
   },
   {
    "duration": 4,
    "start_time": "2023-07-26T10:20:12.169Z"
   },
   {
    "duration": 13,
    "start_time": "2023-07-26T10:20:12.174Z"
   },
   {
    "duration": 17,
    "start_time": "2023-07-26T10:20:12.189Z"
   },
   {
    "duration": 29,
    "start_time": "2023-07-26T10:20:12.208Z"
   },
   {
    "duration": 38,
    "start_time": "2023-07-26T10:20:12.240Z"
   },
   {
    "duration": 2546,
    "start_time": "2023-07-26T10:20:12.279Z"
   },
   {
    "duration": 10,
    "start_time": "2023-07-26T10:20:14.827Z"
   },
   {
    "duration": 26,
    "start_time": "2023-07-26T10:20:14.838Z"
   },
   {
    "duration": 10,
    "start_time": "2023-07-26T10:20:14.867Z"
   },
   {
    "duration": 12,
    "start_time": "2023-07-26T10:20:14.878Z"
   },
   {
    "duration": 32,
    "start_time": "2023-07-26T10:20:14.892Z"
   },
   {
    "duration": 56,
    "start_time": "2023-07-26T10:20:14.927Z"
   },
   {
    "duration": 11,
    "start_time": "2023-07-26T10:20:14.984Z"
   },
   {
    "duration": 55,
    "start_time": "2023-07-26T10:20:14.997Z"
   },
   {
    "duration": 794,
    "start_time": "2023-07-26T10:20:15.055Z"
   },
   {
    "duration": 7,
    "start_time": "2023-07-26T10:20:15.850Z"
   },
   {
    "duration": 19,
    "start_time": "2023-07-26T10:20:15.858Z"
   },
   {
    "duration": 2673,
    "start_time": "2023-07-26T10:20:15.878Z"
   },
   {
    "duration": 129,
    "start_time": "2023-07-26T10:20:18.553Z"
   },
   {
    "duration": 0,
    "start_time": "2023-07-26T10:20:18.683Z"
   },
   {
    "duration": 3,
    "start_time": "2023-07-26T10:22:36.091Z"
   },
   {
    "duration": 133696,
    "start_time": "2023-07-26T10:23:18.330Z"
   },
   {
    "duration": 4,
    "start_time": "2023-07-26T10:25:42.535Z"
   },
   {
    "duration": 8,
    "start_time": "2023-07-26T10:26:30.005Z"
   },
   {
    "duration": 91,
    "start_time": "2023-07-26T10:27:08.578Z"
   },
   {
    "duration": 343,
    "start_time": "2023-07-26T10:27:19.987Z"
   },
   {
    "duration": 230,
    "start_time": "2023-07-26T10:27:28.853Z"
   },
   {
    "duration": 161,
    "start_time": "2023-07-26T10:28:17.226Z"
   },
   {
    "duration": 2243,
    "start_time": "2023-07-26T10:29:11.952Z"
   },
   {
    "duration": 2303,
    "start_time": "2023-07-26T10:30:20.392Z"
   },
   {
    "duration": 1236,
    "start_time": "2023-07-26T10:31:07.631Z"
   },
   {
    "duration": 418,
    "start_time": "2023-07-26T10:31:08.869Z"
   },
   {
    "duration": 74,
    "start_time": "2023-07-26T10:31:09.289Z"
   },
   {
    "duration": 11,
    "start_time": "2023-07-26T10:31:09.365Z"
   },
   {
    "duration": 12,
    "start_time": "2023-07-26T10:31:09.377Z"
   },
   {
    "duration": 57,
    "start_time": "2023-07-26T10:31:09.390Z"
   },
   {
    "duration": 27,
    "start_time": "2023-07-26T10:31:09.449Z"
   },
   {
    "duration": 64,
    "start_time": "2023-07-26T10:31:09.478Z"
   },
   {
    "duration": 22,
    "start_time": "2023-07-26T10:31:09.543Z"
   },
   {
    "duration": 19,
    "start_time": "2023-07-26T10:31:09.567Z"
   },
   {
    "duration": 2608,
    "start_time": "2023-07-26T10:31:09.588Z"
   },
   {
    "duration": 30,
    "start_time": "2023-07-26T10:31:12.197Z"
   },
   {
    "duration": 9,
    "start_time": "2023-07-26T10:31:12.228Z"
   },
   {
    "duration": 21,
    "start_time": "2023-07-26T10:31:12.239Z"
   },
   {
    "duration": 15,
    "start_time": "2023-07-26T10:31:12.262Z"
   },
   {
    "duration": 52,
    "start_time": "2023-07-26T10:31:12.279Z"
   },
   {
    "duration": 37,
    "start_time": "2023-07-26T10:31:12.332Z"
   },
   {
    "duration": 10,
    "start_time": "2023-07-26T10:31:12.371Z"
   },
   {
    "duration": 52,
    "start_time": "2023-07-26T10:31:12.382Z"
   },
   {
    "duration": 683,
    "start_time": "2023-07-26T10:31:12.435Z"
   },
   {
    "duration": 5,
    "start_time": "2023-07-26T10:31:13.130Z"
   },
   {
    "duration": 11,
    "start_time": "2023-07-26T10:31:13.136Z"
   },
   {
    "duration": 2471,
    "start_time": "2023-07-26T10:31:13.148Z"
   },
   {
    "duration": 196,
    "start_time": "2023-07-26T10:31:15.625Z"
   },
   {
    "duration": 0,
    "start_time": "2023-07-26T10:31:15.823Z"
   },
   {
    "duration": 0,
    "start_time": "2023-07-26T10:31:15.827Z"
   },
   {
    "duration": 0,
    "start_time": "2023-07-26T10:31:15.827Z"
   },
   {
    "duration": 2394,
    "start_time": "2023-07-26T10:32:05.443Z"
   },
   {
    "duration": 2325,
    "start_time": "2023-07-26T10:33:09.729Z"
   },
   {
    "duration": 3,
    "start_time": "2023-07-26T10:33:24.429Z"
   },
   {
    "duration": 2363,
    "start_time": "2023-07-26T10:33:26.566Z"
   },
   {
    "duration": 2470,
    "start_time": "2023-07-26T10:46:15.721Z"
   },
   {
    "duration": 2306,
    "start_time": "2023-07-26T10:46:38.362Z"
   },
   {
    "duration": 1774,
    "start_time": "2023-07-26T10:46:55.014Z"
   },
   {
    "duration": 366,
    "start_time": "2023-07-26T10:46:56.791Z"
   },
   {
    "duration": 61,
    "start_time": "2023-07-26T10:46:57.158Z"
   },
   {
    "duration": 18,
    "start_time": "2023-07-26T10:46:57.221Z"
   },
   {
    "duration": 20,
    "start_time": "2023-07-26T10:46:57.241Z"
   },
   {
    "duration": 15,
    "start_time": "2023-07-26T10:46:57.263Z"
   },
   {
    "duration": 17,
    "start_time": "2023-07-26T10:46:57.280Z"
   },
   {
    "duration": 30,
    "start_time": "2023-07-26T10:46:57.305Z"
   },
   {
    "duration": 13,
    "start_time": "2023-07-26T10:46:57.337Z"
   },
   {
    "duration": 21,
    "start_time": "2023-07-26T10:46:57.353Z"
   },
   {
    "duration": 2254,
    "start_time": "2023-07-26T10:46:57.376Z"
   },
   {
    "duration": 5,
    "start_time": "2023-07-26T10:46:59.632Z"
   },
   {
    "duration": 5,
    "start_time": "2023-07-26T10:46:59.639Z"
   },
   {
    "duration": 6,
    "start_time": "2023-07-26T10:46:59.646Z"
   },
   {
    "duration": 14,
    "start_time": "2023-07-26T10:46:59.653Z"
   },
   {
    "duration": 42,
    "start_time": "2023-07-26T10:46:59.669Z"
   },
   {
    "duration": 41,
    "start_time": "2023-07-26T10:46:59.712Z"
   },
   {
    "duration": 9,
    "start_time": "2023-07-26T10:46:59.755Z"
   },
   {
    "duration": 7,
    "start_time": "2023-07-26T10:46:59.766Z"
   },
   {
    "duration": 650,
    "start_time": "2023-07-26T10:46:59.775Z"
   },
   {
    "duration": 4,
    "start_time": "2023-07-26T10:47:00.427Z"
   },
   {
    "duration": 48,
    "start_time": "2023-07-26T10:47:00.432Z"
   },
   {
    "duration": 2579,
    "start_time": "2023-07-26T10:47:00.482Z"
   },
   {
    "duration": 14503,
    "start_time": "2023-07-26T10:47:03.063Z"
   },
   {
    "duration": 4,
    "start_time": "2023-07-26T10:47:17.568Z"
   },
   {
    "duration": 2404,
    "start_time": "2023-07-26T10:51:13.482Z"
   },
   {
    "duration": 13105,
    "start_time": "2023-07-26T10:52:44.827Z"
   },
   {
    "duration": 10,
    "start_time": "2023-07-26T10:53:02.521Z"
   },
   {
    "duration": 4,
    "start_time": "2023-07-26T10:54:31.078Z"
   },
   {
    "duration": 1125,
    "start_time": "2023-07-26T10:54:58.930Z"
   },
   {
    "duration": 434,
    "start_time": "2023-07-26T10:55:00.056Z"
   },
   {
    "duration": 74,
    "start_time": "2023-07-26T10:55:00.492Z"
   },
   {
    "duration": 14,
    "start_time": "2023-07-26T10:55:00.567Z"
   },
   {
    "duration": 47,
    "start_time": "2023-07-26T10:55:00.583Z"
   },
   {
    "duration": 45,
    "start_time": "2023-07-26T10:55:00.632Z"
   },
   {
    "duration": 150,
    "start_time": "2023-07-26T10:55:00.679Z"
   },
   {
    "duration": 49,
    "start_time": "2023-07-26T10:55:00.832Z"
   },
   {
    "duration": 54,
    "start_time": "2023-07-26T10:55:00.882Z"
   },
   {
    "duration": 57,
    "start_time": "2023-07-26T10:55:00.938Z"
   },
   {
    "duration": 2869,
    "start_time": "2023-07-26T10:55:00.996Z"
   },
   {
    "duration": 6,
    "start_time": "2023-07-26T10:55:03.867Z"
   },
   {
    "duration": 16,
    "start_time": "2023-07-26T10:55:03.875Z"
   },
   {
    "duration": 43,
    "start_time": "2023-07-26T10:55:03.893Z"
   },
   {
    "duration": 15,
    "start_time": "2023-07-26T10:55:03.938Z"
   },
   {
    "duration": 13,
    "start_time": "2023-07-26T10:55:03.955Z"
   },
   {
    "duration": 50,
    "start_time": "2023-07-26T10:55:03.970Z"
   },
   {
    "duration": 13,
    "start_time": "2023-07-26T10:55:04.026Z"
   },
   {
    "duration": 3,
    "start_time": "2023-07-26T10:55:04.040Z"
   },
   {
    "duration": 714,
    "start_time": "2023-07-26T10:55:04.045Z"
   },
   {
    "duration": 5,
    "start_time": "2023-07-26T10:55:04.760Z"
   },
   {
    "duration": 66,
    "start_time": "2023-07-26T10:55:04.767Z"
   },
   {
    "duration": 2534,
    "start_time": "2023-07-26T10:55:04.835Z"
   },
   {
    "duration": 3,
    "start_time": "2023-07-26T10:55:07.370Z"
   },
   {
    "duration": 12713,
    "start_time": "2023-07-26T10:55:07.374Z"
   },
   {
    "duration": 4,
    "start_time": "2023-07-26T10:55:20.088Z"
   },
   {
    "duration": 2293,
    "start_time": "2023-07-26T10:56:23.229Z"
   },
   {
    "duration": 2244,
    "start_time": "2023-07-26T10:56:36.241Z"
   },
   {
    "duration": 2,
    "start_time": "2023-07-26T10:56:41.027Z"
   },
   {
    "duration": 2454,
    "start_time": "2023-07-26T10:58:05.359Z"
   },
   {
    "duration": 1139,
    "start_time": "2023-07-26T10:58:24.526Z"
   },
   {
    "duration": 323,
    "start_time": "2023-07-26T10:58:25.667Z"
   },
   {
    "duration": 85,
    "start_time": "2023-07-26T10:58:25.992Z"
   },
   {
    "duration": 18,
    "start_time": "2023-07-26T10:58:26.079Z"
   },
   {
    "duration": 56,
    "start_time": "2023-07-26T10:58:26.100Z"
   },
   {
    "duration": 11,
    "start_time": "2023-07-26T10:58:26.158Z"
   },
   {
    "duration": 16,
    "start_time": "2023-07-26T10:58:26.173Z"
   },
   {
    "duration": 24,
    "start_time": "2023-07-26T10:58:26.192Z"
   },
   {
    "duration": 40,
    "start_time": "2023-07-26T10:58:26.218Z"
   },
   {
    "duration": 30,
    "start_time": "2023-07-26T10:58:26.260Z"
   },
   {
    "duration": 2286,
    "start_time": "2023-07-26T10:58:26.292Z"
   },
   {
    "duration": 7,
    "start_time": "2023-07-26T10:58:28.581Z"
   },
   {
    "duration": 54,
    "start_time": "2023-07-26T10:58:28.590Z"
   },
   {
    "duration": 8,
    "start_time": "2023-07-26T10:58:28.647Z"
   },
   {
    "duration": 21,
    "start_time": "2023-07-26T10:58:28.657Z"
   },
   {
    "duration": 12,
    "start_time": "2023-07-26T10:58:28.680Z"
   },
   {
    "duration": 61,
    "start_time": "2023-07-26T10:58:28.694Z"
   },
   {
    "duration": 18,
    "start_time": "2023-07-26T10:58:28.756Z"
   },
   {
    "duration": 52,
    "start_time": "2023-07-26T10:58:28.776Z"
   },
   {
    "duration": 698,
    "start_time": "2023-07-26T10:58:28.831Z"
   },
   {
    "duration": 4,
    "start_time": "2023-07-26T10:58:29.534Z"
   },
   {
    "duration": 13,
    "start_time": "2023-07-26T10:58:29.540Z"
   },
   {
    "duration": 194,
    "start_time": "2023-07-26T10:58:29.554Z"
   },
   {
    "duration": 0,
    "start_time": "2023-07-26T10:58:29.750Z"
   },
   {
    "duration": 0,
    "start_time": "2023-07-26T10:58:29.752Z"
   },
   {
    "duration": 0,
    "start_time": "2023-07-26T10:58:29.753Z"
   },
   {
    "duration": 2285,
    "start_time": "2023-07-26T10:58:47.471Z"
   },
   {
    "duration": 3,
    "start_time": "2023-07-26T10:59:20.927Z"
   },
   {
    "duration": 14390,
    "start_time": "2023-07-26T11:00:35.647Z"
   },
   {
    "duration": 29755,
    "start_time": "2023-07-26T11:01:14.283Z"
   },
   {
    "duration": 15571,
    "start_time": "2023-07-26T11:02:45.246Z"
   },
   {
    "duration": 14405,
    "start_time": "2023-07-26T11:03:25.665Z"
   },
   {
    "duration": 14590,
    "start_time": "2023-07-26T11:04:23.287Z"
   },
   {
    "duration": 3,
    "start_time": "2023-07-26T11:05:49.861Z"
   },
   {
    "duration": 14363,
    "start_time": "2023-07-26T11:05:51.141Z"
   },
   {
    "duration": 15126,
    "start_time": "2023-07-26T11:06:30.325Z"
   },
   {
    "duration": 3,
    "start_time": "2023-07-26T11:13:24.638Z"
   },
   {
    "duration": 12186,
    "start_time": "2023-07-26T11:17:19.768Z"
   },
   {
    "duration": 10169,
    "start_time": "2023-07-26T11:17:41.333Z"
   },
   {
    "duration": 1313,
    "start_time": "2023-07-26T11:20:06.478Z"
   },
   {
    "duration": 656,
    "start_time": "2023-07-26T11:20:07.793Z"
   },
   {
    "duration": 72,
    "start_time": "2023-07-26T11:20:08.451Z"
   },
   {
    "duration": 16,
    "start_time": "2023-07-26T11:20:08.532Z"
   },
   {
    "duration": 8,
    "start_time": "2023-07-26T11:20:08.550Z"
   },
   {
    "duration": 19,
    "start_time": "2023-07-26T11:20:08.559Z"
   },
   {
    "duration": 42,
    "start_time": "2023-07-26T11:20:08.579Z"
   },
   {
    "duration": 16,
    "start_time": "2023-07-26T11:20:08.634Z"
   },
   {
    "duration": 87,
    "start_time": "2023-07-26T11:20:08.652Z"
   },
   {
    "duration": 39,
    "start_time": "2023-07-26T11:20:08.741Z"
   },
   {
    "duration": 2288,
    "start_time": "2023-07-26T11:20:08.782Z"
   },
   {
    "duration": 6,
    "start_time": "2023-07-26T11:20:11.072Z"
   },
   {
    "duration": 21,
    "start_time": "2023-07-26T11:20:11.080Z"
   },
   {
    "duration": 41,
    "start_time": "2023-07-26T11:20:11.114Z"
   },
   {
    "duration": 15,
    "start_time": "2023-07-26T11:20:11.157Z"
   },
   {
    "duration": 31,
    "start_time": "2023-07-26T11:20:11.174Z"
   },
   {
    "duration": 73,
    "start_time": "2023-07-26T11:20:11.206Z"
   },
   {
    "duration": 15,
    "start_time": "2023-07-26T11:20:11.280Z"
   },
   {
    "duration": 56,
    "start_time": "2023-07-26T11:20:11.296Z"
   },
   {
    "duration": 694,
    "start_time": "2023-07-26T11:20:11.353Z"
   },
   {
    "duration": 5,
    "start_time": "2023-07-26T11:20:12.049Z"
   },
   {
    "duration": 16,
    "start_time": "2023-07-26T11:20:12.055Z"
   },
   {
    "duration": 2481,
    "start_time": "2023-07-26T11:20:12.073Z"
   },
   {
    "duration": 3,
    "start_time": "2023-07-26T11:20:14.556Z"
   },
   {
    "duration": 12960,
    "start_time": "2023-07-26T11:20:14.561Z"
   },
   {
    "duration": 12,
    "start_time": "2023-07-26T11:20:27.526Z"
   },
   {
    "duration": 13116,
    "start_time": "2023-07-26T11:20:27.542Z"
   },
   {
    "duration": 13714,
    "start_time": "2023-07-26T11:21:00.535Z"
   },
   {
    "duration": 3,
    "start_time": "2023-07-26T11:24:31.844Z"
   },
   {
    "duration": 12,
    "start_time": "2023-07-26T11:26:32.020Z"
   },
   {
    "duration": 133,
    "start_time": "2023-07-26T11:27:34.922Z"
   },
   {
    "duration": 17,
    "start_time": "2023-07-26T11:27:40.792Z"
   },
   {
    "duration": 5,
    "start_time": "2023-07-26T11:28:01.883Z"
   },
   {
    "duration": 7,
    "start_time": "2023-07-26T11:35:12.738Z"
   },
   {
    "duration": 6,
    "start_time": "2023-07-26T11:35:21.248Z"
   },
   {
    "duration": 4,
    "start_time": "2023-07-26T11:43:11.061Z"
   },
   {
    "duration": 168,
    "start_time": "2023-07-26T11:48:00.461Z"
   },
   {
    "duration": 161,
    "start_time": "2023-07-26T11:50:36.468Z"
   },
   {
    "duration": 209,
    "start_time": "2023-07-26T11:51:49.819Z"
   },
   {
    "duration": 174,
    "start_time": "2023-07-26T11:52:16.244Z"
   },
   {
    "duration": 134,
    "start_time": "2023-07-26T11:52:43.026Z"
   },
   {
    "duration": 201,
    "start_time": "2023-07-26T11:53:04.552Z"
   },
   {
    "duration": 163,
    "start_time": "2023-07-26T11:53:24.527Z"
   },
   {
    "duration": 197,
    "start_time": "2023-07-26T11:53:48.890Z"
   },
   {
    "duration": 185,
    "start_time": "2023-07-26T11:53:58.154Z"
   },
   {
    "duration": 206,
    "start_time": "2023-07-26T11:54:02.539Z"
   },
   {
    "duration": 228,
    "start_time": "2023-07-26T11:56:20.233Z"
   },
   {
    "duration": 179,
    "start_time": "2023-07-26T12:01:09.962Z"
   },
   {
    "duration": 330,
    "start_time": "2023-07-26T12:01:42.327Z"
   },
   {
    "duration": 341,
    "start_time": "2023-07-26T12:08:25.154Z"
   },
   {
    "duration": 105,
    "start_time": "2023-07-26T12:14:42.427Z"
   },
   {
    "duration": 423,
    "start_time": "2023-07-26T12:14:59.815Z"
   },
   {
    "duration": 346,
    "start_time": "2023-07-26T12:22:39.931Z"
   },
   {
    "duration": 1982,
    "start_time": "2023-07-26T12:26:57.923Z"
   },
   {
    "duration": 335,
    "start_time": "2023-07-26T12:27:09.057Z"
   },
   {
    "duration": 39,
    "start_time": "2023-07-26T12:32:15.900Z"
   },
   {
    "duration": 29,
    "start_time": "2023-07-26T12:32:58.726Z"
   },
   {
    "duration": 28,
    "start_time": "2023-07-26T12:34:09.131Z"
   },
   {
    "duration": 263,
    "start_time": "2023-07-26T12:36:23.717Z"
   },
   {
    "duration": 91,
    "start_time": "2023-07-26T12:41:13.426Z"
   },
   {
    "duration": 40,
    "start_time": "2023-07-26T12:45:43.414Z"
   },
   {
    "duration": 37,
    "start_time": "2023-07-26T12:45:52.581Z"
   },
   {
    "duration": 21,
    "start_time": "2023-07-26T12:57:17.923Z"
   },
   {
    "duration": 3,
    "start_time": "2023-07-26T12:57:38.286Z"
   },
   {
    "duration": 19,
    "start_time": "2023-07-26T12:57:44.030Z"
   },
   {
    "duration": 22,
    "start_time": "2023-07-26T12:59:31.801Z"
   },
   {
    "duration": 42,
    "start_time": "2023-07-26T13:01:10.279Z"
   },
   {
    "duration": 44,
    "start_time": "2023-07-26T13:01:24.593Z"
   },
   {
    "duration": 13,
    "start_time": "2023-07-26T13:02:40.623Z"
   },
   {
    "duration": 309,
    "start_time": "2023-07-26T13:04:46.662Z"
   },
   {
    "duration": 31,
    "start_time": "2023-07-26T13:05:14.130Z"
   },
   {
    "duration": 334,
    "start_time": "2023-07-26T13:08:03.521Z"
   },
   {
    "duration": 38,
    "start_time": "2023-07-26T13:08:05.118Z"
   },
   {
    "duration": 21,
    "start_time": "2023-07-26T13:16:53.718Z"
   },
   {
    "duration": 18,
    "start_time": "2023-07-26T13:17:54.427Z"
   },
   {
    "duration": 162,
    "start_time": "2023-07-26T13:17:56.175Z"
   },
   {
    "duration": 49,
    "start_time": "2023-07-26T13:17:58.480Z"
   },
   {
    "duration": 790,
    "start_time": "2023-07-26T13:29:36.627Z"
   },
   {
    "duration": 339,
    "start_time": "2023-07-26T13:43:12.939Z"
   },
   {
    "duration": 329,
    "start_time": "2023-07-26T14:00:48.497Z"
   },
   {
    "duration": 1204,
    "start_time": "2023-07-26T14:07:04.416Z"
   },
   {
    "duration": 341,
    "start_time": "2023-07-26T14:07:05.622Z"
   },
   {
    "duration": 98,
    "start_time": "2023-07-26T14:07:05.965Z"
   },
   {
    "duration": 15,
    "start_time": "2023-07-26T14:07:06.065Z"
   },
   {
    "duration": 20,
    "start_time": "2023-07-26T14:07:06.084Z"
   },
   {
    "duration": 47,
    "start_time": "2023-07-26T14:07:06.106Z"
   },
   {
    "duration": 59,
    "start_time": "2023-07-26T14:07:06.154Z"
   },
   {
    "duration": 39,
    "start_time": "2023-07-26T14:07:06.215Z"
   },
   {
    "duration": 18,
    "start_time": "2023-07-26T14:07:06.256Z"
   },
   {
    "duration": 76,
    "start_time": "2023-07-26T14:07:06.275Z"
   },
   {
    "duration": 2117,
    "start_time": "2023-07-26T14:07:06.352Z"
   },
   {
    "duration": 6,
    "start_time": "2023-07-26T14:07:08.470Z"
   },
   {
    "duration": 14,
    "start_time": "2023-07-26T14:07:08.477Z"
   },
   {
    "duration": 33,
    "start_time": "2023-07-26T14:07:08.494Z"
   },
   {
    "duration": 13,
    "start_time": "2023-07-26T14:07:08.529Z"
   },
   {
    "duration": 16,
    "start_time": "2023-07-26T14:07:08.544Z"
   },
   {
    "duration": 35,
    "start_time": "2023-07-26T14:07:08.562Z"
   },
   {
    "duration": 33,
    "start_time": "2023-07-26T14:07:08.605Z"
   },
   {
    "duration": 17,
    "start_time": "2023-07-26T14:07:08.639Z"
   },
   {
    "duration": 616,
    "start_time": "2023-07-26T14:07:08.658Z"
   },
   {
    "duration": 3,
    "start_time": "2023-07-26T14:07:09.276Z"
   },
   {
    "duration": 60,
    "start_time": "2023-07-26T14:07:09.280Z"
   },
   {
    "duration": 2191,
    "start_time": "2023-07-26T14:07:09.342Z"
   },
   {
    "duration": 3,
    "start_time": "2023-07-26T14:07:11.536Z"
   },
   {
    "duration": 12422,
    "start_time": "2023-07-26T14:07:11.541Z"
   },
   {
    "duration": 3,
    "start_time": "2023-07-26T14:07:23.965Z"
   },
   {
    "duration": 2061,
    "start_time": "2023-07-26T14:07:23.969Z"
   },
   {
    "duration": 439,
    "start_time": "2023-07-26T14:07:26.036Z"
   },
   {
    "duration": 45,
    "start_time": "2023-07-26T14:07:26.477Z"
   },
   {
    "duration": 242,
    "start_time": "2023-07-26T14:07:26.524Z"
   },
   {
    "duration": 59,
    "start_time": "2023-07-26T14:07:26.767Z"
   },
   {
    "duration": 100,
    "start_time": "2023-07-26T14:07:26.829Z"
   },
   {
    "duration": 41,
    "start_time": "2023-07-26T14:07:26.931Z"
   },
   {
    "duration": 305,
    "start_time": "2023-07-26T14:07:26.974Z"
   },
   {
    "duration": 46,
    "start_time": "2023-07-26T14:07:27.280Z"
   },
   {
    "duration": 191,
    "start_time": "2023-07-26T14:07:27.328Z"
   },
   {
    "duration": 59,
    "start_time": "2023-07-26T14:07:27.521Z"
   },
   {
    "duration": 144,
    "start_time": "2023-07-26T14:07:27.582Z"
   },
   {
    "duration": 72,
    "start_time": "2023-07-26T14:07:27.731Z"
   },
   {
    "duration": 809,
    "start_time": "2023-07-26T14:07:27.805Z"
   },
   {
    "duration": 308,
    "start_time": "2023-07-26T14:07:28.620Z"
   },
   {
    "duration": 1312,
    "start_time": "2023-07-27T08:10:54.271Z"
   },
   {
    "duration": 282,
    "start_time": "2023-07-27T08:10:55.585Z"
   },
   {
    "duration": 377,
    "start_time": "2023-07-27T08:10:55.868Z"
   },
   {
    "duration": 12,
    "start_time": "2023-07-27T08:10:56.247Z"
   },
   {
    "duration": 11,
    "start_time": "2023-07-27T08:10:56.260Z"
   },
   {
    "duration": 17,
    "start_time": "2023-07-27T08:10:56.272Z"
   },
   {
    "duration": 8,
    "start_time": "2023-07-27T08:10:56.291Z"
   },
   {
    "duration": 10,
    "start_time": "2023-07-27T08:10:56.301Z"
   },
   {
    "duration": 17,
    "start_time": "2023-07-27T08:10:56.313Z"
   },
   {
    "duration": 18,
    "start_time": "2023-07-27T08:10:56.332Z"
   },
   {
    "duration": 3170,
    "start_time": "2023-07-27T08:10:56.351Z"
   },
   {
    "duration": 5,
    "start_time": "2023-07-27T08:10:59.523Z"
   },
   {
    "duration": 22,
    "start_time": "2023-07-27T08:10:59.530Z"
   },
   {
    "duration": 8,
    "start_time": "2023-07-27T08:10:59.554Z"
   },
   {
    "duration": 5,
    "start_time": "2023-07-27T08:10:59.564Z"
   },
   {
    "duration": 15,
    "start_time": "2023-07-27T08:10:59.570Z"
   },
   {
    "duration": 28,
    "start_time": "2023-07-27T08:10:59.586Z"
   },
   {
    "duration": 10,
    "start_time": "2023-07-27T08:10:59.615Z"
   },
   {
    "duration": 19,
    "start_time": "2023-07-27T08:10:59.626Z"
   },
   {
    "duration": 593,
    "start_time": "2023-07-27T08:10:59.646Z"
   },
   {
    "duration": 4,
    "start_time": "2023-07-27T08:11:00.241Z"
   },
   {
    "duration": 32,
    "start_time": "2023-07-27T08:11:00.246Z"
   },
   {
    "duration": 2150,
    "start_time": "2023-07-27T08:11:00.279Z"
   },
   {
    "duration": 3,
    "start_time": "2023-07-27T08:11:02.430Z"
   },
   {
    "duration": 11691,
    "start_time": "2023-07-27T08:11:02.434Z"
   },
   {
    "duration": 3,
    "start_time": "2023-07-27T08:11:14.127Z"
   },
   {
    "duration": 2465,
    "start_time": "2023-07-27T08:11:14.132Z"
   },
   {
    "duration": 459,
    "start_time": "2023-07-27T08:11:16.675Z"
   },
   {
    "duration": 25,
    "start_time": "2023-07-27T08:11:17.135Z"
   },
   {
    "duration": 204,
    "start_time": "2023-07-27T08:11:17.162Z"
   },
   {
    "duration": 21,
    "start_time": "2023-07-27T08:11:17.368Z"
   },
   {
    "duration": 189,
    "start_time": "2023-07-27T08:11:17.391Z"
   },
   {
    "duration": 33,
    "start_time": "2023-07-27T08:11:17.581Z"
   },
   {
    "duration": 265,
    "start_time": "2023-07-27T08:11:17.616Z"
   },
   {
    "duration": 26,
    "start_time": "2023-07-27T08:11:17.882Z"
   },
   {
    "duration": 103,
    "start_time": "2023-07-27T08:11:17.976Z"
   },
   {
    "duration": 17,
    "start_time": "2023-07-27T08:11:18.080Z"
   },
   {
    "duration": 122,
    "start_time": "2023-07-27T08:11:18.098Z"
   },
   {
    "duration": 54,
    "start_time": "2023-07-27T08:11:18.221Z"
   },
   {
    "duration": 747,
    "start_time": "2023-07-27T08:11:18.278Z"
   },
   {
    "duration": 288,
    "start_time": "2023-07-27T08:11:19.026Z"
   },
   {
    "duration": 319,
    "start_time": "2023-07-27T08:22:21.528Z"
   },
   {
    "duration": 5,
    "start_time": "2023-07-27T08:35:16.985Z"
   },
   {
    "duration": 114,
    "start_time": "2023-07-27T08:35:37.380Z"
   },
   {
    "duration": 118,
    "start_time": "2023-07-27T08:36:39.636Z"
   },
   {
    "duration": 412,
    "start_time": "2023-07-27T08:39:09.189Z"
   },
   {
    "duration": 148,
    "start_time": "2023-07-27T08:43:38.486Z"
   },
   {
    "duration": 381,
    "start_time": "2023-07-27T08:45:45.348Z"
   },
   {
    "duration": 3,
    "start_time": "2023-07-27T08:49:19.319Z"
   },
   {
    "duration": 3,
    "start_time": "2023-07-27T08:56:19.691Z"
   },
   {
    "duration": 139,
    "start_time": "2023-07-27T09:00:40.168Z"
   },
   {
    "duration": 626,
    "start_time": "2023-07-27T09:01:04.184Z"
   },
   {
    "duration": 3,
    "start_time": "2023-07-27T09:02:02.843Z"
   },
   {
    "duration": 260,
    "start_time": "2023-07-27T09:06:12.765Z"
   },
   {
    "duration": 395,
    "start_time": "2023-07-27T09:16:38.457Z"
   },
   {
    "duration": 348,
    "start_time": "2023-07-27T09:17:10.063Z"
   },
   {
    "duration": 268,
    "start_time": "2023-07-27T09:22:02.683Z"
   },
   {
    "duration": 1206,
    "start_time": "2023-07-27T09:28:01.982Z"
   },
   {
    "duration": 787,
    "start_time": "2023-07-27T09:28:03.190Z"
   },
   {
    "duration": 51,
    "start_time": "2023-07-27T09:28:03.979Z"
   },
   {
    "duration": 11,
    "start_time": "2023-07-27T09:28:04.032Z"
   },
   {
    "duration": 26,
    "start_time": "2023-07-27T09:28:04.045Z"
   },
   {
    "duration": 18,
    "start_time": "2023-07-27T09:28:04.073Z"
   },
   {
    "duration": 31,
    "start_time": "2023-07-27T09:28:04.093Z"
   },
   {
    "duration": 28,
    "start_time": "2023-07-27T09:28:04.126Z"
   },
   {
    "duration": 23,
    "start_time": "2023-07-27T09:28:04.156Z"
   },
   {
    "duration": 34,
    "start_time": "2023-07-27T09:28:04.183Z"
   },
   {
    "duration": 2128,
    "start_time": "2023-07-27T09:28:04.219Z"
   },
   {
    "duration": 5,
    "start_time": "2023-07-27T09:28:06.349Z"
   },
   {
    "duration": 10,
    "start_time": "2023-07-27T09:28:06.355Z"
   },
   {
    "duration": 6,
    "start_time": "2023-07-27T09:28:06.366Z"
   },
   {
    "duration": 11,
    "start_time": "2023-07-27T09:28:06.373Z"
   },
   {
    "duration": 10,
    "start_time": "2023-07-27T09:28:06.386Z"
   },
   {
    "duration": 43,
    "start_time": "2023-07-27T09:28:06.397Z"
   },
   {
    "duration": 10,
    "start_time": "2023-07-27T09:28:06.442Z"
   },
   {
    "duration": 26,
    "start_time": "2023-07-27T09:28:06.453Z"
   },
   {
    "duration": 636,
    "start_time": "2023-07-27T09:28:06.481Z"
   },
   {
    "duration": 5,
    "start_time": "2023-07-27T09:28:07.119Z"
   },
   {
    "duration": 12,
    "start_time": "2023-07-27T09:28:07.126Z"
   },
   {
    "duration": 2093,
    "start_time": "2023-07-27T09:28:07.140Z"
   },
   {
    "duration": 2,
    "start_time": "2023-07-27T09:28:09.235Z"
   },
   {
    "duration": 11731,
    "start_time": "2023-07-27T09:28:09.238Z"
   },
   {
    "duration": 4,
    "start_time": "2023-07-27T09:28:20.971Z"
   },
   {
    "duration": 2903,
    "start_time": "2023-07-27T09:28:20.977Z"
   },
   {
    "duration": 362,
    "start_time": "2023-07-27T09:28:23.974Z"
   },
   {
    "duration": 3,
    "start_time": "2023-07-27T09:28:24.337Z"
   },
   {
    "duration": 58,
    "start_time": "2023-07-27T09:28:24.342Z"
   },
   {
    "duration": 194,
    "start_time": "2023-07-27T09:28:24.402Z"
   },
   {
    "duration": 20,
    "start_time": "2023-07-27T09:28:24.598Z"
   },
   {
    "duration": 156,
    "start_time": "2023-07-27T09:28:24.620Z"
   },
   {
    "duration": 35,
    "start_time": "2023-07-27T09:28:24.778Z"
   },
   {
    "duration": 273,
    "start_time": "2023-07-27T09:28:24.815Z"
   },
   {
    "duration": 85,
    "start_time": "2023-07-27T09:28:25.090Z"
   },
   {
    "duration": 102,
    "start_time": "2023-07-27T09:28:25.177Z"
   },
   {
    "duration": 23,
    "start_time": "2023-07-27T09:28:25.281Z"
   },
   {
    "duration": 136,
    "start_time": "2023-07-27T09:28:25.305Z"
   },
   {
    "duration": 34,
    "start_time": "2023-07-27T09:28:25.442Z"
   },
   {
    "duration": 759,
    "start_time": "2023-07-27T09:28:25.478Z"
   },
   {
    "duration": 2,
    "start_time": "2023-07-27T09:28:26.239Z"
   },
   {
    "duration": 268,
    "start_time": "2023-07-27T09:28:26.243Z"
   },
   {
    "duration": 389,
    "start_time": "2023-07-27T09:28:26.512Z"
   }
  ],
  "kernelspec": {
   "display_name": "Python 3 (ipykernel)",
   "language": "python",
   "name": "python3"
  },
  "language_info": {
   "codemirror_mode": {
    "name": "ipython",
    "version": 3
   },
   "file_extension": ".py",
   "mimetype": "text/x-python",
   "name": "python",
   "nbconvert_exporter": "python",
   "pygments_lexer": "ipython3",
   "version": "3.10.9"
  },
  "toc": {
   "base_numbering": 1,
   "nav_menu": {},
   "number_sections": true,
   "sideBar": true,
   "skip_h1_title": true,
   "title_cell": "Содержание",
   "title_sidebar": "Contents",
   "toc_cell": true,
   "toc_position": {},
   "toc_section_display": true,
   "toc_window_display": true
  }
 },
 "nbformat": 4,
 "nbformat_minor": 2
}
